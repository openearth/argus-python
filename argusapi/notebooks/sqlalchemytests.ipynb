{
 "metadata": {
  "name": "sqlalchemytests"
 },
 "nbformat": 3,
 "nbformat_minor": 0,
 "worksheets": [
  {
   "cells": [
    {
     "cell_type": "code",
     "collapsed": false,
     "input": [
      "import json\n",
      "import decimal \n",
      "import urllib # for decoding urls"
     ],
     "language": "python",
     "metadata": {},
     "outputs": [],
     "prompt_number": "*"
    },
    {
     "cell_type": "code",
     "collapsed": false,
     "input": [
      "import sqlalchemy\n",
      "from sqlalchemy.sql  import and_\n",
      "from sqlalchemy.sql import column\n",
      "from sqlalchemy.ext.declarative import declarative_base\n",
      "from sqlalchemy.types import UserDefinedType\n",
      "from sqlalchemy.types import TypeDecorator, _Binary\n",
      "\n",
      "sqlalchemy.__version__"
     ],
     "language": "python",
     "metadata": {},
     "outputs": [],
     "prompt_number": "*"
    },
    {
     "cell_type": "code",
     "collapsed": false,
     "input": [
      "class ExtendedEncoder(json.JSONEncoder):\n",
      "    \"\"\"extended encoder with support for arbitrary iterables and decimals\"\"\"\n",
      "    def default(self, o):\n",
      "        if isinstance(o, decimal.Decimal):\n",
      "            return float(o)\n",
      "        # try iterables\n",
      "        try:\n",
      "           iterable = iter(o)\n",
      "        except TypeError:\n",
      "           pass\n",
      "        else:\n",
      "           return list(iterable)\n",
      "        return super(ExtendedEncoder, self).default(o)\n",
      "    \n",
      "class MexBlob(TypeDecorator):\n",
      "    \"\"\"Represents a blob that is really a mex object.\n",
      "\n",
      "    Usage::\n",
      "\n",
      "        MexBlob('\\x00\\x00')\n",
      "\n",
      "    \"\"\"\n",
      "\n",
      "    impl = _Binary\n",
      "\n",
      "    def process_bind_param(self, value, dialect):\n",
      "        if value is not None:\n",
      "            value = value\n",
      "\n",
      "        return value\n",
      "\n",
      "    def process_result_value(self, value, dialect):\n",
      "        if value is not None:\n",
      "            value = buffer(value)\n",
      "        # todo: return the mex blob as array\n",
      "        return [bin(ord(x)) for x in value]\n",
      "    \n"
     ],
     "language": "python",
     "metadata": {},
     "outputs": [],
     "prompt_number": 2
    },
    {
     "cell_type": "code",
     "collapsed": false,
     "input": [
      "#dburl = 'sqlite:///../argusapi.sqlite'\n",
      "dburl = 'mysql+oursql://localhost/argusdeltares'\n",
      "engine = sqlalchemy.create_engine(dburl)\n"
     ],
     "language": "python",
     "metadata": {},
     "outputs": [],
     "prompt_number": "*"
    },
    {
     "cell_type": "code",
     "collapsed": false,
     "input": [
      "# Create a metadata database, bound to the engine\n",
      "metadata = sqlalchemy.MetaData(bind=engine)\n",
      "# inspect all the tables\n",
      "metadata.reflect()\n",
      "# set custom types that we know about\n",
      "custom_types = {'camera': \n",
      "    {\n",
      "    'K': MexBlob(),\n",
      "    'Dtan': MexBlob(),\n",
      "    'Drad': MexBlob()\n",
      "    }\n",
      "    }\n",
      "# For all the tables, ...\n",
      "for table_name, types in custom_types.items():\n",
      "    table = metadata.tables[table_name]\n",
      "    # with all the custom types\n",
      "    for column_name, type_ in types.items():\n",
      "        # make sure they are deserialized\n",
      "        table.c.get(column_name).type = type_"
     ],
     "language": "python",
     "metadata": {},
     "outputs": [],
     "prompt_number": "*"
    },
    {
     "cell_type": "code",
     "collapsed": false,
     "input": [
      "# filter from url\n",
      "# /tables/camera/id/KDXX01C?seq=1\n",
      "# \n",
      "# table name\n",
      "table_name = 'camera'\n",
      "filter = () # ('id', 'KDXX01C')\n",
      "filter = ('stationID', 'DUXX01S')\n",
      "params = {'cameraNumber': 6} #{'seq': \"1\"}\n",
      "keys = filter[0::2]\n",
      "values = filter[1::2]\n",
      "args = dict(zip(keys, values))\n",
      "args.update(params)\n"
     ],
     "language": "python",
     "metadata": {},
     "outputs": [],
     "prompt_number": "*"
    },
    {
     "cell_type": "code",
     "collapsed": false,
     "input": [
      "# Get the table\n",
      "table = metadata.tables[table_name]\n",
      "# Build the where clause, default to ''\n",
      "where = reduce(and_, (column(key)==value for (key,value) in args.items()),'')\n",
      "\n",
      "# Execute the sql\n",
      "rs = table.select(where).execute()\n",
      "\n",
      "# dump to json\n",
      "print json.dumps(rs, cls=ExtendedEncoder)\n"
     ],
     "language": "python",
     "metadata": {},
     "outputs": [],
     "prompt_number": "*"
    },
    {
     "cell_type": "code",
     "collapsed": false,
     "input": [
      "# Possible extras\n",
      "# Check the amount of records to be returned\n",
      "nrows = table.select(where).alias('t1').count().execute().fetchone()[0]"
     ],
     "language": "python",
     "metadata": {},
     "outputs": [],
     "prompt_number": "*"
    },
    {
     "cell_type": "code",
     "collapsed": false,
     "input": [
      "# more advanced filters\n",
      "query = 'id%3E1'\n",
      "from sqlalchemy.sql.operators import ge, gt, lt, le\n",
      "def towhere(query):\n",
      "    operators = {\n",
      "        '>=':ge,\n",
      "        '<=':le,\n",
      "        '>':gt,\n",
      "        '<':lt\n",
      "    }\n",
      "    for operator_name, operator in operators.iteritems():\n",
      "        # not sure how to get this into pyramid\n",
      "        split = urllib.unquote(query).split(operator_name)\n",
      "        if len(split) == 2:\n",
      "            key, value = split\n",
      "            where = operator(table.c.get(key),value)\n",
      "            return where\n",
      "    return ''\n",
      "where = towhere(query)\n",
      "print where\n",
      "print table.select(where)"
     ],
     "language": "python",
     "metadata": {},
     "outputs": [],
     "prompt_number": "*"
    },
    {
     "cell_type": "code",
     "collapsed": false,
     "input": [],
     "language": "python",
     "metadata": {},
     "outputs": [],
     "prompt_number": 25
    },
    {
     "cell_type": "code",
     "collapsed": false,
     "input": [],
     "language": "python",
     "metadata": {},
     "outputs": [],
     "prompt_number": 25
    }
   ],
   "metadata": {}
  }
 ]
}