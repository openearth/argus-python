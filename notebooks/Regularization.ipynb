{
 "metadata": {
  "name": ""
 },
 "nbformat": 3,
 "nbformat_minor": 0,
 "worksheets": [
  {
   "cells": [
    {
     "cell_type": "code",
     "collapsed": false,
     "input": [
      "import json\n",
      "\n",
      "with open('/flamingo/checkouts/openearthtools/applications/flamingo/data/class_aggregation.json', 'r') as fp:\n",
      "    ca = json.load(fp)"
     ],
     "language": "python",
     "metadata": {},
     "outputs": [],
     "prompt_number": 1
    },
    {
     "cell_type": "code",
     "collapsed": false,
     "input": [
      "import cPickle as pickle\n",
      "from flamingo import filesys, classify\n",
      "\n",
      "ds = 'argusnl'\n",
      "model_name = 'model_CRF_ARGUSNL_I192_B6_20141203203419.0.pkl'"
     ],
     "language": "python",
     "metadata": {},
     "outputs": [],
     "prompt_number": 2
    },
    {
     "cell_type": "code",
     "collapsed": false,
     "input": [
      "for fname in filesys.get_model_list(ds)[-10:]:\n",
      "    if 'backup' in fname:\n",
      "        continue\n",
      "    model, meta = filesys.read_model_file(ds, fname)\n",
      "    print fname, model.C"
     ],
     "language": "python",
     "metadata": {},
     "outputs": [
      {
       "output_type": "stream",
       "stream": "stdout",
       "text": [
        "model_CRF_ARGUSNL_I192_B6_20141127213923.0.pkl 1.0\n",
        "model_CRF_ARGUSNL_I192_B6_20141127213926.1.pkl"
       ]
      },
      {
       "output_type": "stream",
       "stream": "stdout",
       "text": [
        " 1.0\n",
        "model_CRF_ARGUSNL_I192_B6_20141203203419.0.pkl"
       ]
      },
      {
       "output_type": "stream",
       "stream": "stdout",
       "text": [
        " 0.1\n",
        "model_CRF_ARGUSNL_I192_B6_20141205112409.0.pkl"
       ]
      },
      {
       "output_type": "stream",
       "stream": "stdout",
       "text": [
        " 1\n",
        "model_CRF_ARGUSNL_I192_B6_20141207134056.0.pkl"
       ]
      },
      {
       "output_type": "stream",
       "stream": "stdout",
       "text": [
        " 10\n",
        "model_CRF_ARGUSNL_I192_B6_20141212081806.0.pkl"
       ]
      },
      {
       "output_type": "stream",
       "stream": "stdout",
       "text": [
        " 0.01\n"
       ]
      }
     ],
     "prompt_number": 9
    },
    {
     "cell_type": "code",
     "collapsed": false,
     "input": [
      "model, meta, train_sets, test_sets, prior_sets = classify.reinitialize_model(ds, model_name, class_aggregation=ca)"
     ],
     "language": "python",
     "metadata": {},
     "outputs": [
      {
       "output_type": "stream",
       "stream": "stderr",
       "text": [
        "ERROR:root:Unexpected aggregation error (numpy)\n"
       ]
      },
      {
       "output_type": "stream",
       "stream": "stderr",
       "text": [
        "ERROR:root:Unexpected aggregation error (numpy)\n"
       ]
      },
      {
       "output_type": "stream",
       "stream": "stderr",
       "text": [
        "ERROR:root:Unexpected aggregation error (numpy)\n"
       ]
      },
      {
       "output_type": "stream",
       "stream": "stderr",
       "text": [
        "ERROR:root:Unexpected aggregation error (numpy)\n"
       ]
      }
     ],
     "prompt_number": 3
    },
    {
     "cell_type": "code",
     "collapsed": false,
     "input": [
      "print model.score(train_sets[0][0], train_sets[0][1])\n",
      "print model.score(test_sets[0][0], test_sets[0][1])"
     ],
     "language": "python",
     "metadata": {},
     "outputs": [
      {
       "output_type": "stream",
       "stream": "stdout",
       "text": [
        "0.960045179688\n",
        "0.933503472938"
       ]
      },
      {
       "output_type": "stream",
       "stream": "stdout",
       "text": [
        "\n"
       ]
      }
     ],
     "prompt_number": 4
    },
    {
     "cell_type": "code",
     "collapsed": false,
     "input": [
      "from flamingo import classification as cls\n",
      "\n",
      "cls.models.score_models([[model]], train_sets, test_sets)"
     ],
     "language": "python",
     "metadata": {},
     "outputs": [
      {
       "html": [
        "<div style=\"max-height:1000px;max-width:1500px;overflow:auto;\">\n",
        "<table border=\"1\" class=\"dataframe\">\n",
        "  <thead>\n",
        "    <tr style=\"text-align: right;\">\n",
        "      <th></th>\n",
        "      <th></th>\n",
        "      <th>train</th>\n",
        "      <th>test</th>\n",
        "    </tr>\n",
        "    <tr>\n",
        "      <th>model</th>\n",
        "      <th>set</th>\n",
        "      <th></th>\n",
        "      <th></th>\n",
        "    </tr>\n",
        "  </thead>\n",
        "  <tbody>\n",
        "    <tr>\n",
        "      <th>flamingo.classification.models.ConditionalRandomField</th>\n",
        "      <th>0</th>\n",
        "      <td> 0.960045</td>\n",
        "      <td> 0.933503</td>\n",
        "    </tr>\n",
        "  </tbody>\n",
        "</table>\n",
        "<p>1 rows \u00d7 2 columns</p>\n",
        "</div>"
       ],
       "metadata": {},
       "output_type": "pyout",
       "prompt_number": 5,
       "text": [
        "                                                              train      test\n",
        "model                                                 set                    \n",
        "flamingo.classification.models.ConditionalRandomField 0    0.960045  0.933503\n",
        "\n",
        "[1 rows x 2 columns]"
       ]
      }
     ],
     "prompt_number": 5
    },
    {
     "cell_type": "code",
     "collapsed": false,
     "input": [
      "classify.run_scoring(ds, models=model_name, class_aggregation=ca)"
     ],
     "language": "python",
     "metadata": {},
     "outputs": [
      {
       "output_type": "stream",
       "stream": "stderr",
       "text": [
        "ERROR:root:Unexpected aggregation error (numpy)\n"
       ]
      },
      {
       "output_type": "stream",
       "stream": "stderr",
       "text": [
        "ERROR:root:Unexpected aggregation error (numpy)\n"
       ]
      },
      {
       "output_type": "stream",
       "stream": "stderr",
       "text": [
        "ERROR:root:Unexpected aggregation error (numpy)\n"
       ]
      },
      {
       "output_type": "stream",
       "stream": "stderr",
       "text": [
        "ERROR:root:Unexpected aggregation error (numpy)\n"
       ]
      },
      {
       "output_type": "stream",
       "stream": "stdout",
       "text": [
        "argusnl ['model_CRF_ARGUSNL_I192_B6_20141203203419.0.pkl'] {u'water': [u'watersea', u'waterpool'], u'sand': [u'sandbeach', u'sanddune'], u'object': [u'objectsea', u'objectbeach', u'objectdune']}\n"
       ]
      },
      {
       "html": [
        "<div style=\"max-height:1000px;max-width:1500px;overflow:auto;\">\n",
        "<table border=\"1\" class=\"dataframe\">\n",
        "  <thead>\n",
        "    <tr style=\"text-align: right;\">\n",
        "      <th></th>\n",
        "      <th></th>\n",
        "      <th>train</th>\n",
        "      <th>test</th>\n",
        "    </tr>\n",
        "    <tr>\n",
        "      <th>model</th>\n",
        "      <th>set</th>\n",
        "      <th></th>\n",
        "      <th></th>\n",
        "    </tr>\n",
        "  </thead>\n",
        "  <tbody>\n",
        "    <tr>\n",
        "      <th>flamingo.classification.models.ConditionalRandomField</th>\n",
        "      <th>0</th>\n",
        "      <td> 0.960045</td>\n",
        "      <td> 0.933503</td>\n",
        "    </tr>\n",
        "  </tbody>\n",
        "</table>\n",
        "<p>1 rows \u00d7 2 columns</p>\n",
        "</div>"
       ],
       "metadata": {},
       "output_type": "pyout",
       "prompt_number": 3,
       "text": [
        "                                                              train      test\n",
        "model                                                 set                    \n",
        "flamingo.classification.models.ConditionalRandomField 0    0.960045  0.933503\n",
        "\n",
        "[1 rows x 2 columns]"
       ]
      }
     ],
     "prompt_number": 3
    },
    {
     "cell_type": "code",
     "collapsed": false,
     "input": [
      "model.C"
     ],
     "language": "python",
     "metadata": {},
     "outputs": [
      {
       "metadata": {},
       "output_type": "pyout",
       "prompt_number": 8,
       "text": [
        "10"
       ]
      }
     ],
     "prompt_number": 8
    },
    {
     "cell_type": "raw",
     "metadata": {},
     "source": [
      "regularisatie\n",
      "\n",
      "'model_CRF_ARGUSNL_I192_B6_20141212081806.0.pkl', C = 0.01,  0.949323  0.92935\n",
      "\n",
      "'model_CRF_ARGUSNL_I192_B6_20141215224054.0.pkl', C = 0.03,  0.95388  0.928283\n",
      "\n",
      "'model_CRF_ARGUSNL_I192_B6_20141203203419.0.pkl', C = 0.1,  0.960045, 0.933503\n",
      "\n",
      "'model_CRF_ARGUSNL_I192_B6_ .0.pkl', C = 0.3,  \n",
      "\n",
      "'model_CRF_ARGUSNL_I192_B6_ .0.pkl', C = 0.6,  \n",
      "\n",
      "'model_CRF_ARGUSNL_I192_B6_20141205112409.0.pkl', C = 1,    0.96193,  0.92699\n",
      "\n",
      "'model_CRF_ARGUSNL_I192_B6_20141207134056.0.pkl', C = 10,   0.9304,   0.8615"
     ]
    },
    {
     "cell_type": "code",
     "collapsed": false,
     "input": [
      "C = np.asarray([.01, .03, .1, .3, .6, 1, 10])\n",
      "train = np.asarray([0.949323, 0.95388, 0.960045, np.nan, np.nan, 0.96193, 0.9304])\n",
      "test = np.asarray([0.92935, 0.928283, 0.933503, np.nan, np.nan, 0.92699, 0.8615])\n",
      "\n",
      "train = np.interp(np.log(C), np.log(C[~np.isnan(train)]), train[~np.isnan(train)])\n",
      "test = np.interp(np.log(C), np.log(C[~np.isnan(test)]), test[~np.isnan(test)])\n",
      "\n",
      "fig, axs = subplots()\n",
      "axs.plot(C, 100.*train, '-ob', label='train set')\n",
      "axs.plot(C, 100.*test, '-sg', label='test set')\n",
      "axs.set_xscale('log')\n",
      "axs.set_ylim((80, 100))\n",
      "axs.set_xlabel('regularization parameter $C$')\n",
      "axs.set_ylabel('model score [$\\%$]')\n",
      "axs.legend(loc='lower left')\n",
      "axs.grid()"
     ],
     "language": "python",
     "metadata": {},
     "outputs": [
      {
       "metadata": {},
       "output_type": "display_data",
       "png": "[encoded data removed]",
       "text": [
        "<matplotlib.figure.Figure at 0x24a1350>"
       ]
      }
     ],
     "prompt_number": 2
    },
    {
     "cell_type": "code",
     "collapsed": false,
     "input": [],
     "language": "python",
     "metadata": {},
     "outputs": [],
     "prompt_number": 1
    },
    {
     "cell_type": "code",
     "collapsed": false,
     "input": [],
     "language": "python",
     "metadata": {},
     "outputs": []
    }
   ],
   "metadata": {}
  }
 ]
}