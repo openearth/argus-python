{
 "metadata": {
  "name": "Select trainingdata"
 },
 "nbformat": 3,
 "nbformat_minor": 0,
 "worksheets": [
  {
   "cells": [
    {
     "cell_type": "code",
     "collapsed": false,
     "input": [
      "import numpy as np\n",
      "from argus2.catalog import html_parser\n",
      "import setuptools\n",
      "import random\n",
      "import argus2\n",
      "import re\n",
      "import urllib2\n",
      "import datetime\n",
      "import time\n",
      "import base64\n",
      "import pickle"
     ],
     "language": "python",
     "metadata": {},
     "outputs": [],
     "prompt_number": 1
    },
    {
     "cell_type": "code",
     "collapsed": false,
     "input": [
      "# parameters\n",
      "stations = ['jvspeijk','egmond','kijkduin','zandmotor']\n",
      "datelims = [2012,'November',2013,'October']\n",
      "picpercam = 4\n",
      "daytime = True\n",
      "sunrise = False\n",
      "sunset = False\n",
      "sunrisetime = 8\n",
      "sunsettime = 15\n",
      "summer = True\n",
      "winter = False\n",
      "summermonths = range(5,10)\n",
      "wintermonths = range(1,5)\n",
      "wintermonths.extend(range(10,13))"
     ],
     "language": "python",
     "metadata": {},
     "outputs": [],
     "prompt_number": 2
    },
    {
     "cell_type": "code",
     "collapsed": false,
     "input": [
      "years = range(datelims[0],datelims[2]+1)\n",
      "images = []\n",
      "\n",
      "for i in range(len(stations)):\n",
      "    \n",
      "    cameras = argus2.catalog.html_parser.get_station_cameras(stations[i],datelims[2])\n",
      "    \n",
      "    months = []\n",
      "    for j in years:\n",
      "        ymonths = argus2.catalog.html_parser.get_station_months(stations[i],str(j))\n",
      "        if ymonths:\n",
      "            if (j == datelims[0]) & (j != datelims[2]):\n",
      "                months.append([x for x in ymonths if time.strptime(x,'%B') >= time.strptime(datelims[1],'%B')])\n",
      "            elif (j != datelims[0]) & (j == datelims[2]):\n",
      "                months.append([x for x in ymonths if time.strptime(x,'%B') <= time.strptime(datelims[3],'%B')])\n",
      "            elif (j == datelims[0]) & (j == datelims[2]):\n",
      "                months.append([x for x in ymonths if (time.strptime(x,'%B') >= time.strptime(datelims[1],'%B')) & (time.strptime(x,'%B') <= time.strptime(datelims[3],'%B'))])\n",
      "            else:\n",
      "                months.append(ymonths)\n",
      "        else:\n",
      "            months.append([])\n",
      "            \n",
      "    if not summer:          # Remove summer months from list\n",
      "        summon = []\n",
      "        for j in summermonths:\n",
      "            timobj = datetime.date(2013,j,1)\n",
      "            summon.append(timobj.strftime('%B'))\n",
      "        for j in range(len(months)):\n",
      "            for k in range(len(summon)):\n",
      "                if summon[k] in months[j]:\n",
      "                    months[j].remove(summon[k])\n",
      "                    \n",
      "    if not winter:        # Remove winter months from list\n",
      "        winmon = []\n",
      "        for j in wintermonths:\n",
      "            timobj = datetime.date(2013,j,1)\n",
      "            winmon.append(timobj.strftime('%B'))        \n",
      "        for j in range(len(months)):\n",
      "            for k in range(len(winmon)):\n",
      "                if winmon[k] in months[j]:\n",
      "                    months[j].remove(winmon[k])\n",
      "                   \n",
      "    days = []\n",
      "    for k in range(len(months)):   # This is the number of years..\n",
      "        if not months[k]:\n",
      "            continue\n",
      "            \n",
      "        for l in range(len(months[k])):     # This is the number of months..\n",
      "            days.extend([time.strptime(x + '_' + months[k][l] + '_' + str(years[k]),'%a %d_%B_%Y') for x in argus2.catalog.html_parser.get_station_days(stations[i],years[k],months[k][l])])\n",
      "        random.shuffle(days)\n",
      "        \n",
      "    count = 0\n",
      "        \n",
      "    for j in range(len(cameras)):\n",
      "        for l in range(0,picpercam):\n",
      "            while True:\n",
      "                dayimsall = argus2.catalog.html_parser.get_station_images(stations[i],str(years[k]),time.strftime('%B',days[count]),time.strftime('%d',days[count]))\n",
      "                count = count + 1\n",
      "                \n",
      "                if not dayimsall:\n",
      "                    continue\n",
      "                 \n",
      "                dayims = []\n",
      "                dayims.extend([x for x in dayimsall if ('.c' + cameras[j] + '.') in x])\n",
      "                    \n",
      "                if not dayims:\n",
      "                    continue\n",
      "                        \n",
      "                if (not sunrise) | (not sunset) | (not daytime):\n",
      "                    imtimes = []\n",
      "                    regexp = re.compile('_(\\d{2}_\\d{2}_\\d{2})')\n",
      "                    imtimes.extend([time.strptime(regexp.findall(x)[0],'%H_%M_%S') for x in dayims])\n",
      "                    if not sunrise:\n",
      "                        imind = [imtimes.index(x) for x in imtimes if x.tm_hour < sunrisetime]\n",
      "                        imind.reverse()\n",
      "                        [dayims.pop(x) for x in imind]\n",
      "                        [imtimes.pop(x) for x in imind]\n",
      "                    if not sunset:\n",
      "                        imind = [imtimes.index(x) for x in imtimes if x.tm_hour >= sunsettime]\n",
      "                        imind.reverse()\n",
      "                        [dayims.pop(x) for x in imind]\n",
      "                        [imtimes.pop(x) for x in imind]\n",
      "                    if not daytime:\n",
      "                        imind = [imtimes.index(x) for x in imtimes if (x.tm_hour >= sunrisetime) & (x.tm_hour < sunsettime)]\n",
      "                        imind.reverse()\n",
      "                        [dayims.pop(x) for x in imind]\n",
      "                        [imtimes.pop(x) for x in imind]\n",
      "                    if not dayims:\n",
      "                        continue\n",
      "                images.extend(random.sample(dayims,1))\n",
      "                break"
     ],
     "language": "python",
     "metadata": {},
     "outputs": [],
     "prompt_number": 3
    },
    {
     "cell_type": "code",
     "collapsed": false,
     "input": [
      "len(images)"
     ],
     "language": "python",
     "metadata": {},
     "outputs": [
      {
       "output_type": "pyout",
       "prompt_number": 5,
       "text": [
        "96"
       ]
      }
     ],
     "prompt_number": 5
    },
    {
     "cell_type": "code",
     "collapsed": false,
     "input": [
      "with open('images_additional.txt','w') as f:\n",
      "    for image in images:\n",
      "        f.write(image + \"\\n\")"
     ],
     "language": "python",
     "metadata": {},
     "outputs": [],
     "prompt_number": 7
    },
    {
     "cell_type": "code",
     "collapsed": false,
     "input": [],
     "language": "python",
     "metadata": {},
     "outputs": [],
     "prompt_number": 9
    },
    {
     "cell_type": "code",
     "collapsed": false,
     "input": [],
     "language": "python",
     "metadata": {},
     "outputs": [],
     "prompt_number": 9
    },
    {
     "cell_type": "code",
     "collapsed": false,
     "input": [],
     "language": "python",
     "metadata": {},
     "outputs": []
    }
   ],
   "metadata": {}
  }
 ]
}