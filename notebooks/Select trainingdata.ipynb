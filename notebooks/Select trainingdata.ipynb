{
 "metadata": {
  "name": ""
 },
 "nbformat": 3,
 "nbformat_minor": 0,
 "worksheets": [
  {
   "cells": [
    {
     "cell_type": "code",
     "collapsed": false,
     "input": [
      "import numpy as np\n",
      "from argus2 import html_parser\n",
      "import setuptools\n",
      "import random\n",
      "import argus2\n",
      "import re\n",
      "import urllib2\n",
      "import datetime\n",
      "import time\n",
      "import base64\n",
      "import pickle"
     ],
     "language": "python",
     "metadata": {},
     "outputs": [
      {
       "output_type": "stream",
       "stream": "stderr",
       "text": [
        "/flamingo/virtualenvs/flamingo/local/lib/python2.7/site-packages/matplotlib/__init__.py:1155: UserWarning:  This call to matplotlib.use() has no effect\n",
        "because the backend has already been chosen;\n",
        "matplotlib.use() must be called *before* pylab, matplotlib.pyplot,\n",
        "or matplotlib.backends is imported for the first time.\n",
        "\n",
        "  warnings.warn(_use_error_msg)\n"
       ]
      }
     ],
     "prompt_number": 1
    },
    {
     "cell_type": "code",
     "collapsed": false,
     "input": [
      "# parameters\n",
      "stations = ['jvspeijk','egmond','kijkduin','zandmotor']\n",
      "datelims = [2011,'November',2013,'October']\n",
      "picpercam = 100\n",
      "daytime = True\n",
      "sunrise = True\n",
      "sunset = True\n",
      "sunrisetime = 8\n",
      "sunsettime = 15\n",
      "summer = True\n",
      "winter = True\n",
      "summermonths = range(5,10)\n",
      "wintermonths = range(1,5)\n",
      "wintermonths.extend(range(10,13))"
     ],
     "language": "python",
     "metadata": {},
     "outputs": [],
     "prompt_number": 7
    },
    {
     "cell_type": "code",
     "collapsed": false,
     "input": [
      "years = range(datelims[0],datelims[2]+1)\n",
      "images = []\n",
      "\n",
      "for i in range(len(stations)):\n",
      "    \n",
      "    cameras = argus2.html_parser.get_station_cameras(stations[i],datelims[2])\n",
      "    \n",
      "    months = []\n",
      "    for j in years:\n",
      "        ymonths = argus2.html_parser.get_station_months(stations[i],str(j))\n",
      "        if ymonths:\n",
      "            if (j == datelims[0]) & (j != datelims[2]):\n",
      "                months.append([x for x in ymonths if time.strptime(x,'%B') >= time.strptime(datelims[1],'%B')])\n",
      "            elif (j != datelims[0]) & (j == datelims[2]):\n",
      "                months.append([x for x in ymonths if time.strptime(x,'%B') <= time.strptime(datelims[3],'%B')])\n",
      "            elif (j == datelims[0]) & (j == datelims[2]):\n",
      "                months.append([x for x in ymonths if (time.strptime(x,'%B') >= time.strptime(datelims[1],'%B')) & (time.strptime(x,'%B') <= time.strptime(datelims[3],'%B'))])\n",
      "            else:\n",
      "                months.append(ymonths)\n",
      "        else:\n",
      "            months.append([])\n",
      "            \n",
      "    if not summer:          # Remove summer months from list\n",
      "        summon = []\n",
      "        for j in summermonths:\n",
      "            timobj = datetime.date(2013,j,1)\n",
      "            summon.append(timobj.strftime('%B'))\n",
      "        for j in range(len(months)):\n",
      "            for k in range(len(summon)):\n",
      "                if summon[k] in months[j]:\n",
      "                    months[j].remove(summon[k])\n",
      "                    \n",
      "    if not winter:        # Remove winter months from list\n",
      "        winmon = []\n",
      "        for j in wintermonths:\n",
      "            timobj = datetime.date(2013,j,1)\n",
      "            winmon.append(timobj.strftime('%B'))        \n",
      "        for j in range(len(months)):\n",
      "            for k in range(len(winmon)):\n",
      "                if winmon[k] in months[j]:\n",
      "                    months[j].remove(winmon[k])\n",
      "                   \n",
      "    days = []\n",
      "    for k in range(len(months)):   # This is the number of years..\n",
      "        if not months[k]:\n",
      "            continue\n",
      "            \n",
      "        for l in range(len(months[k])):     # This is the number of months..\n",
      "            days.extend([time.strptime(x + '_' + months[k][l] + '_' + str(years[k]),'%a %d_%B_%Y') for x in argus2.html_parser.get_station_days(stations[i],years[k],months[k][l])])\n",
      "        random.shuffle(days)\n",
      "        \n",
      "    count = 0\n",
      "        \n",
      "    for j in range(len(cameras)):\n",
      "        for l in range(0,picpercam):\n",
      "            while True:\n",
      "                dayimsall = argus2.html_parser.get_station_images(stations[i],str(years[k]),time.strftime('%B',days[count]),time.strftime('%d',days[count]))\n",
      "                count = count + 1\n",
      "                \n",
      "                if not dayimsall:\n",
      "                    continue\n",
      "                 \n",
      "                dayims = []\n",
      "                dayims.extend([x for x in dayimsall if ('.c' + cameras[j] + '.') in x])\n",
      "                    \n",
      "                if not dayims:\n",
      "                    continue\n",
      "                        \n",
      "                if (not sunrise) | (not sunset) | (not daytime):\n",
      "                    imtimes = []\n",
      "                    regexp = re.compile('_(\\d{2}_\\d{2}_\\d{2})')\n",
      "                    imtimes.extend([time.strptime(regexp.findall(x)[0],'%H_%M_%S') for x in dayims])\n",
      "                    if not sunrise:\n",
      "                        imind = [imtimes.index(x) for x in imtimes if x.tm_hour < sunrisetime]\n",
      "                        imind.reverse()\n",
      "                        [dayims.pop(x) for x in imind]\n",
      "                        [imtimes.pop(x) for x in imind]\n",
      "                    if not sunset:\n",
      "                        imind = [imtimes.index(x) for x in imtimes if x.tm_hour >= sunsettime]\n",
      "                        imind.reverse()\n",
      "                        [dayims.pop(x) for x in imind]\n",
      "                        [imtimes.pop(x) for x in imind]\n",
      "                    if not daytime:\n",
      "                        imind = [imtimes.index(x) for x in imtimes if (x.tm_hour >= sunrisetime) & (x.tm_hour < sunsettime)]\n",
      "                        imind.reverse()\n",
      "                        [dayims.pop(x) for x in imind]\n",
      "                        [imtimes.pop(x) for x in imind]\n",
      "                    if not dayims:\n",
      "                        continue\n",
      "                images.extend(random.sample(dayims,1))\n",
      "                break"
     ],
     "language": "python",
     "metadata": {},
     "outputs": [
      {
       "ename": "ValueError",
       "evalue": "day is out of range for month",
       "output_type": "pyerr",
       "traceback": [
        "\u001b[1;31m---------------------------------------------------------------------------\u001b[0m\n\u001b[1;31mValueError\u001b[0m                                Traceback (most recent call last)",
        "\u001b[1;32m<ipython-input-14-1aa6e7ed39c4>\u001b[0m in \u001b[0;36m<module>\u001b[1;34m()\u001b[0m\n\u001b[0;32m     55\u001b[0m         \u001b[1;32mfor\u001b[0m \u001b[0ml\u001b[0m \u001b[1;32min\u001b[0m \u001b[0mrange\u001b[0m\u001b[1;33m(\u001b[0m\u001b[1;36m0\u001b[0m\u001b[1;33m,\u001b[0m\u001b[0mpicpercam\u001b[0m\u001b[1;33m)\u001b[0m\u001b[1;33m:\u001b[0m\u001b[1;33m\u001b[0m\u001b[0m\n\u001b[0;32m     56\u001b[0m             \u001b[1;32mwhile\u001b[0m \u001b[0mTrue\u001b[0m\u001b[1;33m:\u001b[0m\u001b[1;33m\u001b[0m\u001b[0m\n\u001b[1;32m---> 57\u001b[1;33m                 \u001b[0mdayimsall\u001b[0m \u001b[1;33m=\u001b[0m \u001b[0margus2\u001b[0m\u001b[1;33m.\u001b[0m\u001b[0mhtml_parser\u001b[0m\u001b[1;33m.\u001b[0m\u001b[0mget_station_images\u001b[0m\u001b[1;33m(\u001b[0m\u001b[0mstations\u001b[0m\u001b[1;33m[\u001b[0m\u001b[0mi\u001b[0m\u001b[1;33m]\u001b[0m\u001b[1;33m,\u001b[0m\u001b[0mstr\u001b[0m\u001b[1;33m(\u001b[0m\u001b[0myears\u001b[0m\u001b[1;33m[\u001b[0m\u001b[0mk\u001b[0m\u001b[1;33m]\u001b[0m\u001b[1;33m)\u001b[0m\u001b[1;33m,\u001b[0m\u001b[0mtime\u001b[0m\u001b[1;33m.\u001b[0m\u001b[0mstrftime\u001b[0m\u001b[1;33m(\u001b[0m\u001b[1;34m'%B'\u001b[0m\u001b[1;33m,\u001b[0m\u001b[0mdays\u001b[0m\u001b[1;33m[\u001b[0m\u001b[0mcount\u001b[0m\u001b[1;33m]\u001b[0m\u001b[1;33m)\u001b[0m\u001b[1;33m,\u001b[0m\u001b[0mtime\u001b[0m\u001b[1;33m.\u001b[0m\u001b[0mstrftime\u001b[0m\u001b[1;33m(\u001b[0m\u001b[1;34m'%d'\u001b[0m\u001b[1;33m,\u001b[0m\u001b[0mdays\u001b[0m\u001b[1;33m[\u001b[0m\u001b[0mcount\u001b[0m\u001b[1;33m]\u001b[0m\u001b[1;33m)\u001b[0m\u001b[1;33m)\u001b[0m\u001b[1;33m\u001b[0m\u001b[0m\n\u001b[0m\u001b[0;32m     58\u001b[0m                 \u001b[0mcount\u001b[0m \u001b[1;33m=\u001b[0m \u001b[0mcount\u001b[0m \u001b[1;33m+\u001b[0m \u001b[1;36m1\u001b[0m\u001b[1;33m\u001b[0m\u001b[0m\n\u001b[0;32m     59\u001b[0m \u001b[1;33m\u001b[0m\u001b[0m\n",
        "\u001b[1;32m/flamingo/checkouts/openearthtools/applications/argus2/argus2/html_parser.py\u001b[0m in \u001b[0;36mget_station_images\u001b[1;34m(station, year, month, day, series, imgtype)\u001b[0m\n\u001b[0;32m     56\u001b[0m \u001b[1;32mdef\u001b[0m \u001b[0mget_station_images\u001b[0m\u001b[1;33m(\u001b[0m\u001b[0mstation\u001b[0m\u001b[1;33m,\u001b[0m \u001b[0myear\u001b[0m\u001b[1;33m=\u001b[0m\u001b[0mNone\u001b[0m\u001b[1;33m,\u001b[0m \u001b[0mmonth\u001b[0m\u001b[1;33m=\u001b[0m\u001b[0mNone\u001b[0m\u001b[1;33m,\u001b[0m \u001b[0mday\u001b[0m\u001b[1;33m=\u001b[0m\u001b[0mNone\u001b[0m\u001b[1;33m,\u001b[0m \u001b[0mseries\u001b[0m\u001b[1;33m=\u001b[0m\u001b[0mNone\u001b[0m\u001b[1;33m,\u001b[0m \u001b[0mimgtype\u001b[0m\u001b[1;33m=\u001b[0m\u001b[1;34m'snap'\u001b[0m\u001b[1;33m)\u001b[0m\u001b[1;33m:\u001b[0m\u001b[1;33m\u001b[0m\u001b[0m\n\u001b[0;32m     57\u001b[0m \u001b[1;33m\u001b[0m\u001b[0m\n\u001b[1;32m---> 58\u001b[1;33m     \u001b[0moDate\u001b[0m   \u001b[1;33m=\u001b[0m \u001b[0mfilename\u001b[0m\u001b[1;33m.\u001b[0m\u001b[0mfileparts2datetime\u001b[0m\u001b[1;33m(\u001b[0m\u001b[0myear\u001b[0m\u001b[1;33m=\u001b[0m\u001b[0myear\u001b[0m\u001b[1;33m,\u001b[0m \u001b[0mmonth\u001b[0m\u001b[1;33m=\u001b[0m\u001b[0mmonth\u001b[0m\u001b[1;33m,\u001b[0m \u001b[0mday\u001b[0m\u001b[1;33m=\u001b[0m\u001b[0mday\u001b[0m\u001b[1;33m,\u001b[0m \u001b[0mseries\u001b[0m\u001b[1;33m=\u001b[0m\u001b[0mseries\u001b[0m\u001b[1;33m)\u001b[0m\u001b[1;33m\u001b[0m\u001b[0m\n\u001b[0m\u001b[0;32m     59\u001b[0m     \u001b[0mu\u001b[0m       \u001b[1;33m=\u001b[0m \u001b[0murl\u001b[0m\u001b[1;33m.\u001b[0m\u001b[0moverview_day_url\u001b[0m\u001b[1;33m(\u001b[0m\u001b[0mstation\u001b[0m\u001b[1;33m,\u001b[0m \u001b[0moDate\u001b[0m\u001b[1;33m,\u001b[0m \u001b[0mtype\u001b[0m\u001b[1;33m=\u001b[0m\u001b[0mimgtype\u001b[0m\u001b[1;33m)\u001b[0m\u001b[1;33m\u001b[0m\u001b[0m\n\u001b[0;32m     60\u001b[0m     \u001b[0murls\u001b[0m    \u001b[1;33m=\u001b[0m \u001b[0murl\u001b[0m\u001b[1;33m.\u001b[0m\u001b[0mextract_image_urls\u001b[0m\u001b[1;33m(\u001b[0m\u001b[0mu\u001b[0m\u001b[1;33m,\u001b[0m \u001b[0moDate\u001b[0m\u001b[1;33m)\u001b[0m\u001b[1;33m\u001b[0m\u001b[0m\n",
        "\u001b[1;32m/flamingo/checkouts/openearthtools/applications/argus2/argus2/filename.pyc\u001b[0m in \u001b[0;36mfileparts2datetime\u001b[1;34m(year, month, day, hour, minute, second, tz, series)\u001b[0m\n\u001b[0;32m    141\u001b[0m         \u001b[1;32mreturn\u001b[0m \u001b[0mdt\u001b[0m\u001b[1;33m\u001b[0m\u001b[0m\n\u001b[0;32m    142\u001b[0m     \u001b[1;32melif\u001b[0m \u001b[0mhasDate\u001b[0m\u001b[1;33m:\u001b[0m\u001b[1;33m\u001b[0m\u001b[0m\n\u001b[1;32m--> 143\u001b[1;33m         \u001b[1;32mreturn\u001b[0m \u001b[0mdatetime\u001b[0m\u001b[1;33m.\u001b[0m\u001b[0mdate\u001b[0m\u001b[1;33m(\u001b[0m\u001b[1;33m**\u001b[0m\u001b[1;33m{\u001b[0m\u001b[0mk\u001b[0m\u001b[1;33m:\u001b[0m\u001b[0mv\u001b[0m \u001b[1;32mfor\u001b[0m \u001b[0mk\u001b[0m\u001b[1;33m,\u001b[0m\u001b[0mv\u001b[0m \u001b[1;32min\u001b[0m \u001b[0mkwargs\u001b[0m\u001b[1;33m.\u001b[0m\u001b[0miteritems\u001b[0m\u001b[1;33m(\u001b[0m\u001b[1;33m)\u001b[0m \u001b[1;32mif\u001b[0m \u001b[0mk\u001b[0m \u001b[1;32min\u001b[0m \u001b[0mdateKeys\u001b[0m\u001b[1;33m}\u001b[0m\u001b[1;33m)\u001b[0m\u001b[1;33m\u001b[0m\u001b[0m\n\u001b[0m\u001b[0;32m    144\u001b[0m     \u001b[1;32melif\u001b[0m \u001b[0mhasTime\u001b[0m\u001b[1;33m:\u001b[0m\u001b[1;33m\u001b[0m\u001b[0m\n\u001b[0;32m    145\u001b[0m         \u001b[1;32mreturn\u001b[0m \u001b[0mdatetime\u001b[0m\u001b[1;33m.\u001b[0m\u001b[0mtime\u001b[0m\u001b[1;33m(\u001b[0m\u001b[1;33m**\u001b[0m\u001b[1;33m{\u001b[0m\u001b[0mk\u001b[0m\u001b[1;33m:\u001b[0m\u001b[0mv\u001b[0m \u001b[1;32mfor\u001b[0m \u001b[0mk\u001b[0m\u001b[1;33m,\u001b[0m\u001b[0mv\u001b[0m \u001b[1;32min\u001b[0m \u001b[0mkwargs\u001b[0m\u001b[1;33m.\u001b[0m\u001b[0miteritems\u001b[0m\u001b[1;33m(\u001b[0m\u001b[1;33m)\u001b[0m \u001b[1;32mif\u001b[0m \u001b[0mk\u001b[0m \u001b[1;32min\u001b[0m \u001b[0mtimeKeys\u001b[0m\u001b[1;33m}\u001b[0m\u001b[1;33m)\u001b[0m\u001b[1;33m\u001b[0m\u001b[0m\n",
        "\u001b[1;31mValueError\u001b[0m: day is out of range for month"
       ]
      }
     ],
     "prompt_number": 14
    },
    {
     "cell_type": "code",
     "collapsed": false,
     "input": [
      "days[count]"
     ],
     "language": "python",
     "metadata": {},
     "outputs": [
      {
       "metadata": {},
       "output_type": "pyout",
       "prompt_number": 15,
       "text": [
        "time.struct_time(tm_year=2012, tm_mon=2, tm_mday=29, tm_hour=0, tm_min=0, tm_sec=0, tm_wday=2, tm_yday=60, tm_isdst=-1)"
       ]
      }
     ],
     "prompt_number": 15
    },
    {
     "cell_type": "code",
     "collapsed": false,
     "input": [
      "with open('images_additional.txt','w') as f:\n",
      "    for image in images:\n",
      "        f.write(image + \"\\n\")"
     ],
     "language": "python",
     "metadata": {},
     "outputs": [],
     "prompt_number": 7
    },
    {
     "cell_type": "code",
     "collapsed": false,
     "input": [
      "def query_catalog(site,startepoch,endepoch,imtype,cams):\n",
      "    \n",
      "                  'http://argus-public.deltares.nl/catalog/?site=kijkduin&startEpoch=1400000000&endEpoch=1400020000&type=snap&camera=1'"
     ],
     "language": "python",
     "metadata": {},
     "outputs": [],
     "prompt_number": 9
    },
    {
     "cell_type": "code",
     "collapsed": false,
     "input": [],
     "language": "python",
     "metadata": {},
     "outputs": [],
     "prompt_number": 9
    },
    {
     "cell_type": "code",
     "collapsed": false,
     "input": [],
     "language": "python",
     "metadata": {},
     "outputs": []
    }
   ],
   "metadata": {}
  }
 ]
}