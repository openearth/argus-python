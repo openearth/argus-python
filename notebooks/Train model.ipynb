{
 "metadata": {
  "name": "Train model"
 },
 "nbformat": 3,
 "nbformat_minor": 0,
 "worksheets": [
  {
   "cells": [
    {
     "cell_type": "code",
     "collapsed": false,
     "input": [
      "import os\n",
      "import cPickle as pickle\n",
      "from pystruct import models, learners\n",
      "from sklearn.cross_validation import train_test_split\n",
      "\n",
      "fpath = '../../argusgui/argusgui/datasets/argusnl_new/'"
     ],
     "language": "python",
     "metadata": {},
     "outputs": [],
     "prompt_number": 62
    },
    {
     "cell_type": "code",
     "collapsed": false,
     "input": [
      "features = np.empty((0,606))\n",
      "classes = []\n",
      "\n",
      "i = 0\n",
      "for fname in os.listdir(fpath):\n",
      "    if fname.endswith('.features_normalized.pkl'):\n",
      "        \n",
      "        featurefile = os.path.join(fpath, fname)\n",
      "        classfile = os.path.join(fpath, fname.replace('.features_normalized.pkl', '.classes.pkl'))\n",
      "        \n",
      "        if not os.path.exists(classfile):\n",
      "            continue\n",
      "        \n",
      "        i = i + 1\n",
      "        \n",
      "        print '%03d: %s' % (i,fname)\n",
      "            \n",
      "        fid = open(featurefile,'rb')\n",
      "        f = pickle.load(fid)\n",
      "        fid.close()\n",
      "        \n",
      "        fid = open(classfile,'rb')\n",
      "        c = pickle.load(fid)\n",
      "        fid.close()\n",
      "\n",
      "        # make sure all features are alphabetically sorted\n",
      "        arr = np.array([[v for k,v in sorted(x.items())] for x in f])\n",
      "        \n",
      "        features = np.vstack((features, arr))\n",
      "        classes.extend(c)\n",
      "        "
     ],
     "language": "python",
     "metadata": {},
     "outputs": [
      {
       "output_type": "stream",
       "stream": "stdout",
       "text": [
        "001: 1368446403.Mon.May.13_12_00_03.UTC.2013.zandmotor.c3.snap.features_normalized.pkl\n",
        "002: 1378206005.Tue.Sep.03_11_00_05.UTC.2013.zandmotor.c8.snap.features_normalized.pkl"
       ]
      },
      {
       "output_type": "stream",
       "stream": "stdout",
       "text": [
        "\n",
        "003: 1371547807.Tue.Jun.18_09_30_07.UTC.2013.kijkduin.c6.snap.features_normalized.pkl"
       ]
      },
      {
       "output_type": "stream",
       "stream": "stdout",
       "text": [
        "\n",
        "004: 1376488803.Wed.Aug.14_14_00_03.GMT.2013.jvspeijk.c2.snap.features_normalized.pkl"
       ]
      },
      {
       "output_type": "stream",
       "stream": "stdout",
       "text": [
        "\n",
        "005: 1373972403.Tue.Jul.16_11_00_03.GMT.2013.jvspeijk.c2.snap.features_normalized.pkl"
       ]
      },
      {
       "output_type": "stream",
       "stream": "stdout",
       "text": [
        "\n",
        "006: 1371981606.Sun.Jun.23_10_00_06.UTC.2013.kijkduin.c6.snap.features_normalized.pkl"
       ]
      },
      {
       "output_type": "stream",
       "stream": "stdout",
       "text": [
        "\n",
        "007: 1367407802.Wed.May.01_11_30_02.GMT.2013.egmond.c2.snap.features_normalized.pkl"
       ]
      },
      {
       "output_type": "stream",
       "stream": "stdout",
       "text": [
        "\n",
        "008: 1376049603.Fri.Aug.09_12_00_03.GMT.2013.jvspeijk.c3.snap.features_normalized.pkl"
       ]
      },
      {
       "output_type": "stream",
       "stream": "stdout",
       "text": [
        "\n",
        "009: 1377862208.Fri.Aug.30_11_30_08.UTC.2013.zandmotor.c8.snap.features_normalized.pkl"
       ]
      },
      {
       "output_type": "stream",
       "stream": "stdout",
       "text": [
        "\n",
        "010: 1376049608.Fri.Aug.09_12_00_08.UTC.2013.zandmotor.c7.snap.features_normalized.pkl"
       ]
      },
      {
       "output_type": "stream",
       "stream": "stdout",
       "text": [
        "\n",
        "011: 1367933404.Tue.May.07_13_30_04.GMT.2013.egmond.c4.snap.features_normalized.pkl"
       ]
      },
      {
       "output_type": "stream",
       "stream": "stdout",
       "text": [
        "\n",
        "012: 1375356603.Thu.Aug.01_11_30_03.GMT.2013.jvspeijk.c3.snap.features_normalized.pkl"
       ]
      },
      {
       "output_type": "stream",
       "stream": "stdout",
       "text": [
        "\n",
        "013: 1367746202.Sun.May.05_09_30_02.UTC.2013.kijkduin.c1.snap.features_normalized.pkl"
       ]
      },
      {
       "output_type": "stream",
       "stream": "stdout",
       "text": [
        "\n",
        "014: 1374667206.Wed.Jul.24_12_00_06.GMT.2013.jvspeijk.c5.snap.features_normalized.pkl"
       ]
      },
      {
       "output_type": "stream",
       "stream": "stdout",
       "text": [
        "\n",
        "015: 1371393002.Sun.Jun.16_14_30_02.UTC.2013.zandmotor.c2.snap.features_normalized.pkl"
       ]
      },
      {
       "output_type": "stream",
       "stream": "stdout",
       "text": [
        "\n",
        "016: 1371560404.Tue.Jun.18_13_00_04.UTC.2013.zandmotor.c4.snap.features_normalized.pkl"
       ]
      },
      {
       "output_type": "stream",
       "stream": "stdout",
       "text": [
        "\n",
        "017: 1370507401.Thu.Jun.06_08_30_01.UTC.2013.zandmotor.c1.snap.features_normalized.pkl"
       ]
      },
      {
       "output_type": "stream",
       "stream": "stdout",
       "text": [
        "\n",
        "018: 1377783007.Thu.Aug.29_13_30_07.UTC.2013.zandmotor.c7.snap.features_normalized.pkl"
       ]
      },
      {
       "output_type": "stream",
       "stream": "stdout",
       "text": [
        "\n",
        "019: 1371650402.Wed.Jun.19_14_00_02.GMT.2013.egmond.c1.snap.features_normalized.pkl"
       ]
      },
      {
       "output_type": "stream",
       "stream": "stdout",
       "text": [
        "\n",
        "020: 1367404206.Wed.May.01_10_30_06.UTC.2013.zandmotor.c6.snap.features_normalized.pkl"
       ]
      },
      {
       "output_type": "stream",
       "stream": "stdout",
       "text": [
        "\n",
        "021: 1369225803.Wed.May.22_12_30_03.GMT.2013.egmond.c3.snap.features_normalized.pkl"
       ]
      },
      {
       "output_type": "stream",
       "stream": "stdout",
       "text": [
        "\n",
        "022: 1377331202.Sat.Aug.24_08_00_02.UTC.2013.zandmotor.c2.snap.features_normalized.pkl"
       ]
      },
      {
       "output_type": "stream",
       "stream": "stdout",
       "text": [
        "\n",
        "023: 1375176603.Tue.Jul.30_09_30_03.GMT.2013.jvspeijk.c3.snap.features_normalized.pkl"
       ]
      },
      {
       "output_type": "stream",
       "stream": "stdout",
       "text": [
        "\n",
        "024: 1371801605.Fri.Jun.21_08_00_05.GMT.2013.jvspeijk.c5.snap.features_normalized.pkl"
       ]
      },
      {
       "output_type": "stream",
       "stream": "stdout",
       "text": [
        "\n",
        "025: 1376388002.Tue.Aug.13_10_00_02.UTC.2013.kijkduin.c2.snap.features_normalized.pkl"
       ]
      },
      {
       "output_type": "stream",
       "stream": "stdout",
       "text": [
        "\n",
        "026: 1373551201.Thu.Jul.11_14_00_01.GMT.2013.jvspeijk.c1.snap.features_normalized.pkl"
       ]
      },
      {
       "output_type": "stream",
       "stream": "stdout",
       "text": [
        "\n",
        "027: 1379066406.Fri.Sep.13_10_00_06.UTC.2013.zandmotor.c5.snap.features_normalized.pkl"
       ]
      },
      {
       "output_type": "stream",
       "stream": "stdout",
       "text": [
        "\n",
        "028: 1369996203.Fri.May.31_10_30_03.GMT.2013.egmond.c3.snap.features_normalized.pkl"
       ]
      },
      {
       "output_type": "stream",
       "stream": "stdout",
       "text": [
        "\n",
        "029: 1374836404.Fri.Jul.26_11_00_04.UTC.2013.kijkduin.c3.snap.features_normalized.pkl"
       ]
      },
      {
       "output_type": "stream",
       "stream": "stdout",
       "text": [
        "\n",
        "030: 1372755603.Tue.Jul.02_09_00_03.UTC.2013.zandmotor.c3.snap.features_normalized.pkl"
       ]
      },
      {
       "output_type": "stream",
       "stream": "stdout",
       "text": [
        "\n",
        "031: 1378459808.Fri.Sep.06_09_30_08.UTC.2013.zandmotor.c8.snap.features_normalized.pkl"
       ]
      },
      {
       "output_type": "stream",
       "stream": "stdout",
       "text": [
        "\n",
        "032: 1368091807.Thu.May.09_09_30_07.UTC.2013.zandmotor.c6.snap.features_normalized.pkl"
       ]
      },
      {
       "output_type": "stream",
       "stream": "stdout",
       "text": [
        "\n",
        "033: 1368887406.Sat.May.18_14_30_06.UTC.2013.zandmotor.c6.snap.features_normalized.pkl"
       ]
      },
      {
       "output_type": "stream",
       "stream": "stdout",
       "text": [
        "\n",
        "034: 1378045803.Sun.Sep.01_14_30_03.GMT.2013.egmond.c2.snap.features_normalized.pkl"
       ]
      },
      {
       "output_type": "stream",
       "stream": "stdout",
       "text": [
        "\n",
        "035: 1377513006.Mon.Aug.26_10_30_06.GMT.2013.jvspeijk.c5.snap.features_normalized.pkl"
       ]
      },
      {
       "output_type": "stream",
       "stream": "stdout",
       "text": [
        "\n",
        "036: 1370775601.Sun.Jun.09_11_00_01.UTC.2013.zandmotor.c1.snap.features_normalized.pkl"
       ]
      },
      {
       "output_type": "stream",
       "stream": "stdout",
       "text": [
        "\n",
        "037: 1376487004.Wed.Aug.14_13_30_04.UTC.2013.zandmotor.c4.snap.features_normalized.pkl"
       ]
      },
      {
       "output_type": "stream",
       "stream": "stdout",
       "text": [
        "\n",
        "038: 1370777404.Sun.Jun.09_11_30_04.UTC.2013.kijkduin.c4.snap.features_normalized.pkl"
       ]
      },
      {
       "output_type": "stream",
       "stream": "stdout",
       "text": [
        "\n",
        "039: 1375783202.Tue.Aug.06_10_00_02.GMT.2013.jvspeijk.c2.snap.features_normalized.pkl"
       ]
      },
      {
       "output_type": "stream",
       "stream": "stdout",
       "text": [
        "\n",
        "040: 1377262808.Fri.Aug.23_13_00_08.UTC.2013.zandmotor.c7.snap.features_normalized.pkl"
       ]
      },
      {
       "output_type": "stream",
       "stream": "stdout",
       "text": [
        "\n",
        "041: 1367488805.Thu.May.02_10_00_05.UTC.2013.kijkduin.c4.snap.features_normalized.pkl"
       ]
      },
      {
       "output_type": "stream",
       "stream": "stdout",
       "text": [
        "\n",
        "042: 1372860005.Wed.Jul.03_14_00_05.GMT.2013.egmond.c4.snap.features_normalized.pkl"
       ]
      },
      {
       "output_type": "stream",
       "stream": "stdout",
       "text": [
        "\n",
        "043: 1369657802.Mon.May.27_12_30_02.GMT.2013.jvspeijk.c1.snap.features_normalized.pkl"
       ]
      },
      {
       "output_type": "stream",
       "stream": "stdout",
       "text": [
        "\n",
        "044: 1373020205.Fri.Jul.05_10_30_05.UTC.2013.zandmotor.c5.snap.features_normalized.pkl"
       ]
      },
      {
       "output_type": "stream",
       "stream": "stdout",
       "text": [
        "\n",
        "045: 1374658204.Wed.Jul.24_09_30_04.UTC.2013.zandmotor.c4.snap.features_normalized.pkl"
       ]
      },
      {
       "output_type": "stream",
       "stream": "stdout",
       "text": [
        "\n",
        "046: 1380375003.Sat.Sep.28_13_30_03.UTC.2013.kijkduin.c3.snap.features_normalized.pkl"
       ]
      },
      {
       "output_type": "stream",
       "stream": "stdout",
       "text": [
        "\n",
        "047: 1372680004.Mon.Jul.01_12_00_04.UTC.2013.kijkduin.c4.snap.features_normalized.pkl"
       ]
      },
      {
       "output_type": "stream",
       "stream": "stdout",
       "text": [
        "\n",
        "048: 1376145006.Sat.Aug.10_14_30_06.UTC.2013.kijkduin.c6.snap.features_normalized.pkl"
       ]
      },
      {
       "output_type": "stream",
       "stream": "stdout",
       "text": [
        "\n",
        "049: 1373185803.Sun.Jul.07_08_30_03.UTC.2013.kijkduin.c3.snap.features_normalized.pkl"
       ]
      },
      {
       "output_type": "stream",
       "stream": "stdout",
       "text": [
        "\n",
        "050: 1372926603.Thu.Jul.04_08_30_03.UTC.2013.zandmotor.c3.snap.features_normalized.pkl"
       ]
      },
      {
       "output_type": "stream",
       "stream": "stdout",
       "text": [
        "\n",
        "051: 1377244806.Fri.Aug.23_08_00_06.GMT.2013.jvspeijk.c5.snap.features_normalized.pkl"
       ]
      },
      {
       "output_type": "stream",
       "stream": "stdout",
       "text": [
        "\n",
        "052: 1379682002.Fri.Sep.20_13_00_02.UTC.2013.zandmotor.c5.snap.features_normalized.pkl"
       ]
      },
      {
       "output_type": "stream",
       "stream": "stdout",
       "text": [
        "\n",
        "053: 1378899003.Wed.Sep.11_11_30_03.UTC.2013.zandmotor.c2.snap.features_normalized.pkl"
       ]
      },
      {
       "output_type": "stream",
       "stream": "stdout",
       "text": [
        "\n",
        "054: 1372593603.Sun.Jun.30_12_00_03.UTC.2013.zandmotor.c3.snap.features_normalized.pkl"
       ]
      },
      {
       "output_type": "stream",
       "stream": "stdout",
       "text": [
        "\n",
        "055: 1377354602.Sat.Aug.24_14_30_02.UTC.2013.kijkduin.c2.snap.features_normalized.pkl"
       ]
      },
      {
       "output_type": "stream",
       "stream": "stdout",
       "text": [
        "\n",
        "056: 1378990803.Thu.Sep.12_13_00_03.GMT.2013.jvspeijk.c3.snap.features_normalized.pkl"
       ]
      },
      {
       "output_type": "stream",
       "stream": "stdout",
       "text": [
        "\n",
        "057: 1378985401.Thu.Sep.12_11_30_01.UTC.2013.kijkduin.c1.snap.features_normalized.pkl"
       ]
      },
      {
       "output_type": "stream",
       "stream": "stdout",
       "text": [
        "\n",
        "058: 1369042201.Mon.May.20_09_30_01.GMT.2013.jvspeijk.c1.snap.features_normalized.pkl"
       ]
      },
      {
       "output_type": "stream",
       "stream": "stdout",
       "text": [
        "\n",
        "059: 1368522008.Tue.May.14_09_00_08.UTC.2013.zandmotor.c8.snap.features_normalized.pkl"
       ]
      },
      {
       "output_type": "stream",
       "stream": "stdout",
       "text": [
        "\n",
        "060: 1380355202.Sat.Sep.28_08_00_02.GMT.2013.egmond.c1.snap.features_normalized.pkl"
       ]
      },
      {
       "output_type": "stream",
       "stream": "stdout",
       "text": [
        "\n",
        "061: 1377786604.Thu.Aug.29_14_30_04.UTC.2013.kijkduin.c4.snap.features_normalized.pkl"
       ]
      },
      {
       "output_type": "stream",
       "stream": "stdout",
       "text": [
        "\n",
        "062: 1377082803.Wed.Aug.21_11_00_03.UTC.2013.kijkduin.c2.snap.features_normalized.pkl"
       ]
      },
      {
       "output_type": "stream",
       "stream": "stdout",
       "text": [
        "\n",
        "063: 1375344004.Thu.Aug.01_08_00_04.UTC.2013.zandmotor.c4.snap.features_normalized.pkl"
       ]
      },
      {
       "output_type": "stream",
       "stream": "stdout",
       "text": [
        "\n",
        "064: 1378893604.Wed.Sep.11_10_00_04.GMT.2013.egmond.c3.snap.features_normalized.pkl"
       ]
      },
      {
       "output_type": "stream",
       "stream": "stdout",
       "text": [
        "\n",
        "065: 1369747805.Tue.May.28_13_30_05.GMT.2013.egmond.c4.snap.features_normalized.pkl"
       ]
      },
      {
       "output_type": "stream",
       "stream": "stdout",
       "text": [
        "\n",
        "066: 1378800001.Tue.Sep.10_08_00_01.UTC.2013.zandmotor.c1.snap.features_normalized.pkl"
       ]
      },
      {
       "output_type": "stream",
       "stream": "stdout",
       "text": [
        "\n",
        "067: 1369314006.Thu.May.23_13_00_06.UTC.2013.kijkduin.c6.snap.features_normalized.pkl"
       ]
      },
      {
       "output_type": "stream",
       "stream": "stdout",
       "text": [
        "\n",
        "068: 1371724202.Thu.Jun.20_10_30_02.UTC.2013.kijkduin.c2.snap.features_normalized.pkl"
       ]
      },
      {
       "output_type": "stream",
       "stream": "stdout",
       "text": [
        "\n",
        "069: 1377095402.Wed.Aug.21_14_30_02.GMT.2013.egmond.c2.snap.features_normalized.pkl"
       ]
      },
      {
       "output_type": "stream",
       "stream": "stdout",
       "text": [
        "\n",
        "070: 1375617604.Sun.Aug.04_12_00_04.UTC.2013.kijkduin.c3.snap.features_normalized.pkl"
       ]
      },
      {
       "output_type": "stream",
       "stream": "stdout",
       "text": [
        "\n",
        "071: 1380272404.Fri.Sep.27_09_00_04.GMT.2013.jvspeijk.c4.snap.features_normalized.pkl"
       ]
      },
      {
       "output_type": "stream",
       "stream": "stdout",
       "text": [
        "\n",
        "072: 1377347404.Sat.Aug.24_12_30_04.GMT.2013.jvspeijk.c4.snap.features_normalized.pkl"
       ]
      },
      {
       "output_type": "stream",
       "stream": "stdout",
       "text": [
        "\n",
        "073: 1378978205.Thu.Sep.12_09_30_05.GMT.2013.egmond.c5.snap.features_normalized.pkl"
       ]
      },
      {
       "output_type": "stream",
       "stream": "stdout",
       "text": [
        "\n",
        "074: 1376391602.Tue.Aug.13_11_00_02.GMT.2013.egmond.c1.snap.features_normalized.pkl"
       ]
      },
      {
       "output_type": "stream",
       "stream": "stdout",
       "text": [
        "\n",
        "075: 1378645203.Sun.Sep.08_13_00_03.GMT.2013.egmond.c3.snap.features_normalized.pkl"
       ]
      },
      {
       "output_type": "stream",
       "stream": "stdout",
       "text": [
        "\n",
        "076: 1380375002.Sat.Sep.28_13_30_02.GMT.2013.jvspeijk.c2.snap.features_normalized.pkl"
       ]
      },
      {
       "output_type": "stream",
       "stream": "stdout",
       "text": [
        "\n",
        "077: 1378288805.Wed.Sep.04_10_00_05.UTC.2013.kijkduin.c5.snap.features_normalized.pkl"
       ]
      },
      {
       "output_type": "stream",
       "stream": "stdout",
       "text": [
        "\n",
        "078: 1375171206.Tue.Jul.30_08_00_06.UTC.2013.zandmotor.c6.snap.features_normalized.pkl"
       ]
      },
      {
       "output_type": "stream",
       "stream": "stdout",
       "text": [
        "\n",
        "079: 1372669202.Mon.Jul.01_09_00_02.UTC.2013.zandmotor.c2.snap.features_normalized.pkl"
       ]
      },
      {
       "output_type": "stream",
       "stream": "stdout",
       "text": [
        "\n",
        "080: 1374057004.Wed.Jul.17_10_30_04.GMT.2013.egmond.c4.snap.features_normalized.pkl"
       ]
      },
      {
       "output_type": "stream",
       "stream": "stdout",
       "text": [
        "\n",
        "081: 1377514801.Mon.Aug.26_11_00_01.UTC.2013.zandmotor.c1.snap.features_normalized.pkl"
       ]
      },
      {
       "output_type": "stream",
       "stream": "stdout",
       "text": [
        "\n",
        "082: 1371209402.Fri.Jun.14_11_30_02.GMT.2013.egmond.c1.snap.features_normalized.pkl"
       ]
      },
      {
       "output_type": "stream",
       "stream": "stdout",
       "text": [
        "\n",
        "083: 1373889606.Mon.Jul.15_12_00_06.UTC.2013.zandmotor.c5.snap.features_normalized.pkl"
       ]
      },
      {
       "output_type": "stream",
       "stream": "stdout",
       "text": [
        "\n",
        "084: 1370426405.Wed.Jun.05_10_00_05.GMT.2013.egmond.c5.snap.features_normalized.pkl"
       ]
      },
      {
       "output_type": "stream",
       "stream": "stdout",
       "text": [
        "\n",
        "085: 1369229402.Wed.May.22_13_30_02.GMT.2013.jvspeijk.c1.snap.features_normalized.pkl"
       ]
      },
      {
       "output_type": "stream",
       "stream": "stdout",
       "text": [
        "\n",
        "086: 1379426402.Tue.Sep.17_14_00_02.UTC.2013.kijkduin.c1.snap.features_normalized.pkl"
       ]
      },
      {
       "output_type": "stream",
       "stream": "stdout",
       "text": [
        "\n",
        "087: 1369643403.Mon.May.27_08_30_03.GMT.2013.egmond.c2.snap.features_normalized.pkl"
       ]
      },
      {
       "output_type": "stream",
       "stream": "stdout",
       "text": [
        "\n",
        "088: 1367924401.Tue.May.07_11_00_01.UTC.2013.kijkduin.c1.snap.features_normalized.pkl"
       ]
      },
      {
       "output_type": "stream",
       "stream": "stdout",
       "text": [
        "\n",
        "089: 1376056806.Fri.Aug.09_14_00_06.GMT.2013.egmond.c5.snap.features_normalized.pkl"
       ]
      },
      {
       "output_type": "stream",
       "stream": "stdout",
       "text": [
        "\n",
        "090: 1372069804.Mon.Jun.24_10_30_04.GMT.2013.jvspeijk.c4.snap.features_normalized.pkl"
       ]
      },
      {
       "output_type": "stream",
       "stream": "stdout",
       "text": [
        "\n",
        "091: 1379682005.Fri.Sep.20_13_00_05.UTC.2013.kijkduin.c5.snap.features_normalized.pkl"
       ]
      },
      {
       "output_type": "stream",
       "stream": "stdout",
       "text": [
        "\n",
        "092: 1369477807.Sat.May.25_10_30_07.UTC.2013.zandmotor.c7.snap.features_normalized.pkl"
       ]
      },
      {
       "output_type": "stream",
       "stream": "stdout",
       "text": [
        "\n",
        "093: 1379750405.Sat.Sep.21_08_00_05.UTC.2013.kijkduin.c5.snap.features_normalized.pkl"
       ]
      },
      {
       "output_type": "stream",
       "stream": "stdout",
       "text": [
        "\n",
        "094: 1372413605.Fri.Jun.28_10_00_05.UTC.2013.kijkduin.c5.snap.features_normalized.pkl"
       ]
      },
      {
       "output_type": "stream",
       "stream": "stdout",
       "text": [
        "\n",
        "095: 1368104406.Thu.May.09_13_00_06.GMT.2013.egmond.c5.snap.features_normalized.pkl"
       ]
      },
      {
       "output_type": "stream",
       "stream": "stdout",
       "text": [
        "\n"
       ]
      }
     ],
     "prompt_number": 43
    },
    {
     "cell_type": "code",
     "collapsed": false,
     "input": [
      "n = 55999 #features.shape[0]\n",
      "nf = 606 #features.shape[1]\n",
      "\n",
      "X = features.reshape((n,1,1,nf))\n",
      "Y = np.array(classes).reshape((n,1,1))"
     ],
     "language": "python",
     "metadata": {},
     "outputs": [],
     "prompt_number": 78
    },
    {
     "cell_type": "code",
     "collapsed": false,
     "input": [
      "# remove nan's\n",
      "idx = np.all(np.isnan(X)[:,0,0,:], axis=0)\n",
      "X = X[:,:,:,~idx]"
     ],
     "language": "python",
     "metadata": {},
     "outputs": [],
     "prompt_number": 81
    },
    {
     "cell_type": "code",
     "collapsed": false,
     "input": [
      "fp = open(os.path.join(fpath, 'training_data.pkl'), 'wb')\n",
      "pickle.dump((X,Y), fp)\n",
      "fp.close()\n",
      "\n",
      "print X.shape\n",
      "print Y.shape"
     ],
     "language": "python",
     "metadata": {},
     "outputs": [
      {
       "output_type": "stream",
       "stream": "stdout",
       "text": [
        "(55999, 1, 1, 594)\n",
        "(55999, 1, 1)\n"
       ]
      }
     ],
     "prompt_number": 82
    },
    {
     "cell_type": "code",
     "collapsed": false,
     "input": [
      "model = models.GridCRF(n_states=len(np.unique(Y)), n_features=X.shape[-1])\n",
      "ssvm = learners.OneSlackSSVM(model, verbose=1, max_iter=1000000)\n",
      "ssvm.fit(X, Y)\n",
      "\n",
      "fp = open(os.path.join(fpath, 'trained_model.pkl'), 'wb')\n",
      "pickle.dump(ssvm, fp)\n",
      "fp.close()"
     ],
     "language": "python",
     "metadata": {},
     "outputs": [
      {
       "ename": "IndexError",
       "evalue": "arrays used as indices must be of integer (or boolean) type",
       "output_type": "pyerr",
       "traceback": [
        "\u001b[0;31m---------------------------------------------------------------------------\u001b[0m\n\u001b[0;31mIndexError\u001b[0m                                Traceback (most recent call last)",
        "\u001b[0;32m<ipython-input-84-1c58bb6078b7>\u001b[0m in \u001b[0;36m<module>\u001b[0;34m()\u001b[0m\n\u001b[1;32m      1\u001b[0m \u001b[0mmodel\u001b[0m \u001b[0;34m=\u001b[0m \u001b[0mmodels\u001b[0m\u001b[0;34m.\u001b[0m\u001b[0mGridCRF\u001b[0m\u001b[0;34m(\u001b[0m\u001b[0mn_states\u001b[0m\u001b[0;34m=\u001b[0m\u001b[0mlen\u001b[0m\u001b[0;34m(\u001b[0m\u001b[0mnp\u001b[0m\u001b[0;34m.\u001b[0m\u001b[0munique\u001b[0m\u001b[0;34m(\u001b[0m\u001b[0mY\u001b[0m\u001b[0;34m)\u001b[0m\u001b[0;34m)\u001b[0m\u001b[0;34m,\u001b[0m \u001b[0mn_features\u001b[0m\u001b[0;34m=\u001b[0m\u001b[0mX\u001b[0m\u001b[0;34m.\u001b[0m\u001b[0mshape\u001b[0m\u001b[0;34m[\u001b[0m\u001b[0;34m-\u001b[0m\u001b[0;36m1\u001b[0m\u001b[0;34m]\u001b[0m\u001b[0;34m)\u001b[0m\u001b[0;34m\u001b[0m\u001b[0m\n\u001b[1;32m      2\u001b[0m \u001b[0mssvm\u001b[0m \u001b[0;34m=\u001b[0m \u001b[0mlearners\u001b[0m\u001b[0;34m.\u001b[0m\u001b[0mOneSlackSSVM\u001b[0m\u001b[0;34m(\u001b[0m\u001b[0mmodel\u001b[0m\u001b[0;34m,\u001b[0m \u001b[0mverbose\u001b[0m\u001b[0;34m=\u001b[0m\u001b[0;36m1\u001b[0m\u001b[0;34m,\u001b[0m \u001b[0mmax_iter\u001b[0m\u001b[0;34m=\u001b[0m\u001b[0;36m1000000\u001b[0m\u001b[0;34m)\u001b[0m\u001b[0;34m\u001b[0m\u001b[0m\n\u001b[0;32m----> 3\u001b[0;31m \u001b[0mssvm\u001b[0m\u001b[0;34m.\u001b[0m\u001b[0mfit\u001b[0m\u001b[0;34m(\u001b[0m\u001b[0mX\u001b[0m\u001b[0;34m,\u001b[0m \u001b[0mY\u001b[0m\u001b[0;34m)\u001b[0m\u001b[0;34m\u001b[0m\u001b[0m\n\u001b[0m\u001b[1;32m      4\u001b[0m \u001b[0;34m\u001b[0m\u001b[0m\n\u001b[1;32m      5\u001b[0m \u001b[0mfp\u001b[0m \u001b[0;34m=\u001b[0m \u001b[0mopen\u001b[0m\u001b[0;34m(\u001b[0m\u001b[0mos\u001b[0m\u001b[0;34m.\u001b[0m\u001b[0mpath\u001b[0m\u001b[0;34m.\u001b[0m\u001b[0mjoin\u001b[0m\u001b[0;34m(\u001b[0m\u001b[0mfpath\u001b[0m\u001b[0;34m,\u001b[0m \u001b[0;34m'trained_model.pkl'\u001b[0m\u001b[0;34m)\u001b[0m\u001b[0;34m,\u001b[0m \u001b[0;34m'wb'\u001b[0m\u001b[0;34m)\u001b[0m\u001b[0;34m\u001b[0m\u001b[0m\n",
        "\u001b[0;32m/home/hoonhout/VirtualEnv/argusgui/lib/python2.7/site-packages/pystruct/learners/one_slack_ssvm.pyc\u001b[0m in \u001b[0;36mfit\u001b[0;34m(self, X, Y, constraints, warm_start, initialize)\u001b[0m\n\u001b[1;32m    420\u001b[0m             \u001b[0mpsi_gt\u001b[0m \u001b[0;34m=\u001b[0m \u001b[0mself\u001b[0m\u001b[0;34m.\u001b[0m\u001b[0mmodel\u001b[0m\u001b[0;34m.\u001b[0m\u001b[0mbatch_psi\u001b[0m\u001b[0;34m(\u001b[0m\u001b[0mX\u001b[0m\u001b[0;34m,\u001b[0m \u001b[0mY\u001b[0m\u001b[0;34m,\u001b[0m \u001b[0mY\u001b[0m\u001b[0;34m)\u001b[0m\u001b[0;34m\u001b[0m\u001b[0m\n\u001b[1;32m    421\u001b[0m         \u001b[0;32melse\u001b[0m\u001b[0;34m:\u001b[0m\u001b[0;34m\u001b[0m\u001b[0m\n\u001b[0;32m--> 422\u001b[0;31m             \u001b[0mpsi_gt\u001b[0m \u001b[0;34m=\u001b[0m \u001b[0mself\u001b[0m\u001b[0;34m.\u001b[0m\u001b[0mmodel\u001b[0m\u001b[0;34m.\u001b[0m\u001b[0mbatch_psi\u001b[0m\u001b[0;34m(\u001b[0m\u001b[0mX\u001b[0m\u001b[0;34m,\u001b[0m \u001b[0mY\u001b[0m\u001b[0;34m)\u001b[0m\u001b[0;34m\u001b[0m\u001b[0m\n\u001b[0m\u001b[1;32m    423\u001b[0m \u001b[0;34m\u001b[0m\u001b[0m\n\u001b[1;32m    424\u001b[0m         \u001b[0;32mtry\u001b[0m\u001b[0;34m:\u001b[0m\u001b[0;34m\u001b[0m\u001b[0m\n",
        "\u001b[0;32m/home/hoonhout/VirtualEnv/argusgui/lib/python2.7/site-packages/pystruct/models/base.pyc\u001b[0m in \u001b[0;36mbatch_psi\u001b[0;34m(self, X, Y, Y_true)\u001b[0m\n\u001b[1;32m     38\u001b[0m         \u001b[0;32melse\u001b[0m\u001b[0;34m:\u001b[0m\u001b[0;34m\u001b[0m\u001b[0m\n\u001b[1;32m     39\u001b[0m             \u001b[0;32mfor\u001b[0m \u001b[0mx\u001b[0m\u001b[0;34m,\u001b[0m \u001b[0my\u001b[0m \u001b[0;32min\u001b[0m \u001b[0mzip\u001b[0m\u001b[0;34m(\u001b[0m\u001b[0mX\u001b[0m\u001b[0;34m,\u001b[0m \u001b[0mY\u001b[0m\u001b[0;34m)\u001b[0m\u001b[0;34m:\u001b[0m\u001b[0;34m\u001b[0m\u001b[0m\n\u001b[0;32m---> 40\u001b[0;31m                 \u001b[0mpsi_\u001b[0m \u001b[0;34m+=\u001b[0m \u001b[0mself\u001b[0m\u001b[0;34m.\u001b[0m\u001b[0mpsi\u001b[0m\u001b[0;34m(\u001b[0m\u001b[0mx\u001b[0m\u001b[0;34m,\u001b[0m \u001b[0my\u001b[0m\u001b[0;34m)\u001b[0m\u001b[0;34m\u001b[0m\u001b[0m\n\u001b[0m\u001b[1;32m     41\u001b[0m         \u001b[0;32mreturn\u001b[0m \u001b[0mpsi_\u001b[0m\u001b[0;34m\u001b[0m\u001b[0m\n\u001b[1;32m     42\u001b[0m \u001b[0;34m\u001b[0m\u001b[0m\n",
        "\u001b[0;32m/home/hoonhout/VirtualEnv/argusgui/lib/python2.7/site-packages/pystruct/models/graph_crf.pyc\u001b[0m in \u001b[0;36mpsi\u001b[0;34m(self, x, y)\u001b[0m\n\u001b[1;32m    160\u001b[0m             \u001b[0munary_marginals\u001b[0m \u001b[0;34m=\u001b[0m \u001b[0mnp\u001b[0m\u001b[0;34m.\u001b[0m\u001b[0mzeros\u001b[0m\u001b[0;34m(\u001b[0m\u001b[0;34m(\u001b[0m\u001b[0mn_nodes\u001b[0m\u001b[0;34m,\u001b[0m \u001b[0mself\u001b[0m\u001b[0;34m.\u001b[0m\u001b[0mn_states\u001b[0m\u001b[0;34m)\u001b[0m\u001b[0;34m,\u001b[0m \u001b[0mdtype\u001b[0m\u001b[0;34m=\u001b[0m\u001b[0mnp\u001b[0m\u001b[0;34m.\u001b[0m\u001b[0mint\u001b[0m\u001b[0;34m)\u001b[0m\u001b[0;34m\u001b[0m\u001b[0m\n\u001b[1;32m    161\u001b[0m             \u001b[0mgx\u001b[0m \u001b[0;34m=\u001b[0m \u001b[0mnp\u001b[0m\u001b[0;34m.\u001b[0m\u001b[0mogrid\u001b[0m\u001b[0;34m[\u001b[0m\u001b[0;34m:\u001b[0m\u001b[0mn_nodes\u001b[0m\u001b[0;34m]\u001b[0m\u001b[0;34m\u001b[0m\u001b[0m\n\u001b[0;32m--> 162\u001b[0;31m             \u001b[0munary_marginals\u001b[0m\u001b[0;34m[\u001b[0m\u001b[0mgx\u001b[0m\u001b[0;34m,\u001b[0m \u001b[0my\u001b[0m\u001b[0;34m]\u001b[0m \u001b[0;34m=\u001b[0m \u001b[0;36m1\u001b[0m\u001b[0;34m\u001b[0m\u001b[0m\n\u001b[0m\u001b[1;32m    163\u001b[0m \u001b[0;34m\u001b[0m\u001b[0m\n\u001b[1;32m    164\u001b[0m             \u001b[0;31m##accumulated pairwise\u001b[0m\u001b[0;34m\u001b[0m\u001b[0;34m\u001b[0m\u001b[0m\n",
        "\u001b[0;31mIndexError\u001b[0m: arrays used as indices must be of integer (or boolean) type"
       ]
      },
      {
       "output_type": "stream",
       "stream": "stdout",
       "text": [
        "Training 1-slack dual structural SVM\n"
       ]
      }
     ],
     "prompt_number": 84
    },
    {
     "cell_type": "code",
     "collapsed": false,
     "input": [],
     "language": "python",
     "metadata": {},
     "outputs": [],
     "prompt_number": 82
    },
    {
     "cell_type": "code",
     "collapsed": false,
     "input": [],
     "language": "python",
     "metadata": {},
     "outputs": []
    }
   ],
   "metadata": {}
  }
 ]
}