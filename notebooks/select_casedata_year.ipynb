{
 "metadata": {
  "name": ""
 },
 "nbformat": 3,
 "nbformat_minor": 0,
 "worksheets": [
  {
   "cells": [
    {
     "cell_type": "code",
     "collapsed": false,
     "input": [
      "import numpy as np\n",
      "from argus2 import html_parser\n",
      "import argus2\n",
      "import re\n",
      "import urllib2\n",
      "import datetime\n",
      "import base64\n",
      "import pickle\n",
      "import urllib\n",
      "import waterbase\n",
      "import pandas\n",
      "import time"
     ],
     "language": "python",
     "metadata": {},
     "outputs": [],
     "prompt_number": 52
    },
    {
     "cell_type": "code",
     "collapsed": false,
     "input": [
      "# parameters\n",
      "stations = ['kijkduin']\n",
      "cameras = [2,3,4,5]\n",
      "startdate = datetime.datetime(2012,9,1)\n",
      "enddate = datetime.datetime(2014,8,31)\n",
      "freq = 7 # days\n",
      "earliest = 11\n",
      "latest = 16\n",
      "imgtype='snap'\n",
      "wltol = 30 # centimeters"
     ],
     "language": "python",
     "metadata": {},
     "outputs": [],
     "prompt_number": 2
    },
    {
     "cell_type": "code",
     "collapsed": false,
     "input": [
      "import socket\n",
      "socket.gethostname() == 'TUD277229'"
     ],
     "language": "python",
     "metadata": {},
     "outputs": [
      {
       "metadata": {},
       "output_type": "pyout",
       "prompt_number": 3,
       "text": [
        "False"
       ]
      }
     ],
     "prompt_number": 3
    },
    {
     "cell_type": "code",
     "collapsed": false,
     "input": [
      "wb = waterbase.Waterbase()\n",
      "wl = wb.get_data('Water level in cm with respect to normal amsterdam level in surface water','Scheveningen',startdate,enddate)"
     ],
     "language": "python",
     "metadata": {},
     "outputs": [],
     "prompt_number": 3
    },
    {
     "cell_type": "code",
     "collapsed": false,
     "input": [
      "wldates = zip(wl['date'],wl['time'])\n",
      "wldates = [''.join(x) for x in wldates]\n",
      "wldates = [datetime.datetime.strptime(x,'%Y-%m-%d%H:%M')-datetime.timedelta(hours=1) for x in wldates]\n",
      "\n",
      "wlvalues = wl['value'].astype('float')\n",
      "\n",
      "ps = pandas.Series(index = pandas.DatetimeIndex(wldates), data = wlvalues)"
     ],
     "language": "python",
     "metadata": {},
     "outputs": [],
     "prompt_number": 84
    },
    {
     "cell_type": "code",
     "collapsed": false,
     "input": [
      "years = range(startdate.year,enddate.year+1)\n",
      "images = []\n",
      "\n",
      "for i in range(len(stations)):\n",
      "    for j in range(len(cameras)):\n",
      "        day = startdate\n",
      "        while day <= enddate:\n",
      "            if day.year == 2014:\n",
      "                dayimsall = query_catalog(stations[i],int(time.mktime(time.struct_time(day.timetuple()))),int(time.mktime(time.struct_time(day.timetuple())))+24*3600,imgtype,cameras[j])\n",
      "            else:\n",
      "                dayimsall = argus2.html_parser.get_station_images(stations[i],str(day.year),datetime.datetime.strftime(day,'%B'),datetime.datetime.strftime(day,'%d'),imgtype=imgtype)\n",
      "\n",
      "            if not dayimsall:\n",
      "                print 'No images for ' + datetime.datetime.strftime(day,'%Y-%B-%d')\n",
      "                day = day + datetime.timedelta(days=1)\n",
      "                continue\n",
      "                 \n",
      "            dayims = []\n",
      "            dayims.extend([x for x in dayimsall if ('.c' + str(cameras[j]) + '.') in x])\n",
      "                    \n",
      "            if not dayims:\n",
      "                print 'No camera images for ' + datetime.datetime.strftime(day,'%Y-%B-%d')\n",
      "                day = day + datetime.timedelta(days=1)\n",
      "                continue\n",
      "                        \n",
      "            imtimes = []\n",
      "            regexp = re.compile('_(\\d{2}_\\d{2}_\\d{2})')\n",
      "            imtimes.extend([datetime.datetime.strptime(str(day.year) + ' ' + str(day.month) + ' ' + str(day.day) + ' ' + regexp.findall(x)[0],'%Y %m %d %H_%M_%S') for x in dayims])\n",
      "            \n",
      "            imind = [imtimes.index(x) for x in imtimes if x.hour < earliest]\n",
      "            imind.reverse()\n",
      "            [dayims.pop(x) for x in imind]\n",
      "            [imtimes.pop(x) for x in imind]\n",
      "            \n",
      "            imind = [imtimes.index(x) for x in imtimes if x.hour > latest]\n",
      "            imind.reverse()\n",
      "            [dayims.pop(x) for x in imind]\n",
      "            [imtimes.pop(x) for x in imind]\n",
      "            \n",
      "            if not dayims:\n",
      "                print 'No images for ' + datetime.datetime.strftime(day,'%Y-%B-%d') + ' between requested times'\n",
      "                day = day + datetime.timedelta(days=1)\n",
      "                continue\n",
      "                \n",
      "            wlinds = zip(ps > -wltol,ps < wltol,ps.index.hour > earliest,ps.index.hour < latest)\n",
      "            wlinds = [all(x) for x in wlinds]\n",
      "                                    \n",
      "            ps_t = ps[wlinds]\n",
      "            imind = [imtimes.index(x) for x in imtimes if np.all((x > ps_t.index[0],x < ps_t.index[-1]))]\n",
      "                        \n",
      "            if not dayims:\n",
      "                print 'No images for ' + datetime.datetime.strftime(day,'%Y-%B-%d') + ' around MSL'\n",
      "                day = day + datetime.timedelta(days=1)\n",
      "                continue\n",
      "            \n",
      "            psim = pandas.Series(index=[imtimes[x] for x in imind])\n",
      "            images.append(dayims[imtimes.index(pandas.concat([ps_t,psim]).sort_index().interpolate()[imtimes].idxmin())])\n",
      "            \n",
      "            day = day + datetime.timedelta(days=7)"
     ],
     "language": "python",
     "metadata": {},
     "outputs": [
      {
       "output_type": "stream",
       "stream": "stdout",
       "text": [
        "No images for 2012-September-01\n",
        "No images for 2012-September-02\n",
        "No images for 2012-September-03"
       ]
      },
      {
       "output_type": "stream",
       "stream": "stdout",
       "text": [
        "\n",
        "No images for 2012-September-04\n",
        "No images for 2012-September-05"
       ]
      },
      {
       "output_type": "stream",
       "stream": "stdout",
       "text": [
        "\n",
        "No images for 2012-September-06\n",
        "No images for 2012-September-07"
       ]
      },
      {
       "output_type": "stream",
       "stream": "stdout",
       "text": [
        "\n",
        "No images for 2012-September-08\n",
        "No images for 2012-September-09"
       ]
      },
      {
       "output_type": "stream",
       "stream": "stdout",
       "text": [
        "\n",
        "No images for 2012-September-10\n",
        "No images for 2012-September-11"
       ]
      },
      {
       "output_type": "stream",
       "stream": "stdout",
       "text": [
        "\n",
        "No images for 2012-September-12\n",
        "No images for 2012-November-22"
       ]
      },
      {
       "output_type": "stream",
       "stream": "stdout",
       "text": [
        "\n",
        "No images for 2012-November-23\n",
        "No images for 2012-November-24"
       ]
      },
      {
       "output_type": "stream",
       "stream": "stdout",
       "text": [
        "\n",
        "No camera images for 2012-November-25\n",
        "No images for 2012-November-26"
       ]
      },
      {
       "output_type": "stream",
       "stream": "stdout",
       "text": [
        "\n",
        "No images for 2012-November-27\n",
        "No images for 2012-November-28"
       ]
      },
      {
       "output_type": "stream",
       "stream": "stdout",
       "text": [
        "\n",
        "No images for 2012-November-29\n",
        "No images for 2012-November-30"
       ]
      },
      {
       "output_type": "stream",
       "stream": "stdout",
       "text": [
        "\n",
        "No images for 2012-December-01\n",
        "No images for 2012-December-02"
       ]
      },
      {
       "output_type": "stream",
       "stream": "stdout",
       "text": [
        "\n",
        "No images for 2012-December-03\n",
        "No images for 2012-December-04"
       ]
      },
      {
       "output_type": "stream",
       "stream": "stdout",
       "text": [
        "\n",
        "No images for 2012-December-05\n",
        "No images for 2012-December-06"
       ]
      },
      {
       "output_type": "stream",
       "stream": "stdout",
       "text": [
        "\n",
        "No images for 2012-December-07\n",
        "No images for 2012-December-08"
       ]
      },
      {
       "output_type": "stream",
       "stream": "stdout",
       "text": [
        "\n",
        "No images for 2012-December-09\n",
        "No images for 2012-December-10"
       ]
      },
      {
       "output_type": "stream",
       "stream": "stdout",
       "text": [
        "\n",
        "No images for 2012-December-11\n",
        "No images for 2012-December-12"
       ]
      },
      {
       "output_type": "stream",
       "stream": "stdout",
       "text": [
        "\n",
        "No images for 2012-December-13\n",
        "No images for 2012-December-14"
       ]
      },
      {
       "output_type": "stream",
       "stream": "stdout",
       "text": [
        "\n",
        "No images for 2012-December-15\n",
        "No images for 2012-December-16"
       ]
      },
      {
       "output_type": "stream",
       "stream": "stdout",
       "text": [
        "\n",
        "No images for 2012-December-17\n",
        "No images for 2012-December-18"
       ]
      },
      {
       "output_type": "stream",
       "stream": "stdout",
       "text": [
        "\n",
        "No images for 2012-December-19\n",
        "No images for 2012-December-20"
       ]
      },
      {
       "output_type": "stream",
       "stream": "stdout",
       "text": [
        "\n",
        "No images for 2012-December-21\n",
        "No images for 2012-December-22"
       ]
      },
      {
       "output_type": "stream",
       "stream": "stdout",
       "text": [
        "\n",
        "No images for 2012-December-23\n",
        "No images for 2012-December-24"
       ]
      },
      {
       "output_type": "stream",
       "stream": "stdout",
       "text": [
        "\n",
        "No images for 2012-December-25\n",
        "No images for 2012-December-26"
       ]
      },
      {
       "output_type": "stream",
       "stream": "stdout",
       "text": [
        "\n",
        "No images for 2012-December-27\n",
        "No images for 2012-December-28"
       ]
      },
      {
       "output_type": "stream",
       "stream": "stdout",
       "text": [
        "\n",
        "No images for 2012-December-29\n",
        "No images for 2012-December-30"
       ]
      },
      {
       "output_type": "stream",
       "stream": "stdout",
       "text": [
        "\n",
        "No images for 2012-December-31\n",
        "No images for 2013-June-18 between requested times"
       ]
      },
      {
       "output_type": "stream",
       "stream": "stdout",
       "text": [
        "\n",
        "No images for 2013-September-18"
       ]
      },
      {
       "output_type": "stream",
       "stream": "stdout",
       "text": [
        "\n",
        "No images for 2013-October-03"
       ]
      },
      {
       "output_type": "stream",
       "stream": "stdout",
       "text": [
        "\n",
        "No images for 2014-May-30 between requested times"
       ]
      },
      {
       "output_type": "stream",
       "stream": "stdout",
       "text": [
        "\n",
        "No images for 2014-May-31\n",
        "No images for 2014-June-01 between requested times"
       ]
      },
      {
       "output_type": "stream",
       "stream": "stdout",
       "text": [
        "\n",
        "No images for 2014-June-02\n",
        "No images for 2014-June-03\n",
        "No images for 2014-June-04"
       ]
      },
      {
       "output_type": "stream",
       "stream": "stdout",
       "text": [
        "\n",
        "No images for 2014-June-05\n",
        "No images for 2014-June-06\n",
        "No images for 2014-June-07"
       ]
      },
      {
       "output_type": "stream",
       "stream": "stdout",
       "text": [
        "\n",
        "No images for 2014-June-08\n",
        "No images for 2014-June-09\n",
        "No images for 2014-June-10"
       ]
      },
      {
       "output_type": "stream",
       "stream": "stdout",
       "text": [
        "\n",
        "No images for 2014-June-11\n",
        "No images for 2014-June-12\n",
        "No images for 2014-June-13"
       ]
      },
      {
       "output_type": "stream",
       "stream": "stdout",
       "text": [
        "\n",
        "No images for 2014-June-14\n",
        "No images for 2014-June-15\n",
        "No images for 2014-June-16"
       ]
      },
      {
       "output_type": "stream",
       "stream": "stdout",
       "text": [
        "\n",
        "No images for 2014-June-17\n",
        "No images for 2014-June-18\n",
        "No images for 2014-June-19"
       ]
      },
      {
       "output_type": "stream",
       "stream": "stdout",
       "text": [
        "\n",
        "No images for 2014-June-20\n",
        "No images for 2014-June-21\n",
        "No images for 2014-June-22"
       ]
      },
      {
       "output_type": "stream",
       "stream": "stdout",
       "text": [
        "\n",
        "No images for 2014-June-23\n",
        "No images for 2014-June-24\n",
        "No images for 2014-June-25"
       ]
      },
      {
       "output_type": "stream",
       "stream": "stdout",
       "text": [
        "\n",
        "No images for 2014-June-26\n",
        "No images for 2014-June-27\n",
        "No images for 2012-September-01"
       ]
      },
      {
       "output_type": "stream",
       "stream": "stdout",
       "text": [
        "\n",
        "No images for 2012-September-02\n",
        "No images for 2012-September-03"
       ]
      },
      {
       "output_type": "stream",
       "stream": "stdout",
       "text": [
        "\n",
        "No images for 2012-September-04\n",
        "No images for 2012-September-05"
       ]
      },
      {
       "output_type": "stream",
       "stream": "stdout",
       "text": [
        "\n",
        "No images for 2012-September-06\n",
        "No images for 2012-September-07"
       ]
      },
      {
       "output_type": "stream",
       "stream": "stdout",
       "text": [
        "\n",
        "No images for 2012-September-08\n",
        "No images for 2012-September-09"
       ]
      },
      {
       "output_type": "stream",
       "stream": "stdout",
       "text": [
        "\n",
        "No images for 2012-September-10\n",
        "No images for 2012-September-11"
       ]
      },
      {
       "output_type": "stream",
       "stream": "stdout",
       "text": [
        "\n",
        "No images for 2012-September-12\n",
        "No camera images for 2012-September-13"
       ]
      },
      {
       "output_type": "stream",
       "stream": "stdout",
       "text": [
        "\n",
        "No camera images for 2012-September-14"
       ]
      },
      {
       "output_type": "stream",
       "stream": "stdout",
       "text": [
        "\n",
        "No camera images for 2012-September-15"
       ]
      },
      {
       "output_type": "stream",
       "stream": "stdout",
       "text": [
        "\n",
        "No camera images for 2012-September-16"
       ]
      },
      {
       "output_type": "stream",
       "stream": "stdout",
       "text": [
        "\n",
        "No camera images for 2012-September-17"
       ]
      },
      {
       "output_type": "stream",
       "stream": "stdout",
       "text": [
        "\n",
        "No images for 2012-November-20"
       ]
      },
      {
       "output_type": "stream",
       "stream": "stdout",
       "text": [
        "\n",
        "No images for 2012-November-21"
       ]
      },
      {
       "output_type": "stream",
       "stream": "stdout",
       "text": [
        "\n",
        "No images for 2012-November-22\n",
        "No images for 2012-November-23"
       ]
      },
      {
       "output_type": "stream",
       "stream": "stdout",
       "text": [
        "\n",
        "No images for 2012-November-24\n",
        "No camera images for 2012-November-25"
       ]
      },
      {
       "output_type": "stream",
       "stream": "stdout",
       "text": [
        "\n",
        "No images for 2012-November-26\n",
        "No images for 2012-November-27"
       ]
      },
      {
       "output_type": "stream",
       "stream": "stdout",
       "text": [
        "\n",
        "No images for 2012-November-28\n",
        "No images for 2012-November-29"
       ]
      },
      {
       "output_type": "stream",
       "stream": "stdout",
       "text": [
        "\n",
        "No images for 2012-November-30\n",
        "No images for 2012-December-01"
       ]
      },
      {
       "output_type": "stream",
       "stream": "stdout",
       "text": [
        "\n",
        "No images for 2012-December-02\n",
        "No images for 2012-December-03"
       ]
      },
      {
       "output_type": "stream",
       "stream": "stdout",
       "text": [
        "\n",
        "No images for 2012-December-04\n",
        "No images for 2012-December-05"
       ]
      },
      {
       "output_type": "stream",
       "stream": "stdout",
       "text": [
        "\n",
        "No images for 2012-December-06\n",
        "No images for 2012-December-07"
       ]
      },
      {
       "output_type": "stream",
       "stream": "stdout",
       "text": [
        "\n",
        "No images for 2012-December-08\n",
        "No images for 2012-December-09"
       ]
      },
      {
       "output_type": "stream",
       "stream": "stdout",
       "text": [
        "\n",
        "No images for 2012-December-10\n",
        "No images for 2012-December-11"
       ]
      },
      {
       "output_type": "stream",
       "stream": "stdout",
       "text": [
        "\n",
        "No images for 2012-December-12\n",
        "No images for 2012-December-13"
       ]
      },
      {
       "output_type": "stream",
       "stream": "stdout",
       "text": [
        "\n",
        "No images for 2012-December-14\n",
        "No images for 2012-December-15"
       ]
      },
      {
       "output_type": "stream",
       "stream": "stdout",
       "text": [
        "\n",
        "No images for 2012-December-16\n",
        "No images for 2012-December-17"
       ]
      },
      {
       "output_type": "stream",
       "stream": "stdout",
       "text": [
        "\n",
        "No images for 2012-December-18\n",
        "No images for 2012-December-19"
       ]
      },
      {
       "output_type": "stream",
       "stream": "stdout",
       "text": [
        "\n",
        "No images for 2012-December-20\n",
        "No images for 2012-December-21"
       ]
      },
      {
       "output_type": "stream",
       "stream": "stdout",
       "text": [
        "\n",
        "No images for 2012-December-22\n",
        "No images for 2012-December-23"
       ]
      },
      {
       "output_type": "stream",
       "stream": "stdout",
       "text": [
        "\n",
        "No images for 2012-December-24\n",
        "No images for 2012-December-25"
       ]
      },
      {
       "output_type": "stream",
       "stream": "stdout",
       "text": [
        "\n",
        "No images for 2012-December-26\n",
        "No images for 2012-December-27"
       ]
      },
      {
       "output_type": "stream",
       "stream": "stdout",
       "text": [
        "\n",
        "No images for 2012-December-28\n",
        "No images for 2012-December-29"
       ]
      },
      {
       "output_type": "stream",
       "stream": "stdout",
       "text": [
        "\n",
        "No images for 2012-December-30\n",
        "No images for 2012-December-31"
       ]
      },
      {
       "output_type": "stream",
       "stream": "stdout",
       "text": [
        "\n",
        "No images for 2013-June-18 between requested times"
       ]
      },
      {
       "output_type": "stream",
       "stream": "stdout",
       "text": [
        "\n",
        "No images for 2013-September-18"
       ]
      },
      {
       "output_type": "stream",
       "stream": "stdout",
       "text": [
        "\n",
        "No images for 2013-October-03"
       ]
      },
      {
       "output_type": "stream",
       "stream": "stdout",
       "text": [
        "\n",
        "No images for 2014-May-30 between requested times"
       ]
      },
      {
       "output_type": "stream",
       "stream": "stdout",
       "text": [
        "\n",
        "No images for 2014-May-31\n",
        "No images for 2014-June-01 between requested times\n",
        "No images for 2014-June-02"
       ]
      },
      {
       "output_type": "stream",
       "stream": "stdout",
       "text": [
        "\n",
        "No images for 2014-June-03\n",
        "No images for 2014-June-04\n",
        "No images for 2014-June-05"
       ]
      },
      {
       "output_type": "stream",
       "stream": "stdout",
       "text": [
        "\n",
        "No images for 2014-June-06\n",
        "No images for 2014-June-07\n",
        "No images for 2014-June-08"
       ]
      },
      {
       "output_type": "stream",
       "stream": "stdout",
       "text": [
        "\n",
        "No images for 2014-June-09\n",
        "No images for 2014-June-10\n",
        "No images for 2014-June-11"
       ]
      },
      {
       "output_type": "stream",
       "stream": "stdout",
       "text": [
        "\n",
        "No images for 2014-June-12\n",
        "No images for 2014-June-13\n",
        "No images for 2014-June-14"
       ]
      },
      {
       "output_type": "stream",
       "stream": "stdout",
       "text": [
        "\n",
        "No images for 2014-June-15\n",
        "No images for 2014-June-16\n",
        "No images for 2014-June-17"
       ]
      },
      {
       "output_type": "stream",
       "stream": "stdout",
       "text": [
        "\n",
        "No images for 2014-June-18\n",
        "No images for 2014-June-19\n",
        "No images for 2014-June-20"
       ]
      },
      {
       "output_type": "stream",
       "stream": "stdout",
       "text": [
        "\n",
        "No images for 2014-June-21\n",
        "No images for 2014-June-22\n",
        "No images for 2014-June-23"
       ]
      },
      {
       "output_type": "stream",
       "stream": "stdout",
       "text": [
        "\n",
        "No images for 2014-June-24\n",
        "No images for 2014-June-25\n",
        "No images for 2014-June-26"
       ]
      },
      {
       "output_type": "stream",
       "stream": "stdout",
       "text": [
        "\n",
        "No images for 2014-June-27\n",
        "No images for 2012-September-01"
       ]
      },
      {
       "output_type": "stream",
       "stream": "stdout",
       "text": [
        "\n",
        "No images for 2012-September-02\n",
        "No images for 2012-September-03"
       ]
      },
      {
       "output_type": "stream",
       "stream": "stdout",
       "text": [
        "\n",
        "No images for 2012-September-04\n",
        "No images for 2012-September-05"
       ]
      },
      {
       "output_type": "stream",
       "stream": "stdout",
       "text": [
        "\n",
        "No images for 2012-September-06\n",
        "No images for 2012-September-07"
       ]
      },
      {
       "output_type": "stream",
       "stream": "stdout",
       "text": [
        "\n",
        "No images for 2012-September-08\n",
        "No images for 2012-September-09"
       ]
      },
      {
       "output_type": "stream",
       "stream": "stdout",
       "text": [
        "\n",
        "No images for 2012-September-10\n",
        "No images for 2012-September-11"
       ]
      },
      {
       "output_type": "stream",
       "stream": "stdout",
       "text": [
        "\n",
        "No images for 2012-September-12\n",
        "No images for 2012-November-22"
       ]
      },
      {
       "output_type": "stream",
       "stream": "stdout",
       "text": [
        "\n",
        "No images for 2012-November-23\n",
        "No images for 2012-November-24"
       ]
      },
      {
       "output_type": "stream",
       "stream": "stdout",
       "text": [
        "\n",
        "No camera images for 2012-November-25\n",
        "No images for 2012-November-26"
       ]
      },
      {
       "output_type": "stream",
       "stream": "stdout",
       "text": [
        "\n",
        "No images for 2012-November-27\n",
        "No images for 2012-November-28"
       ]
      },
      {
       "output_type": "stream",
       "stream": "stdout",
       "text": [
        "\n",
        "No images for 2012-November-29\n",
        "No images for 2012-November-30"
       ]
      },
      {
       "output_type": "stream",
       "stream": "stdout",
       "text": [
        "\n",
        "No images for 2012-December-01\n",
        "No images for 2012-December-02"
       ]
      },
      {
       "output_type": "stream",
       "stream": "stdout",
       "text": [
        "\n",
        "No images for 2012-December-03\n",
        "No images for 2012-December-04"
       ]
      },
      {
       "output_type": "stream",
       "stream": "stdout",
       "text": [
        "\n",
        "No images for 2012-December-05\n",
        "No images for 2012-December-06"
       ]
      },
      {
       "output_type": "stream",
       "stream": "stdout",
       "text": [
        "\n",
        "No images for 2012-December-07\n",
        "No images for 2012-December-08"
       ]
      },
      {
       "output_type": "stream",
       "stream": "stdout",
       "text": [
        "\n",
        "No images for 2012-December-09\n",
        "No images for 2012-December-10"
       ]
      },
      {
       "output_type": "stream",
       "stream": "stdout",
       "text": [
        "\n",
        "No images for 2012-December-11\n",
        "No images for 2012-December-12"
       ]
      },
      {
       "output_type": "stream",
       "stream": "stdout",
       "text": [
        "\n",
        "No images for 2012-December-13\n",
        "No images for 2012-December-14"
       ]
      },
      {
       "output_type": "stream",
       "stream": "stdout",
       "text": [
        "\n",
        "No images for 2012-December-15\n",
        "No images for 2012-December-16"
       ]
      },
      {
       "output_type": "stream",
       "stream": "stdout",
       "text": [
        "\n",
        "No images for 2012-December-17\n",
        "No images for 2012-December-18"
       ]
      },
      {
       "output_type": "stream",
       "stream": "stdout",
       "text": [
        "\n",
        "No images for 2012-December-19\n",
        "No images for 2012-December-20"
       ]
      },
      {
       "output_type": "stream",
       "stream": "stdout",
       "text": [
        "\n",
        "No images for 2012-December-21\n",
        "No images for 2012-December-22"
       ]
      },
      {
       "output_type": "stream",
       "stream": "stdout",
       "text": [
        "\n",
        "No images for 2012-December-23\n",
        "No images for 2012-December-24"
       ]
      },
      {
       "output_type": "stream",
       "stream": "stdout",
       "text": [
        "\n",
        "No images for 2012-December-25\n",
        "No images for 2012-December-26"
       ]
      },
      {
       "output_type": "stream",
       "stream": "stdout",
       "text": [
        "\n",
        "No images for 2012-December-27\n",
        "No images for 2012-December-28"
       ]
      },
      {
       "output_type": "stream",
       "stream": "stdout",
       "text": [
        "\n",
        "No images for 2012-December-29\n",
        "No images for 2012-December-30"
       ]
      },
      {
       "output_type": "stream",
       "stream": "stdout",
       "text": [
        "\n",
        "No images for 2012-December-31\n",
        "No images for 2013-June-18 between requested times"
       ]
      },
      {
       "output_type": "stream",
       "stream": "stdout",
       "text": [
        "\n",
        "No camera images for 2013-September-11"
       ]
      },
      {
       "output_type": "stream",
       "stream": "stdout",
       "text": [
        "\n",
        "No camera images for 2013-September-12\n",
        "No images for 2014-May-30 between requested times"
       ]
      },
      {
       "output_type": "stream",
       "stream": "stdout",
       "text": [
        "\n",
        "No images for 2014-May-31\n",
        "No images for 2014-June-01\n",
        "No images for 2014-June-02"
       ]
      },
      {
       "output_type": "stream",
       "stream": "stdout",
       "text": [
        "\n",
        "No images for 2014-June-03\n",
        "No images for 2014-June-04\n",
        "No images for 2014-June-05"
       ]
      },
      {
       "output_type": "stream",
       "stream": "stdout",
       "text": [
        "\n",
        "No images for 2014-June-06\n",
        "No images for 2014-June-07\n",
        "No images for 2014-June-08"
       ]
      },
      {
       "output_type": "stream",
       "stream": "stdout",
       "text": [
        "\n",
        "No images for 2014-June-09\n",
        "No images for 2014-June-10\n",
        "No images for 2014-June-11"
       ]
      },
      {
       "output_type": "stream",
       "stream": "stdout",
       "text": [
        "\n",
        "No images for 2014-June-12\n",
        "No images for 2014-June-13\n",
        "No images for 2014-June-14"
       ]
      },
      {
       "output_type": "stream",
       "stream": "stdout",
       "text": [
        "\n",
        "No images for 2014-June-15\n",
        "No images for 2014-June-16\n",
        "No images for 2014-June-17"
       ]
      },
      {
       "output_type": "stream",
       "stream": "stdout",
       "text": [
        "\n",
        "No images for 2014-June-18\n",
        "No images for 2014-June-19\n",
        "No images for 2014-June-20"
       ]
      },
      {
       "output_type": "stream",
       "stream": "stdout",
       "text": [
        "\n",
        "No images for 2014-June-21\n",
        "No images for 2014-June-22\n",
        "No images for 2014-June-23"
       ]
      },
      {
       "output_type": "stream",
       "stream": "stdout",
       "text": [
        "\n",
        "No images for 2014-June-24\n",
        "No images for 2014-June-25\n",
        "No images for 2014-June-26"
       ]
      },
      {
       "output_type": "stream",
       "stream": "stdout",
       "text": [
        "\n",
        "No images for 2014-June-27\n",
        "No images for 2012-September-01"
       ]
      },
      {
       "output_type": "stream",
       "stream": "stdout",
       "text": [
        "\n",
        "No images for 2012-September-02\n",
        "No images for 2012-September-03"
       ]
      },
      {
       "output_type": "stream",
       "stream": "stdout",
       "text": [
        "\n",
        "No images for 2012-September-04\n",
        "No images for 2012-September-05"
       ]
      },
      {
       "output_type": "stream",
       "stream": "stdout",
       "text": [
        "\n",
        "No images for 2012-September-06\n",
        "No images for 2012-September-07"
       ]
      },
      {
       "output_type": "stream",
       "stream": "stdout",
       "text": [
        "\n",
        "No images for 2012-September-08\n",
        "No images for 2012-September-09"
       ]
      },
      {
       "output_type": "stream",
       "stream": "stdout",
       "text": [
        "\n",
        "No images for 2012-September-10\n",
        "No images for 2012-September-11"
       ]
      },
      {
       "output_type": "stream",
       "stream": "stdout",
       "text": [
        "\n",
        "No images for 2012-September-12\n",
        "No images for 2012-November-22"
       ]
      },
      {
       "output_type": "stream",
       "stream": "stdout",
       "text": [
        "\n",
        "No images for 2012-November-23\n",
        "No images for 2012-November-24"
       ]
      },
      {
       "output_type": "stream",
       "stream": "stdout",
       "text": [
        "\n",
        "No camera images for 2012-November-25\n",
        "No images for 2012-November-26"
       ]
      },
      {
       "output_type": "stream",
       "stream": "stdout",
       "text": [
        "\n",
        "No images for 2012-November-27\n",
        "No images for 2012-November-28"
       ]
      },
      {
       "output_type": "stream",
       "stream": "stdout",
       "text": [
        "\n",
        "No images for 2012-November-29\n",
        "No images for 2012-November-30"
       ]
      },
      {
       "output_type": "stream",
       "stream": "stdout",
       "text": [
        "\n",
        "No images for 2012-December-01\n",
        "No images for 2012-December-02"
       ]
      },
      {
       "output_type": "stream",
       "stream": "stdout",
       "text": [
        "\n",
        "No images for 2012-December-03\n",
        "No images for 2012-December-04"
       ]
      },
      {
       "output_type": "stream",
       "stream": "stdout",
       "text": [
        "\n",
        "No images for 2012-December-05\n",
        "No images for 2012-December-06"
       ]
      },
      {
       "output_type": "stream",
       "stream": "stdout",
       "text": [
        "\n",
        "No images for 2012-December-07\n",
        "No images for 2012-December-08"
       ]
      },
      {
       "output_type": "stream",
       "stream": "stdout",
       "text": [
        "\n",
        "No images for 2012-December-09\n",
        "No images for 2012-December-10"
       ]
      },
      {
       "output_type": "stream",
       "stream": "stdout",
       "text": [
        "\n",
        "No images for 2012-December-11\n",
        "No images for 2012-December-12"
       ]
      },
      {
       "output_type": "stream",
       "stream": "stdout",
       "text": [
        "\n",
        "No images for 2012-December-13\n",
        "No images for 2012-December-14"
       ]
      },
      {
       "output_type": "stream",
       "stream": "stdout",
       "text": [
        "\n",
        "No images for 2012-December-15\n",
        "No images for 2012-December-16"
       ]
      },
      {
       "output_type": "stream",
       "stream": "stdout",
       "text": [
        "\n",
        "No images for 2012-December-17\n",
        "No images for 2012-December-18"
       ]
      },
      {
       "output_type": "stream",
       "stream": "stdout",
       "text": [
        "\n",
        "No images for 2012-December-19\n",
        "No images for 2012-December-20"
       ]
      },
      {
       "output_type": "stream",
       "stream": "stdout",
       "text": [
        "\n",
        "No images for 2012-December-21\n",
        "No images for 2012-December-22"
       ]
      },
      {
       "output_type": "stream",
       "stream": "stdout",
       "text": [
        "\n",
        "No images for 2012-December-23"
       ]
      },
      {
       "output_type": "stream",
       "stream": "stdout",
       "text": [
        "\n",
        "No images for 2012-December-24\n",
        "No images for 2012-December-25"
       ]
      },
      {
       "output_type": "stream",
       "stream": "stdout",
       "text": [
        "\n",
        "No images for 2012-December-26\n",
        "No images for 2012-December-27"
       ]
      },
      {
       "output_type": "stream",
       "stream": "stdout",
       "text": [
        "\n",
        "No images for 2012-December-28\n",
        "No images for 2012-December-29"
       ]
      },
      {
       "output_type": "stream",
       "stream": "stdout",
       "text": [
        "\n",
        "No images for 2012-December-30\n",
        "No images for 2012-December-31"
       ]
      },
      {
       "output_type": "stream",
       "stream": "stdout",
       "text": [
        "\n",
        "No images for 2013-June-18 between requested times"
       ]
      },
      {
       "output_type": "stream",
       "stream": "stdout",
       "text": [
        "\n",
        "No camera images for 2013-September-11"
       ]
      },
      {
       "output_type": "stream",
       "stream": "stdout",
       "text": [
        "\n",
        "No camera images for 2013-September-12\n",
        "No images for 2014-May-30 between requested times"
       ]
      },
      {
       "output_type": "stream",
       "stream": "stdout",
       "text": [
        "\n",
        "No images for 2014-May-31\n",
        "No images for 2014-June-01"
       ]
      },
      {
       "output_type": "stream",
       "stream": "stdout",
       "text": [
        "\n",
        "No images for 2014-June-02\n",
        "No images for 2014-June-03\n",
        "No images for 2014-June-04"
       ]
      },
      {
       "output_type": "stream",
       "stream": "stdout",
       "text": [
        "\n",
        "No images for 2014-June-05\n",
        "No images for 2014-June-06\n",
        "No images for 2014-June-07"
       ]
      },
      {
       "output_type": "stream",
       "stream": "stdout",
       "text": [
        "\n",
        "No images for 2014-June-08\n",
        "No images for 2014-June-09\n",
        "No images for 2014-June-10"
       ]
      },
      {
       "output_type": "stream",
       "stream": "stdout",
       "text": [
        "\n",
        "No images for 2014-June-11\n",
        "No images for 2014-June-12"
       ]
      },
      {
       "output_type": "stream",
       "stream": "stdout",
       "text": [
        "\n",
        "No images for 2014-June-13\n",
        "No images for 2014-June-14\n",
        "No images for 2014-June-15"
       ]
      },
      {
       "output_type": "stream",
       "stream": "stdout",
       "text": [
        "\n",
        "No images for 2014-June-16\n",
        "No images for 2014-June-17\n",
        "No images for 2014-June-18"
       ]
      },
      {
       "output_type": "stream",
       "stream": "stdout",
       "text": [
        "\n",
        "No images for 2014-June-19\n",
        "No images for 2014-June-20\n",
        "No images for 2014-June-21"
       ]
      },
      {
       "output_type": "stream",
       "stream": "stdout",
       "text": [
        "\n",
        "No images for 2014-June-22\n",
        "No images for 2014-June-23\n",
        "No images for 2014-June-24"
       ]
      },
      {
       "output_type": "stream",
       "stream": "stdout",
       "text": [
        "\n",
        "No images for 2014-June-25\n",
        "No images for 2014-June-26\n",
        "No images for 2014-June-27"
       ]
      },
      {
       "output_type": "stream",
       "stream": "stdout",
       "text": [
        "\n"
       ]
      }
     ],
     "prompt_number": 86
    },
    {
     "cell_type": "code",
     "collapsed": false,
     "input": [
      "len(images)"
     ],
     "language": "python",
     "metadata": {},
     "outputs": [
      {
       "metadata": {},
       "output_type": "pyout",
       "prompt_number": 88,
       "text": [
        "371"
       ]
      }
     ],
     "prompt_number": 88
    },
    {
     "cell_type": "code",
     "collapsed": false,
     "input": [
      "ps.plot(figsize=(100,5))"
     ],
     "language": "python",
     "metadata": {},
     "outputs": [
      {
       "output_type": "pyout",
       "prompt_number": 99,
       "text": [
        "<matplotlib.axes.AxesSubplot at 0x7e661b0>"
       ]
      },
      {
       "output_type": "display_data",
       "png": "[encoded data removed]"
      }
     ],
     "prompt_number": 99
    },
    {
     "cell_type": "code",
     "collapsed": false,
     "input": [
      "with open('images_beachwidth.txt','wb') as f:\n",
      "    for i in range(len(images)):\n",
      "        f.write(images[i]+'\\n')\n",
      "        #f.write(re.findall('\\d{10}',images[i])[0] + ' ' + re.findall('c\\d',images[i])[0] + '   ' + '\\n')"
     ],
     "language": "python",
     "metadata": {},
     "outputs": [],
     "prompt_number": 89
    },
    {
     "cell_type": "code",
     "collapsed": false,
     "input": [
      "tims = [datetime.datetime(2013,1,10,1,0,15)]\n",
      "for i in range(10):\n",
      "    tims.append(tims[-1]+datetime.timedelta(hours=1,minutes=20))\n",
      "[i > datetime.datetime(2013,1,10,5,0,0) for i in tims]"
     ],
     "language": "python",
     "metadata": {},
     "outputs": [
      {
       "output_type": "pyout",
       "prompt_number": 16,
       "text": [
        "[False, False, False, True, True, True, True, True, True, True, True]"
       ]
      }
     ],
     "prompt_number": 16
    },
    {
     "cell_type": "code",
     "collapsed": false,
     "input": [
      "base64string = base64.encodestring('%s:%s' % ('zamo', 'delflandsekust'))[:-1]\n",
      "authheader =  \"Basic %s\" % base64string\n",
      "\n",
      "with open('images_shoreline.txt','rb') as f:\n",
      "    for l in f:\n",
      "        imname = re.findall('(?<=/).[^/]*.jpg',l)\n",
      "        img=urllib.URLopener()\n",
      "        try:\n",
      "            img.retrieve(l,imname[0])\n",
      "        except:        \n",
      "            img.addheader(\"Authorization\", authheader)\n",
      "            img.retrieve(l,imname[0])"
     ],
     "language": "python",
     "metadata": {},
     "outputs": [],
     "prompt_number": 40
    },
    {
     "cell_type": "code",
     "collapsed": false,
     "input": [
      "req = urllib2.Request(l)\n",
      "#req.add_header(\"Authorization\", authheader)\n",
      "img = urllib.URLopener()"
     ],
     "language": "python",
     "metadata": {},
     "outputs": [],
     "prompt_number": 37
    },
    {
     "cell_type": "code",
     "collapsed": false,
     "input": [
      "import urllib2"
     ],
     "language": "python",
     "metadata": {},
     "outputs": [],
     "prompt_number": 13
    },
    {
     "cell_type": "code",
     "collapsed": false,
     "input": [
      "import urllib2\n",
      "import re\n",
      "\n",
      "def query_catalog(site,startepoch,endepoch,imtype,cams):\n",
      "    if type(cams) is int:\n",
      "        cams = [cams]\n",
      "    \n",
      "    imurls = []\n",
      "    for c in cams:\n",
      "        se = startepoch\n",
      "        while True:\n",
      "            url = 'http://argus-public.deltares.nl/catalog/?site=%s&startEpoch=%i&endEpoch=%i&type=%s&camera=%i' % (site, se, endepoch, imtype, c)\n",
      "            imurl = urllib2.urlopen(url)\n",
      "            imurl = imurl.read().split('\\n')[:-1]\n",
      "            \n",
      "            imurls.extend(imurl)\n",
      "            \n",
      "            if len(imurl) < 50000:\n",
      "                break\n",
      "            else:\n",
      "                se = int(re.findall('(?<=/)[0-9]{10}(?=\\.)',imurl[-1])[0])\n",
      "            \n",
      "    return imurls"
     ],
     "language": "python",
     "metadata": {},
     "outputs": [],
     "prompt_number": 37
    },
    {
     "cell_type": "code",
     "collapsed": false,
     "input": [
      "iu = query_catalog('jvspeijk',1300000000,1310000000,'snap',[1,2,3,4,5,6])"
     ],
     "language": "python",
     "metadata": {},
     "outputs": [],
     "prompt_number": 69
    },
    {
     "cell_type": "code",
     "collapsed": false,
     "input": [
      "fig,ax = plt.subplots(figsize=(15,5))\n",
      "plt.plot(wldates[50000:50100],wlvalues[50000:50100])\n",
      "wldates[50000]"
     ],
     "language": "python",
     "metadata": {},
     "outputs": [
      {
       "metadata": {},
       "output_type": "pyout",
       "prompt_number": 85,
       "text": [
        "datetime.datetime(2013, 8, 14, 4, 20)"
       ]
      },
      {
       "metadata": {},
       "output_type": "display_data",
       "png": "[encoded data removed]",
       "text": [
        "<matplotlib.figure.Figure at 0xb8d5e10>"
       ]
      }
     ],
     "prompt_number": 85
    }
   ],
   "metadata": {}
  }
 ]
}