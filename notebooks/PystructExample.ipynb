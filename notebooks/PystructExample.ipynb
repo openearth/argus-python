{
 "metadata": {
  "name": ""
 },
 "nbformat": 3,
 "nbformat_minor": 0,
 "worksheets": [
  {
   "cells": [
    {
     "cell_type": "code",
     "collapsed": false,
     "input": [
      "import numpy as np\n",
      "import matplotlib.pyplot as plt\n",
      "\n",
      "from pystruct.models import GridCRF\n",
      "import pystruct.learners as ssvm\n",
      "from pystruct.datasets import generate_crosses_explicit\n",
      "from pystruct.utils import expand_sym"
     ],
     "language": "python",
     "metadata": {},
     "outputs": [],
     "prompt_number": 1
    },
    {
     "cell_type": "code",
     "collapsed": false,
     "input": [
      "X, Y = generate_crosses_explicit(n_samples=50, noise=10)\n",
      "X = X[:,:,:,:-1]\n",
      "crf = GridCRF(neighborhood=4)\n",
      "clf = ssvm.OneSlackSSVM(model=crf, C=100, n_jobs=-1, inference_cache=100,\n",
      "                        tol=.1)"
     ],
     "language": "python",
     "metadata": {},
     "outputs": [],
     "prompt_number": 2
    },
    {
     "cell_type": "code",
     "collapsed": false,
     "input": [
      "clf.fit(X, Y)\n",
      "Y_pred = np.array(clf.predict(X))\n",
      "\n",
      "print(\"overall accuracy (training set): %f\" % clf.score(X, Y))"
     ],
     "language": "python",
     "metadata": {},
     "outputs": [
      {
       "output_type": "stream",
       "stream": "stdout",
       "text": [
        "Training 1-slack dual structural SVM\n",
        "new constraint too weak."
       ]
      },
      {
       "output_type": "stream",
       "stream": "stdout",
       "text": [
        "\n",
        "new constraint too weak."
       ]
      },
      {
       "output_type": "stream",
       "stream": "stdout",
       "text": [
        "\n",
        "new constraint too weak."
       ]
      },
      {
       "output_type": "stream",
       "stream": "stdout",
       "text": [
        "\n",
        "no additional constraints\n",
        "overall accuracy (training set): 0.988395"
       ]
      },
      {
       "output_type": "stream",
       "stream": "stdout",
       "text": [
        "\n"
       ]
      }
     ],
     "prompt_number": 3
    },
    {
     "cell_type": "code",
     "collapsed": false,
     "input": [
      "# plot one example\n",
      "x, y, y_pred = X[0], Y[0], Y_pred[0]\n",
      "y_pred = y_pred.reshape(x.shape[:2])\n",
      "fig, plots = plt.subplots(1, 4, figsize=(12, 4))\n",
      "plots[0].matshow(y)\n",
      "plots[0].set_title(\"ground truth\")\n",
      "plots[1].matshow(np.argmax(x, axis=-1))\n",
      "plots[1].set_title(\"input\")\n",
      "plots[2].matshow(y_pred)\n",
      "plots[2].set_title(\"prediction\")\n",
      "loss_augmented = clf.model.loss_augmented_inference(x, y, clf.w)\n",
      "loss_augmented = loss_augmented.reshape(y.shape)\n",
      "plots[3].matshow(loss_augmented)\n",
      "plots[3].set_title(\"loss augmented\")\n",
      "for p in plots:\n",
      "    p.set_xticks(())\n",
      "    p.set_yticks(())\n",
      "\n",
      "# visualize weights\n",
      "w_un = clf.w[:2 * 3].reshape(3, 2)\n",
      "# decode the symmetric pairwise potential\n",
      "w_pw = expand_sym(clf.w[2 * 3:])\n",
      "\n",
      "fig = plt.figure(figsize=(8, 4))\n",
      "p0 = fig.add_subplot(121)\n",
      "m0 = p0.matshow(w_un, cmap='bwr', vmin=-5, vmax=5)\n",
      "p0.set_title(\"Unary weights\")\n",
      "m0.set_colorbar(w_un,p0)\n",
      "plt.colorbar(m0)\n",
      "p1 = fig.add_subplot(122)\n",
      "m1 = p1.matshow(w_pw, cmap='bwr', vmin=-5, vmax=5)\n",
      "p1.set_title(\"Pairwise weights\")\n",
      "m1.set_colorbar(w_pw,p1)\n",
      "plt.colorbar(m1)"
     ],
     "language": "python",
     "metadata": {},
     "outputs": [
      {
       "output_type": "pyout",
       "prompt_number": 37,
       "text": [
        "<matplotlib.colorbar.Colorbar instance at 0x09827AA8>"
       ]
      },
      {
       "output_type": "display_data",
       "png": "[encoded data removed]"
      },
      {
       "output_type": "display_data",
       "png": "[encoded data removed]"
      }
     ],
     "prompt_number": 37
    },
    {
     "cell_type": "code",
     "collapsed": false,
     "input": [
      "w_un"
     ],
     "language": "python",
     "metadata": {},
     "outputs": [
      {
       "output_type": "pyout",
       "prompt_number": 33,
       "text": [
        "array([[ 11.9319434 ,  -0.7342765 ],\n",
        "       [ -1.88955721,  -0.41949381],\n",
        "       [-10.04238619,   1.15377031]])"
       ]
      }
     ],
     "prompt_number": 33
    }
   ],
   "metadata": {}
  }
 ]
}