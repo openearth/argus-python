{
 "metadata": {
  "name": ""
 },
 "nbformat": 3,
 "nbformat_minor": 0,
 "worksheets": [
  {
   "cells": [
    {
     "cell_type": "code",
     "collapsed": false,
     "input": [
      "import cPickle as pickle\n",
      "import glob\n",
      "import os\n",
      "\n",
      "fpath = '/flamingo/datasets/argusnl'"
     ],
     "language": "python",
     "metadata": {},
     "outputs": [],
     "prompt_number": 7
    },
    {
     "cell_type": "code",
     "collapsed": false,
     "input": [
      "for fname in glob.glob(os.path.join(fpath, 'model_CRF_ARGUSNL_I192_B6_2014*.backup.pkl')):\n",
      "    print fname\n",
      "    with open(os.path.join(fpath, fname), 'r') as fp:\n",
      "        model = pickle.load(fp)\n",
      "        print model.clist"
     ],
     "language": "python",
     "metadata": {},
     "outputs": [
      {
       "output_type": "stream",
       "stream": "stdout",
       "text": [
        "[u'object', u'sand', u'sky', u'vegetation', u'water']\n",
        "[u'object', u'sand', u'sky', u'vegetation', u'water']"
       ]
      },
      {
       "output_type": "stream",
       "stream": "stdout",
       "text": [
        "\n",
        "[u'object', u'sand', u'sky', u'vegetation', u'water']"
       ]
      },
      {
       "output_type": "stream",
       "stream": "stdout",
       "text": [
        "\n"
       ]
      }
     ],
     "prompt_number": 8
    },
    {
     "cell_type": "code",
     "collapsed": false,
     "input": [
      "for fname in glob.glob(os.path.join(fpath, 'model_CRF_ARGUSNL_I192_B6_2014*.backup.meta.pkl')):\n",
      "    print fname\n",
      "    with open(os.path.join(fpath, fname), 'r') as fp:\n",
      "        meta = pickle.load(fp)\n",
      "        print meta.keys()\n",
      "        print meta['dataset']"
     ],
     "language": "python",
     "metadata": {},
     "outputs": [
      {
       "output_type": "stream",
       "stream": "stdout",
       "text": [
        "/flamingo/datasets/argusnl/model_CRF_ARGUSNL_I192_B6_20140828170546.0.backup.meta.pkl\n",
        "['features', 'feature_blocks', 'model_type', 'dataset', 'images_train', 'images_test', 'classes', 'images']\n",
        "argusnl\n",
        "/flamingo/datasets/argusnl/model_CRF_ARGUSNL_I192_B6_20140907014837.1.backup.meta.pkl\n",
        "['features', 'feature_blocks', 'model_type', 'dataset', 'images_train', 'images_test', 'classes', 'images']\n",
        "argusnl\n",
        "/flamingo/datasets/argusnl/model_CRF_ARGUSNL_I192_B6_20140909225215.3.backup.meta.pkl\n",
        "['features', 'feature_blocks', 'model_type', 'dataset', 'images_train', 'images_test', 'classes', 'images']\n",
        "argusnl\n"
       ]
      }
     ],
     "prompt_number": 13
    },
    {
     "cell_type": "code",
     "collapsed": false,
     "input": [],
     "language": "python",
     "metadata": {},
     "outputs": []
    }
   ],
   "metadata": {}
  }
 ]
}