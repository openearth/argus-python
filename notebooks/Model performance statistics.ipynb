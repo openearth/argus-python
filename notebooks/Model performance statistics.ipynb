{
 "metadata": {
  "name": ""
 },
 "nbformat": 3,
 "nbformat_minor": 0,
 "worksheets": [
  {
   "cells": [
    {
     "cell_type": "code",
     "collapsed": false,
     "input": [
      "import os\n",
      "import cPickle as pickle\n",
      "from pystruct import models, learners\n",
      "from sklearn import linear_model\n",
      "from sklearn.cross_validation import train_test_split\n",
      "from random import choice\n",
      "import numpy as np\n",
      "\n",
      "fpath = '../../argusgui/argusgui/datasets/argusnl_new/'"
     ],
     "language": "python",
     "metadata": {},
     "outputs": [],
     "prompt_number": 23
    },
    {
     "cell_type": "code",
     "collapsed": false,
     "input": [
      "# LOAD\n",
      "fp = open(os.path.join(fpath, 'training_data.pkl'), 'rb')\n",
      "X, Y = pickle.load(fp)\n",
      "fp.close()"
     ],
     "language": "python",
     "metadata": {},
     "outputs": [],
     "prompt_number": 16
    },
    {
     "cell_type": "code",
     "collapsed": false,
     "input": [
      "n = len(X)\n",
      "nf = X[0].shape[-1]\n",
      "\n",
      "classlist = np.unique(np.hstack([y.ravel() for y in Y]))\n",
      "\n",
      "print n\n",
      "print nf\n",
      "print classlist"
     ],
     "language": "python",
     "metadata": {},
     "outputs": [
      {
       "output_type": "stream",
       "stream": "stdout",
       "text": [
        "95\n",
        "594\n",
        "[u'objectbeach' u'objectdune' u'objectsea' u'sandbeach' u'sanddune' u'sky'\n",
        " u'vegetation' u'waterpool' u'watersea']\n"
       ]
      }
     ],
     "prompt_number": 18
    },
    {
     "cell_type": "code",
     "collapsed": false,
     "input": [
      "fp = open(os.path.join(fpath, 'logreg.pkl'), 'rb')\n",
      "model = pickle.load(fp)\n",
      "fp.close()"
     ],
     "language": "python",
     "metadata": {},
     "outputs": [],
     "prompt_number": 13
    },
    {
     "cell_type": "code",
     "collapsed": false,
     "input": [
      "X_train, X_test, Y_train, Y_test, images_train, images_test = train_test_split(X, Y, images)\n",
      "\n",
      "print X_train.shape\n",
      "print Y_train.shape\n",
      "print X_test.shape\n",
      "print Y_test.shape"
     ],
     "language": "python",
     "metadata": {},
     "outputs": [
      {
       "output_type": "stream",
       "stream": "stdout",
       "text": [
        "(71,)\n",
        "(71,)\n",
        "(24,)\n",
        "(24,)\n"
       ]
      }
     ],
     "prompt_number": 19
    },
    {
     "cell_type": "code",
     "collapsed": false,
     "input": [
      "Xl_train = np.vstack([x.reshape((-1,nf)) for x in X_train])\n",
      "Yl_train = np.hstack([y.ravel() for y in Y_train]).T\n",
      "\n",
      "Xl_test = np.vstack([x.reshape((-1,nf)) for x in X_test])\n",
      "Yl_test = np.hstack([y.ravel() for y in Y_test]).T\n",
      "\n",
      "print Xl_train.shape\n",
      "print Yl_train.shape\n",
      "print Xl_test.shape\n",
      "print Yl_test.shape"
     ],
     "language": "python",
     "metadata": {},
     "outputs": [
      {
       "output_type": "stream",
       "stream": "stdout",
       "text": [
        "(41797, 594)\n",
        "(41797,)\n",
        "(14202, 594)\n",
        "(14202,)\n"
       ]
      }
     ],
     "prompt_number": 20
    },
    {
     "cell_type": "code",
     "collapsed": false,
     "input": [
      "classlist = list(classlist)\n",
      "n = len(images_test)\n",
      "\n",
      "nclass = len(classlist)\n",
      "confmat = np.zeros((nclass,nclass))\n",
      "\n",
      "for i, fname in enumerate(images_test):\n",
      "    \n",
      "    #print fname\n",
      "    \n",
      "    imagefile    = os.path.join(fpath, 'cropped_' + fname)\n",
      "    segmentsfile = os.path.join(fpath, fname.replace('.jpg','.segments.pkl'))\n",
      "    featuresfile = os.path.join(fpath, fname.replace('.jpg','.features_normalized.pkl'))\n",
      "    classfile    = os.path.join(fpath, fname.replace('.jpg','.classes.pkl'))\n",
      "\n",
      "    img = plt.imread(imagefile)\n",
      "\n",
      "    fp = open(segmentsfile, 'rb')\n",
      "    seg = pickle.load(fp)\n",
      "    fp.close()\n",
      "\n",
      "    fp = open(featuresfile, 'rb')\n",
      "    fea = pickle.load(fp)\n",
      "    fp.close()\n",
      "\n",
      "    fp = open(classfile, 'rb')\n",
      "    cls = pickle.load(fp)\n",
      "    fp.close()\n",
      "   \n",
      "    segments = np.array(seg['segments'])\n",
      "\n",
      "    groundtruth = np.empty(segments.shape)\n",
      "    for j, c in enumerate(cls):\n",
      "        groundtruth[segments==j] = classlist.index(c)\n",
      "    \n",
      "    # make sure all features are alphabetically sorted\n",
      "    arr = np.array([[v for k,v in sorted(x.items())] for x in fea])\n",
      "        \n",
      "    # remove nan's\n",
      "    idx = np.all(np.isnan(arr), axis=0)\n",
      "    arr = arr[:,~idx]\n",
      "\n",
      "    pred = model.predict(arr)\n",
      "\n",
      "    clsnum = np.empty(len(cls))\n",
      "    prednum = np.empty(len(cls))\n",
      "    \n",
      "    clsnum = np.array([classlist.index(x) for x in cls])\n",
      "    prednum = np.array([classlist.index(x) for x in pred])\n",
      "    \n",
      "    if len(clsnum) != len(prednum):\n",
      "        print fname\n",
      "    \n",
      "    for j in range(len(clsnum)):\n",
      "        confmat[clsnum[j],prednum[j]] += 1\n",
      "        \n",
      "mattel"
     ],
     "language": "python",
     "metadata": {},
     "outputs": [
      {
       "output_type": "pyout",
       "prompt_number": 60,
       "text": [
        "array([[ 3.,  1.,  0.],\n",
        "       [ 1.,  0.,  3.],\n",
        "       [ 0.,  0.,  1.]])"
       ]
      }
     ],
     "prompt_number": 60
    },
    {
     "cell_type": "code",
     "collapsed": false,
     "input": [
      "mattel = np.zeros((3,3))\n",
      "mata = np.array([[1,2,1],[2,2,1],[2,3,1]])-1\n",
      "matb = np.array([[1,1,1],[3,3,2],[3,3,1]])-1\n",
      "inds = zip(mata.ravel(),matb.ravel())\n",
      "for ind in inds:\n",
      "    mattel[ind[0],ind[1]] += 1\n",
      "mattel"
     ],
     "language": "python",
     "metadata": {},
     "outputs": [
      {
       "output_type": "pyout",
       "prompt_number": 46,
       "text": [
        "array([[ 3.,  1.,  0.],\n",
        "       [ 1.,  0.,  3.],\n",
        "       [ 0.,  0.,  1.]])"
       ]
      }
     ],
     "prompt_number": 46
    },
    {
     "cell_type": "code",
     "collapsed": false,
     "input": [
      "confmat1 = confmat / np.repeat(confmat.sum(axis = 1).reshape((9,1)),confmat.shape[1],axis = 1)\n",
      "confmat1[7,:] = 0\n",
      "fig = plt.figure()\n",
      "ax1 = fig.add_subplot(121)\n",
      "ax1.matshow(confmat1,cmap = 'jet')\n",
      "ax1.set_xticks(range(9))\n",
      "ax1.set_yticks(range(9))\n",
      "ax1.set_xticklabels(classlist,rotation = 90)\n",
      "ax1.set_yticklabels(classlist,rotation = 0)\n",
      "ax1.set_ylabel('Groundtruth')\n",
      "ax1.set_xlabel('Predicted')\n",
      "ax2 = fig.add_subplot(122)\n",
      "ax2.matshow(confmat)\n",
      "ax2.set_xticks(range(9))\n",
      "ax2.set_yticks(range(0))\n",
      "ax2.set_xticklabels(classlist,rotation = 90)\n",
      "#ax2.set_yticklabels(classlist,rotation = 0)\n",
      "#ax2.set_ylabel('Groundtruth')\n",
      "ax2.set_xlabel('Predicted')"
     ],
     "language": "python",
     "metadata": {},
     "outputs": [
      {
       "output_type": "pyout",
       "prompt_number": 155,
       "text": [
        "<matplotlib.text.Text at 0x47e33750>"
       ]
      },
      {
       "output_type": "display_data",
       "png": "[encoded data removed]"
      }
     ],
     "prompt_number": 155
    },
    {
     "cell_type": "code",
     "collapsed": false,
     "input": [],
     "language": "python",
     "metadata": {},
     "outputs": []
    },
    {
     "cell_type": "code",
     "collapsed": false,
     "input": [
      "images = ['1368446403.Mon.May.13_12_00_03.UTC.2013.zandmotor.c3.snap.jpg',\n",
      "'1378206005.Tue.Sep.03_11_00_05.UTC.2013.zandmotor.c8.snap.jpg',\n",
      "'1371547807.Tue.Jun.18_09_30_07.UTC.2013.kijkduin.c6.snap.jpg',\n",
      "'1376488803.Wed.Aug.14_14_00_03.GMT.2013.jvspeijk.c2.snap.jpg',\n",
      "'1373972403.Tue.Jul.16_11_00_03.GMT.2013.jvspeijk.c2.snap.jpg',\n",
      "'1371981606.Sun.Jun.23_10_00_06.UTC.2013.kijkduin.c6.snap.jpg',\n",
      "'1367407802.Wed.May.01_11_30_02.GMT.2013.egmond.c2.snap.jpg',\n",
      "'1376049603.Fri.Aug.09_12_00_03.GMT.2013.jvspeijk.c3.snap.jpg',\n",
      "'1377862208.Fri.Aug.30_11_30_08.UTC.2013.zandmotor.c8.snap.jpg',\n",
      "'1376049608.Fri.Aug.09_12_00_08.UTC.2013.zandmotor.c7.snap.jpg',\n",
      "'1367933404.Tue.May.07_13_30_04.GMT.2013.egmond.c4.snap.jpg',\n",
      "'1375356603.Thu.Aug.01_11_30_03.GMT.2013.jvspeijk.c3.snap.jpg',\n",
      "'1367746202.Sun.May.05_09_30_02.UTC.2013.kijkduin.c1.snap.jpg',\n",
      "'1374667206.Wed.Jul.24_12_00_06.GMT.2013.jvspeijk.c5.snap.jpg',\n",
      "'1371393002.Sun.Jun.16_14_30_02.UTC.2013.zandmotor.c2.snap.jpg',\n",
      "'1371560404.Tue.Jun.18_13_00_04.UTC.2013.zandmotor.c4.snap.jpg',\n",
      "'1370507401.Thu.Jun.06_08_30_01.UTC.2013.zandmotor.c1.snap.jpg',\n",
      "'1377783007.Thu.Aug.29_13_30_07.UTC.2013.zandmotor.c7.snap.jpg',\n",
      "'1371650402.Wed.Jun.19_14_00_02.GMT.2013.egmond.c1.snap.jpg',\n",
      "'1367404206.Wed.May.01_10_30_06.UTC.2013.zandmotor.c6.snap.jpg',\n",
      "'1369225803.Wed.May.22_12_30_03.GMT.2013.egmond.c3.snap.jpg',\n",
      "'1377331202.Sat.Aug.24_08_00_02.UTC.2013.zandmotor.c2.snap.jpg',\n",
      "'1375176603.Tue.Jul.30_09_30_03.GMT.2013.jvspeijk.c3.snap.jpg',\n",
      "'1371801605.Fri.Jun.21_08_00_05.GMT.2013.jvspeijk.c5.snap.jpg',\n",
      "'1376388002.Tue.Aug.13_10_00_02.UTC.2013.kijkduin.c2.snap.jpg',\n",
      "'1373551201.Thu.Jul.11_14_00_01.GMT.2013.jvspeijk.c1.snap.jpg',\n",
      "'1379066406.Fri.Sep.13_10_00_06.UTC.2013.zandmotor.c5.snap.jpg',\n",
      "'1369996203.Fri.May.31_10_30_03.GMT.2013.egmond.c3.snap.jpg',\n",
      "'1374836404.Fri.Jul.26_11_00_04.UTC.2013.kijkduin.c3.snap.jpg',\n",
      "'1372755603.Tue.Jul.02_09_00_03.UTC.2013.zandmotor.c3.snap.jpg',\n",
      "'1378459808.Fri.Sep.06_09_30_08.UTC.2013.zandmotor.c8.snap.jpg',\n",
      "'1368091807.Thu.May.09_09_30_07.UTC.2013.zandmotor.c6.snap.jpg',\n",
      "'1368887406.Sat.May.18_14_30_06.UTC.2013.zandmotor.c6.snap.jpg',\n",
      "'1378045803.Sun.Sep.01_14_30_03.GMT.2013.egmond.c2.snap.jpg',\n",
      "'1377513006.Mon.Aug.26_10_30_06.GMT.2013.jvspeijk.c5.snap.jpg',\n",
      "'1370775601.Sun.Jun.09_11_00_01.UTC.2013.zandmotor.c1.snap.jpg',\n",
      "'1376487004.Wed.Aug.14_13_30_04.UTC.2013.zandmotor.c4.snap.jpg',\n",
      "'1370777404.Sun.Jun.09_11_30_04.UTC.2013.kijkduin.c4.snap.jpg',\n",
      "'1375783202.Tue.Aug.06_10_00_02.GMT.2013.jvspeijk.c2.snap.jpg',\n",
      "'1377262808.Fri.Aug.23_13_00_08.UTC.2013.zandmotor.c7.snap.jpg',\n",
      "'1367488805.Thu.May.02_10_00_05.UTC.2013.kijkduin.c4.snap.jpg',\n",
      "'1372860005.Wed.Jul.03_14_00_05.GMT.2013.egmond.c4.snap.jpg',\n",
      "'1369657802.Mon.May.27_12_30_02.GMT.2013.jvspeijk.c1.snap.jpg',\n",
      "'1373020205.Fri.Jul.05_10_30_05.UTC.2013.zandmotor.c5.snap.jpg',\n",
      "'1374658204.Wed.Jul.24_09_30_04.UTC.2013.zandmotor.c4.snap.jpg',\n",
      "'1380375003.Sat.Sep.28_13_30_03.UTC.2013.kijkduin.c3.snap.jpg',\n",
      "'1372680004.Mon.Jul.01_12_00_04.UTC.2013.kijkduin.c4.snap.jpg',\n",
      "'1376145006.Sat.Aug.10_14_30_06.UTC.2013.kijkduin.c6.snap.jpg',\n",
      "'1373185803.Sun.Jul.07_08_30_03.UTC.2013.kijkduin.c3.snap.jpg',\n",
      "'1372926603.Thu.Jul.04_08_30_03.UTC.2013.zandmotor.c3.snap.jpg',\n",
      "'1377244806.Fri.Aug.23_08_00_06.GMT.2013.jvspeijk.c5.snap.jpg',\n",
      "'1379682002.Fri.Sep.20_13_00_02.UTC.2013.zandmotor.c5.snap.jpg',\n",
      "'1378899003.Wed.Sep.11_11_30_03.UTC.2013.zandmotor.c2.snap.jpg',\n",
      "'1372593603.Sun.Jun.30_12_00_03.UTC.2013.zandmotor.c3.snap.jpg',\n",
      "'1377354602.Sat.Aug.24_14_30_02.UTC.2013.kijkduin.c2.snap.jpg',\n",
      "'1378990803.Thu.Sep.12_13_00_03.GMT.2013.jvspeijk.c3.snap.jpg',\n",
      "'1378985401.Thu.Sep.12_11_30_01.UTC.2013.kijkduin.c1.snap.jpg',\n",
      "'1369042201.Mon.May.20_09_30_01.GMT.2013.jvspeijk.c1.snap.jpg',\n",
      "'1368522008.Tue.May.14_09_00_08.UTC.2013.zandmotor.c8.snap.jpg',\n",
      "'1380355202.Sat.Sep.28_08_00_02.GMT.2013.egmond.c1.snap.jpg',\n",
      "'1377786604.Thu.Aug.29_14_30_04.UTC.2013.kijkduin.c4.snap.jpg',\n",
      "'1377082803.Wed.Aug.21_11_00_03.UTC.2013.kijkduin.c2.snap.jpg',\n",
      "'1375344004.Thu.Aug.01_08_00_04.UTC.2013.zandmotor.c4.snap.jpg',\n",
      "'1378893604.Wed.Sep.11_10_00_04.GMT.2013.egmond.c3.snap.jpg',\n",
      "'1369747805.Tue.May.28_13_30_05.GMT.2013.egmond.c4.snap.jpg',\n",
      "'1378800001.Tue.Sep.10_08_00_01.UTC.2013.zandmotor.c1.snap.jpg',\n",
      "'1369314006.Thu.May.23_13_00_06.UTC.2013.kijkduin.c6.snap.jpg',\n",
      "'1371724202.Thu.Jun.20_10_30_02.UTC.2013.kijkduin.c2.snap.jpg',\n",
      "'1377095402.Wed.Aug.21_14_30_02.GMT.2013.egmond.c2.snap.jpg',\n",
      "'1375617604.Sun.Aug.04_12_00_04.UTC.2013.kijkduin.c3.snap.jpg',\n",
      "'1380272404.Fri.Sep.27_09_00_04.GMT.2013.jvspeijk.c4.snap.jpg',\n",
      "'1377347404.Sat.Aug.24_12_30_04.GMT.2013.jvspeijk.c4.snap.jpg',\n",
      "'1378978205.Thu.Sep.12_09_30_05.GMT.2013.egmond.c5.snap.jpg',\n",
      "'1376391602.Tue.Aug.13_11_00_02.GMT.2013.egmond.c1.snap.jpg',\n",
      "'1378645203.Sun.Sep.08_13_00_03.GMT.2013.egmond.c3.snap.jpg',\n",
      "'1380375002.Sat.Sep.28_13_30_02.GMT.2013.jvspeijk.c2.snap.jpg',\n",
      "'1378288805.Wed.Sep.04_10_00_05.UTC.2013.kijkduin.c5.snap.jpg',\n",
      "'1375171206.Tue.Jul.30_08_00_06.UTC.2013.zandmotor.c6.snap.jpg',\n",
      "'1372669202.Mon.Jul.01_09_00_02.UTC.2013.zandmotor.c2.snap.jpg',\n",
      "'1374057004.Wed.Jul.17_10_30_04.GMT.2013.egmond.c4.snap.jpg',\n",
      "'1377514801.Mon.Aug.26_11_00_01.UTC.2013.zandmotor.c1.snap.jpg',\n",
      "'1371209402.Fri.Jun.14_11_30_02.GMT.2013.egmond.c1.snap.jpg',\n",
      "'1373889606.Mon.Jul.15_12_00_06.UTC.2013.zandmotor.c5.snap.jpg',\n",
      "'1370426405.Wed.Jun.05_10_00_05.GMT.2013.egmond.c5.snap.jpg',\n",
      "'1369229402.Wed.May.22_13_30_02.GMT.2013.jvspeijk.c1.snap.jpg',\n",
      "'1379426402.Tue.Sep.17_14_00_02.UTC.2013.kijkduin.c1.snap.jpg',\n",
      "'1369643403.Mon.May.27_08_30_03.GMT.2013.egmond.c2.snap.jpg',\n",
      "'1367924401.Tue.May.07_11_00_01.UTC.2013.kijkduin.c1.snap.jpg',\n",
      "'1376056806.Fri.Aug.09_14_00_06.GMT.2013.egmond.c5.snap.jpg',\n",
      "'1372069804.Mon.Jun.24_10_30_04.GMT.2013.jvspeijk.c4.snap.jpg',\n",
      "'1379682005.Fri.Sep.20_13_00_05.UTC.2013.kijkduin.c5.snap.jpg',\n",
      "'1369477807.Sat.May.25_10_30_07.UTC.2013.zandmotor.c7.snap.jpg',\n",
      "'1379750405.Sat.Sep.21_08_00_05.UTC.2013.kijkduin.c5.snap.jpg',\n",
      "'1372413605.Fri.Jun.28_10_00_05.UTC.2013.kijkduin.c5.snap.jpg',\n",
      "'1368104406.Thu.May.09_13_00_06.GMT.2013.egmond.c5.snap.jpg']"
     ],
     "language": "python",
     "metadata": {},
     "outputs": [],
     "prompt_number": 17
    }
   ],
   "metadata": {}
  }
 ]
}