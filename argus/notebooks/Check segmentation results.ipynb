{
 "metadata": {
  "name": "Check segmentation results"
 },
 "nbformat": 3,
 "nbformat_minor": 0,
 "worksheets": [
  {
   "cells": [
    {
     "cell_type": "code",
     "collapsed": false,
     "input": [
      "import cPickle as pickle\n",
      "import numpy as np\n",
      "import os\n",
      "\n",
      "fpath = os.path.join(os.getcwd(),'..','..','argusgui','argusgui','datasets','argusnl_new')"
     ],
     "language": "python",
     "metadata": {},
     "outputs": [],
     "prompt_number": 3
    },
    {
     "cell_type": "code",
     "collapsed": false,
     "input": [
      "n = 0\n",
      "log = open('check_segments.log', 'w')\n",
      "for fname in os.listdir(fpath):\n",
      "    if fname.endswith('.segments.pkl'):\n",
      "        fp = open(os.path.join(fpath, fname), 'rb')\n",
      "        pkl = pickle.load(fp)\n",
      "        fp.close()\n",
      "\n",
      "        seg = np.array(pkl['segments'])\n",
      "        missing = np.max(seg) - len(np.unique(seg)) + 1\n",
      "\n",
      "        print fname\n",
      "        \n",
      "        log.write('%s:\\n' % fname)\n",
      "        log.write('%20s: %dx%d\\n' % ('resolution',pkl['width'],pkl['height']))\n",
      "        log.write('%20s: %dx%d\\n' % ('grid',pkl['nx'],pkl['ny']))\n",
      "        log.write('%20s: %d\\n' % ('nr of segments',pkl['nx']*pkl['ny']))\n",
      "        log.write('%20s: %d\\n' % ('max segment nr',np.max(seg)))\n",
      "        log.write('%20s: %d\\n' % ('missing segments',missing))\n",
      "        log.write('\\n')\n",
      "\n",
      "        if missing > 0:\n",
      "            n = n + 1\n",
      "\n",
      "log.write('images with missing segments: %d\\n' % n)\n",
      "\n",
      "log.close()"
     ],
     "language": "python",
     "metadata": {},
     "outputs": [
      {
       "output_type": "stream",
       "stream": "stdout",
       "text": [
        "1372926603.Thu.Jul.04_08_30_03.UTC.2013.zandmotor.c3.snap.segments.pkl\n",
        "1368104406.Thu.May.09_13_00_06.GMT.2013.egmond.c5.snap.segments.pkl"
       ]
      },
      {
       "output_type": "stream",
       "stream": "stdout",
       "text": [
        "\n",
        "1369996203.Fri.May.31_10_30_03.GMT.2013.egmond.c3.snap.segments.pkl"
       ]
      },
      {
       "output_type": "stream",
       "stream": "stdout",
       "text": [
        "\n",
        "1370507401.Thu.Jun.06_08_30_01.UTC.2013.zandmotor.c1.snap.segments.pkl"
       ]
      },
      {
       "output_type": "stream",
       "stream": "stdout",
       "text": [
        "\n",
        "1376056806.Fri.Aug.09_14_00_06.GMT.2013.egmond.c5.snap.segments.pkl"
       ]
      },
      {
       "output_type": "stream",
       "stream": "stdout",
       "text": [
        "\n",
        "1371724202.Thu.Jun.20_10_30_02.UTC.2013.kijkduin.c2.snap.segments.pkl"
       ]
      },
      {
       "output_type": "stream",
       "stream": "stdout",
       "text": [
        "\n",
        "1380355202.Sat.Sep.28_08_00_02.GMT.2013.egmond.c1.snap.segments.pkl"
       ]
      },
      {
       "output_type": "stream",
       "stream": "stdout",
       "text": [
        "\n",
        "1374057004.Wed.Jul.17_10_30_04.GMT.2013.egmond.c4.snap.segments.pkl"
       ]
      },
      {
       "output_type": "stream",
       "stream": "stdout",
       "text": [
        "\n",
        "1370777404.Sun.Jun.09_11_30_04.UTC.2013.kijkduin.c4.snap.segments.pkl"
       ]
      },
      {
       "output_type": "stream",
       "stream": "stdout",
       "text": [
        "\n",
        "1375617604.Sun.Aug.04_12_00_04.UTC.2013.kijkduin.c3.snap.segments.pkl"
       ]
      },
      {
       "output_type": "stream",
       "stream": "stdout",
       "text": [
        "\n",
        "1367407802.Wed.May.01_11_30_02.GMT.2013.egmond.c2.snap.segments.pkl"
       ]
      },
      {
       "output_type": "stream",
       "stream": "stdout",
       "text": [
        "\n",
        "1374667206.Wed.Jul.24_12_00_06.GMT.2013.jvspeijk.c5.snap.segments.pkl"
       ]
      },
      {
       "output_type": "stream",
       "stream": "stdout",
       "text": [
        "\n",
        "1369643403.Mon.May.27_08_30_03.GMT.2013.egmond.c2.snap.segments.pkl"
       ]
      },
      {
       "output_type": "stream",
       "stream": "stdout",
       "text": [
        "\n",
        "1379066406.Fri.Sep.13_10_00_06.UTC.2013.zandmotor.c5.snap.segments.pkl"
       ]
      },
      {
       "output_type": "stream",
       "stream": "stdout",
       "text": [
        "\n",
        "1367746202.Sun.May.05_09_30_02.UTC.2013.kijkduin.c1.snap.segments.pkl"
       ]
      },
      {
       "output_type": "stream",
       "stream": "stdout",
       "text": [
        "\n",
        "1376487004.Wed.Aug.14_13_30_04.UTC.2013.zandmotor.c4.snap.segments.pkl"
       ]
      },
      {
       "output_type": "stream",
       "stream": "stdout",
       "text": [
        "\n",
        "1369747805.Tue.May.28_13_30_05.GMT.2013.egmond.c4.snap.segments.pkl"
       ]
      },
      {
       "output_type": "stream",
       "stream": "stdout",
       "text": [
        "\n",
        "1371981606.Sun.Jun.23_10_00_06.UTC.2013.kijkduin.c6.snap.segments.pkl"
       ]
      },
      {
       "output_type": "stream",
       "stream": "stdout",
       "text": [
        "\n",
        "1369225803.Wed.May.22_12_30_03.GMT.2013.egmond.c3.snap.segments.pkl"
       ]
      },
      {
       "output_type": "stream",
       "stream": "stdout",
       "text": [
        "\n",
        "1378288805.Wed.Sep.04_10_00_05.UTC.2013.kijkduin.c5.snap.segments.pkl"
       ]
      },
      {
       "output_type": "stream",
       "stream": "stdout",
       "text": [
        "\n",
        "1377347404.Sat.Aug.24_12_30_04.GMT.2013.jvspeijk.c4.snap.segments.pkl"
       ]
      },
      {
       "output_type": "stream",
       "stream": "stdout",
       "text": [
        "\n",
        "1368446403.Mon.May.13_12_00_03.UTC.2013.zandmotor.c3.snap.segments.pkl"
       ]
      },
      {
       "output_type": "stream",
       "stream": "stdout",
       "text": [
        "\n",
        "1377262808.Fri.Aug.23_13_00_08.UTC.2013.zandmotor.c7.snap.segments.pkl"
       ]
      },
      {
       "output_type": "stream",
       "stream": "stdout",
       "text": [
        "\n",
        "1378990803.Thu.Sep.12_13_00_03.GMT.2013.jvspeijk.c3.snap.segments.pkl"
       ]
      },
      {
       "output_type": "stream",
       "stream": "stdout",
       "text": [
        "\n",
        "1372593603.Sun.Jun.30_12_00_03.UTC.2013.zandmotor.c3.snap.segments.pkl"
       ]
      },
      {
       "output_type": "stream",
       "stream": "stdout",
       "text": [
        "\n",
        "1376388002.Tue.Aug.13_10_00_02.UTC.2013.kijkduin.c2.snap.segments.pkl"
       ]
      },
      {
       "output_type": "stream",
       "stream": "stdout",
       "text": [
        "\n",
        "1372413605.Fri.Jun.28_10_00_05.UTC.2013.kijkduin.c5.snap.segments.pkl"
       ]
      },
      {
       "output_type": "stream",
       "stream": "stdout",
       "text": [
        "\n",
        "1367488805.Thu.May.02_10_00_05.UTC.2013.kijkduin.c4.snap.segments.pkl"
       ]
      },
      {
       "output_type": "stream",
       "stream": "stdout",
       "text": [
        "\n",
        "1369477807.Sat.May.25_10_30_07.UTC.2013.zandmotor.c7.snap.segments.pkl"
       ]
      },
      {
       "output_type": "stream",
       "stream": "stdout",
       "text": [
        "\n",
        "1375356603.Thu.Aug.01_11_30_03.GMT.2013.jvspeijk.c3.snap.segments.pkl"
       ]
      },
      {
       "output_type": "stream",
       "stream": "stdout",
       "text": [
        "\n",
        "1376488803.Wed.Aug.14_14_00_03.GMT.2013.jvspeijk.c2.snap.segments.pkl"
       ]
      },
      {
       "output_type": "stream",
       "stream": "stdout",
       "text": [
        "\n",
        "1371209402.Fri.Jun.14_11_30_02.GMT.2013.egmond.c1.snap.segments.pkl"
       ]
      },
      {
       "output_type": "stream",
       "stream": "stdout",
       "text": [
        "\n",
        "1367933404.Tue.May.07_13_30_04.GMT.2013.egmond.c4.snap.segments.pkl"
       ]
      },
      {
       "output_type": "stream",
       "stream": "stdout",
       "text": [
        "\n",
        "1377786604.Thu.Aug.29_14_30_04.UTC.2013.kijkduin.c4.snap.segments.pkl"
       ]
      },
      {
       "output_type": "stream",
       "stream": "stdout",
       "text": [
        "\n",
        "1371547807.Tue.Jun.18_09_30_07.UTC.2013.kijkduin.c6.snap.segments.pkl"
       ]
      },
      {
       "output_type": "stream",
       "stream": "stdout",
       "text": [
        "\n",
        "1379426402.Tue.Sep.17_14_00_02.UTC.2013.kijkduin.c1.snap.segments.pkl"
       ]
      },
      {
       "output_type": "stream",
       "stream": "stdout",
       "text": [
        "\n",
        "1377783007.Thu.Aug.29_13_30_07.UTC.2013.zandmotor.c7.snap.segments.pkl"
       ]
      },
      {
       "output_type": "stream",
       "stream": "stdout",
       "text": [
        "\n",
        "1372680004.Mon.Jul.01_12_00_04.UTC.2013.kijkduin.c4.snap.segments.pkl"
       ]
      },
      {
       "output_type": "stream",
       "stream": "stdout",
       "text": [
        "\n",
        "1369657802.Mon.May.27_12_30_02.GMT.2013.jvspeijk.c1.snap.segments.pkl"
       ]
      },
      {
       "output_type": "stream",
       "stream": "stdout",
       "text": [
        "\n",
        "1367924401.Tue.May.07_11_00_01.UTC.2013.kijkduin.c1.snap.segments.pkl"
       ]
      },
      {
       "output_type": "stream",
       "stream": "stdout",
       "text": [
        "\n",
        "1372860005.Wed.Jul.03_14_00_05.GMT.2013.egmond.c4.snap.segments.pkl"
       ]
      },
      {
       "output_type": "stream",
       "stream": "stdout",
       "text": [
        "\n",
        "1373185803.Sun.Jul.07_08_30_03.UTC.2013.kijkduin.c3.snap.segments.pkl"
       ]
      },
      {
       "output_type": "stream",
       "stream": "stdout",
       "text": [
        "\n",
        "1376145006.Sat.Aug.10_14_30_06.UTC.2013.kijkduin.c6.snap.segments.pkl"
       ]
      },
      {
       "output_type": "stream",
       "stream": "stdout",
       "text": [
        "\n",
        "1377082803.Wed.Aug.21_11_00_03.UTC.2013.kijkduin.c2.snap.segments.pkl"
       ]
      },
      {
       "output_type": "stream",
       "stream": "stdout",
       "text": [
        "\n",
        "1377514801.Mon.Aug.26_11_00_01.UTC.2013.zandmotor.c1.snap.segments.pkl"
       ]
      },
      {
       "output_type": "stream",
       "stream": "stdout",
       "text": [
        "\n",
        "1372755603.Tue.Jul.02_09_00_03.UTC.2013.zandmotor.c3.snap.segments.pkl"
       ]
      },
      {
       "output_type": "stream",
       "stream": "stdout",
       "text": [
        "\n",
        "1378899003.Wed.Sep.11_11_30_03.UTC.2013.zandmotor.c2.snap.segments.pkl"
       ]
      },
      {
       "output_type": "stream",
       "stream": "stdout",
       "text": [
        "\n",
        "1369314006.Thu.May.23_13_00_06.UTC.2013.kijkduin.c6.snap.segments.pkl"
       ]
      },
      {
       "output_type": "stream",
       "stream": "stdout",
       "text": [
        "\n",
        "1377862208.Fri.Aug.30_11_30_08.UTC.2013.zandmotor.c8.snap.segments.pkl"
       ]
      },
      {
       "output_type": "stream",
       "stream": "stdout",
       "text": [
        "\n",
        "1378645203.Sun.Sep.08_13_00_03.GMT.2013.egmond.c3.snap.segments.pkl"
       ]
      },
      {
       "output_type": "stream",
       "stream": "stdout",
       "text": [
        "\n",
        "1379682005.Fri.Sep.20_13_00_05.UTC.2013.kijkduin.c5.snap.segments.pkl"
       ]
      },
      {
       "output_type": "stream",
       "stream": "stdout",
       "text": [
        "\n",
        "1371738605.Thu.Jun.20_14_30_05.GMT.2013.jvspeijk.c4.snap.segments.pkl"
       ]
      },
      {
       "output_type": "stream",
       "stream": "stdout",
       "text": [
        "\n",
        "1376391602.Tue.Aug.13_11_00_02.GMT.2013.egmond.c1.snap.segments.pkl"
       ]
      },
      {
       "output_type": "stream",
       "stream": "stdout",
       "text": [
        "\n",
        "1375344004.Thu.Aug.01_08_00_04.UTC.2013.zandmotor.c4.snap.segments.pkl"
       ]
      },
      {
       "output_type": "stream",
       "stream": "stdout",
       "text": [
        "\n",
        "1368522008.Tue.May.14_09_00_08.UTC.2013.zandmotor.c8.snap.segments.pkl"
       ]
      },
      {
       "output_type": "stream",
       "stream": "stdout",
       "text": [
        "\n",
        "1377244806.Fri.Aug.23_08_00_06.GMT.2013.jvspeijk.c5.snap.segments.pkl"
       ]
      },
      {
       "output_type": "stream",
       "stream": "stdout",
       "text": [
        "\n",
        "1368887406.Sat.May.18_14_30_06.UTC.2013.zandmotor.c6.snap.segments.pkl"
       ]
      },
      {
       "output_type": "stream",
       "stream": "stdout",
       "text": [
        "\n",
        "1380272404.Fri.Sep.27_09_00_04.GMT.2013.jvspeijk.c4.snap.segments.pkl"
       ]
      },
      {
       "output_type": "stream",
       "stream": "stdout",
       "text": [
        "\n",
        "1374836404.Fri.Jul.26_11_00_04.UTC.2013.kijkduin.c3.snap.segments.pkl"
       ]
      },
      {
       "output_type": "stream",
       "stream": "stdout",
       "text": [
        "\n",
        "1374658204.Wed.Jul.24_09_30_04.UTC.2013.zandmotor.c4.snap.segments.pkl"
       ]
      },
      {
       "output_type": "stream",
       "stream": "stdout",
       "text": [
        "\n",
        "1377331202.Sat.Aug.24_08_00_02.UTC.2013.zandmotor.c2.snap.segments.pkl"
       ]
      },
      {
       "output_type": "stream",
       "stream": "stdout",
       "text": [
        "\n",
        "1380375003.Sat.Sep.28_13_30_03.UTC.2013.kijkduin.c3.snap.segments.pkl"
       ]
      },
      {
       "output_type": "stream",
       "stream": "stdout",
       "text": [
        "\n",
        "1373972403.Tue.Jul.16_11_00_03.GMT.2013.jvspeijk.c2.snap.segments.pkl"
       ]
      },
      {
       "output_type": "stream",
       "stream": "stdout",
       "text": [
        "\n",
        "1375176603.Tue.Jul.30_09_30_03.GMT.2013.jvspeijk.c3.snap.segments.pkl"
       ]
      },
      {
       "output_type": "stream",
       "stream": "stdout",
       "text": [
        "\n",
        "1376049603.Fri.Aug.09_12_00_03.GMT.2013.jvspeijk.c3.snap.segments.pkl"
       ]
      },
      {
       "output_type": "stream",
       "stream": "stdout",
       "text": [
        "\n",
        "1378459808.Fri.Sep.06_09_30_08.UTC.2013.zandmotor.c8.snap.segments.pkl"
       ]
      },
      {
       "output_type": "stream",
       "stream": "stdout",
       "text": [
        "\n",
        "1373020205.Fri.Jul.05_10_30_05.UTC.2013.zandmotor.c5.snap.segments.pkl"
       ]
      },
      {
       "output_type": "stream",
       "stream": "stdout",
       "text": [
        "\n",
        "1378978205.Thu.Sep.12_09_30_05.GMT.2013.egmond.c5.snap.segments.pkl"
       ]
      },
      {
       "output_type": "stream",
       "stream": "stdout",
       "text": [
        "\n",
        "1371801605.Fri.Jun.21_08_00_05.GMT.2013.jvspeijk.c5.snap.segments.pkl"
       ]
      },
      {
       "output_type": "stream",
       "stream": "stdout",
       "text": [
        "\n",
        "1368091807.Thu.May.09_09_30_07.UTC.2013.zandmotor.c6.snap.segments.pkl"
       ]
      },
      {
       "output_type": "stream",
       "stream": "stdout",
       "text": [
        "\n",
        "1369042201.Mon.May.20_09_30_01.GMT.2013.jvspeijk.c1.snap.segments.pkl"
       ]
      },
      {
       "output_type": "stream",
       "stream": "stdout",
       "text": [
        "\n",
        "1378045803.Sun.Sep.01_14_30_03.GMT.2013.egmond.c2.snap.segments.pkl"
       ]
      },
      {
       "output_type": "stream",
       "stream": "stdout",
       "text": [
        "\n",
        "1378206005.Tue.Sep.03_11_00_05.UTC.2013.zandmotor.c8.snap.segments.pkl"
       ]
      },
      {
       "output_type": "stream",
       "stream": "stdout",
       "text": [
        "\n",
        "1369229402.Wed.May.22_13_30_02.GMT.2013.jvspeijk.c1.snap.segments.pkl"
       ]
      },
      {
       "output_type": "stream",
       "stream": "stdout",
       "text": [
        "\n",
        "1370426405.Wed.Jun.05_10_00_05.GMT.2013.egmond.c5.snap.segments.pkl"
       ]
      },
      {
       "output_type": "stream",
       "stream": "stdout",
       "text": [
        "\n",
        "1379682002.Fri.Sep.20_13_00_02.UTC.2013.zandmotor.c5.snap.segments.pkl"
       ]
      },
      {
       "output_type": "stream",
       "stream": "stdout",
       "text": [
        "\n",
        "1367404206.Wed.May.01_10_30_06.UTC.2013.zandmotor.c6.snap.segments.pkl"
       ]
      },
      {
       "output_type": "stream",
       "stream": "stdout",
       "text": [
        "\n",
        "1377095402.Wed.Aug.21_14_30_02.GMT.2013.egmond.c2.snap.segments.pkl"
       ]
      },
      {
       "output_type": "stream",
       "stream": "stdout",
       "text": [
        "\n",
        "1371560404.Tue.Jun.18_13_00_04.UTC.2013.zandmotor.c4.snap.segments.pkl"
       ]
      },
      {
       "output_type": "stream",
       "stream": "stdout",
       "text": [
        "\n",
        "1373889606.Mon.Jul.15_12_00_06.UTC.2013.zandmotor.c5.snap.segments.pkl"
       ]
      },
      {
       "output_type": "stream",
       "stream": "stdout",
       "text": [
        "\n",
        "1378800001.Tue.Sep.10_08_00_01.UTC.2013.zandmotor.c1.snap.segments.pkl"
       ]
      },
      {
       "output_type": "stream",
       "stream": "stdout",
       "text": [
        "\n",
        "1379750405.Sat.Sep.21_08_00_05.UTC.2013.kijkduin.c5.snap.segments.pkl"
       ]
      },
      {
       "output_type": "stream",
       "stream": "stdout",
       "text": [
        "\n",
        "1376049608.Fri.Aug.09_12_00_08.UTC.2013.zandmotor.c7.snap.segments.pkl"
       ]
      },
      {
       "output_type": "stream",
       "stream": "stdout",
       "text": [
        "\n",
        "1372669202.Mon.Jul.01_09_00_02.UTC.2013.zandmotor.c2.snap.segments.pkl"
       ]
      },
      {
       "output_type": "stream",
       "stream": "stdout",
       "text": [
        "\n",
        "1373551201.Thu.Jul.11_14_00_01.GMT.2013.jvspeijk.c1.snap.segments.pkl"
       ]
      },
      {
       "output_type": "stream",
       "stream": "stdout",
       "text": [
        "\n",
        "1371650402.Wed.Jun.19_14_00_02.GMT.2013.egmond.c1.snap.segments.pkl"
       ]
      },
      {
       "output_type": "stream",
       "stream": "stdout",
       "text": [
        "\n",
        "1378985401.Thu.Sep.12_11_30_01.UTC.2013.kijkduin.c1.snap.segments.pkl"
       ]
      },
      {
       "output_type": "stream",
       "stream": "stdout",
       "text": [
        "\n",
        "1375783202.Tue.Aug.06_10_00_02.GMT.2013.jvspeijk.c2.snap.segments.pkl"
       ]
      },
      {
       "output_type": "stream",
       "stream": "stdout",
       "text": [
        "\n",
        "1372069804.Mon.Jun.24_10_30_04.GMT.2013.jvspeijk.c4.snap.segments.pkl"
       ]
      },
      {
       "output_type": "stream",
       "stream": "stdout",
       "text": [
        "\n",
        "1371393002.Sun.Jun.16_14_30_02.UTC.2013.zandmotor.c2.snap.segments.pkl"
       ]
      },
      {
       "output_type": "stream",
       "stream": "stdout",
       "text": [
        "\n",
        "1375171206.Tue.Jul.30_08_00_06.UTC.2013.zandmotor.c6.snap.segments.pkl"
       ]
      },
      {
       "output_type": "stream",
       "stream": "stdout",
       "text": [
        "\n",
        "1378893604.Wed.Sep.11_10_00_04.GMT.2013.egmond.c3.snap.segments.pkl"
       ]
      },
      {
       "output_type": "stream",
       "stream": "stdout",
       "text": [
        "\n",
        "1377354602.Sat.Aug.24_14_30_02.UTC.2013.kijkduin.c2.snap.segments.pkl"
       ]
      },
      {
       "output_type": "stream",
       "stream": "stdout",
       "text": [
        "\n",
        "1380375002.Sat.Sep.28_13_30_02.GMT.2013.jvspeijk.c2.snap.segments.pkl"
       ]
      },
      {
       "output_type": "stream",
       "stream": "stdout",
       "text": [
        "\n",
        "1370775601.Sun.Jun.09_11_00_01.UTC.2013.zandmotor.c1.snap.segments.pkl"
       ]
      },
      {
       "output_type": "stream",
       "stream": "stdout",
       "text": [
        "\n",
        "1377513006.Mon.Aug.26_10_30_06.GMT.2013.jvspeijk.c5.snap.segments.pkl"
       ]
      },
      {
       "output_type": "stream",
       "stream": "stdout",
       "text": [
        "\n"
       ]
      }
     ],
     "prompt_number": 4
    },
    {
     "cell_type": "code",
     "collapsed": false,
     "input": [
      "log = open('check_segments.log', 'r')\n",
      "print log.read()\n",
      "log.close()"
     ],
     "language": "python",
     "metadata": {},
     "outputs": [
      {
       "output_type": "stream",
       "stream": "stdout",
       "text": [
        "1372926603.Thu.Jul.04_08_30_03.UTC.2013.zandmotor.c3.snap.segments.pkl:\n",
        "          resolution: 2448x2032\n",
        "                grid: 22x27\n",
        "      nr of segments: 594\n",
        "      max segment nr: 593\n",
        "    missing segments: 0\n",
        "\n",
        "1368104406.Thu.May.09_13_00_06.GMT.2013.egmond.c5.snap.segments.pkl:\n",
        "          resolution: 1392x1024\n",
        "                grid: 21x28\n",
        "      nr of segments: 588\n",
        "      max segment nr: 587\n",
        "    missing segments: 0\n",
        "\n",
        "1369996203.Fri.May.31_10_30_03.GMT.2013.egmond.c3.snap.segments.pkl:\n",
        "          resolution: 1392x1024\n",
        "                grid: 21x28\n",
        "      nr of segments: 588\n",
        "      max segment nr: 587\n",
        "    missing segments: 0\n",
        "\n",
        "1370507401.Thu.Jun.06_08_30_01.UTC.2013.zandmotor.c1.snap.segments.pkl:\n",
        "          resolution: 2448x2032\n",
        "                grid: 22x27\n",
        "      nr of segments: 594\n",
        "      max segment nr: 593\n",
        "    missing segments: 0\n",
        "\n",
        "1376056806.Fri.Aug.09_14_00_06.GMT.2013.egmond.c5.snap.segments.pkl:\n",
        "          resolution: 1392x1024\n",
        "                grid: 21x28\n",
        "      nr of segments: 588\n",
        "      max segment nr: 587\n",
        "    missing segments: 0\n",
        "\n",
        "1371724202.Thu.Jun.20_10_30_02.UTC.2013.kijkduin.c2.snap.segments.pkl:\n",
        "          resolution: 2448x2032\n",
        "                grid: 22x27\n",
        "      nr of segments: 594\n",
        "      max segment nr: 593\n",
        "    missing segments: 0\n",
        "\n",
        "1380355202.Sat.Sep.28_08_00_02.GMT.2013.egmond.c1.snap.segments.pkl:\n",
        "          resolution: 1392x1024\n",
        "                grid: 21x28\n",
        "      nr of segments: 588\n",
        "      max segment nr: 587\n",
        "    missing segments: 0\n",
        "\n",
        "1374057004.Wed.Jul.17_10_30_04.GMT.2013.egmond.c4.snap.segments.pkl:\n",
        "          resolution: 1392x1024\n",
        "                grid: 21x28\n",
        "      nr of segments: 588\n",
        "      max segment nr: 587\n",
        "    missing segments: 0\n",
        "\n",
        "1370777404.Sun.Jun.09_11_30_04.UTC.2013.kijkduin.c4.snap.segments.pkl:\n",
        "          resolution: 2448x2032\n",
        "                grid: 22x27\n",
        "      nr of segments: 594\n",
        "      max segment nr: 593\n",
        "    missing segments: 0\n",
        "\n",
        "1375617604.Sun.Aug.04_12_00_04.UTC.2013.kijkduin.c3.snap.segments.pkl:\n",
        "          resolution: 2448x2032\n",
        "                grid: 22x27\n",
        "      nr of segments: 594\n",
        "      max segment nr: 593\n",
        "    missing segments: 0\n",
        "\n",
        "1367407802.Wed.May.01_11_30_02.GMT.2013.egmond.c2.snap.segments.pkl:\n",
        "          resolution: 1392x1024\n",
        "                grid: 21x28\n",
        "      nr of segments: 588\n",
        "      max segment nr: 587\n",
        "    missing segments: 0\n",
        "\n",
        "1374667206.Wed.Jul.24_12_00_06.GMT.2013.jvspeijk.c5.snap.segments.pkl:\n",
        "          resolution: 1392x1024\n",
        "                grid: 21x28\n",
        "      nr of segments: 588\n",
        "      max segment nr: 587\n",
        "    missing segments: 0\n",
        "\n",
        "1369643403.Mon.May.27_08_30_03.GMT.2013.egmond.c2.snap.segments.pkl:\n",
        "          resolution: 1392x1024\n",
        "                grid: 21x28\n",
        "      nr of segments: 588\n",
        "      max segment nr: 587\n",
        "    missing segments: 0\n",
        "\n",
        "1379066406.Fri.Sep.13_10_00_06.UTC.2013.zandmotor.c5.snap.segments.pkl:\n",
        "          resolution: 2448x2032\n",
        "                grid: 22x27\n",
        "      nr of segments: 594\n",
        "      max segment nr: 593\n",
        "    missing segments: 0\n",
        "\n",
        "1367746202.Sun.May.05_09_30_02.UTC.2013.kijkduin.c1.snap.segments.pkl:\n",
        "          resolution: 2448x2032\n",
        "                grid: 22x27\n",
        "      nr of segments: 594\n",
        "      max segment nr: 593\n",
        "    missing segments: 0\n",
        "\n",
        "1376487004.Wed.Aug.14_13_30_04.UTC.2013.zandmotor.c4.snap.segments.pkl:\n",
        "          resolution: 2448x2032\n",
        "                grid: 22x27\n",
        "      nr of segments: 594\n",
        "      max segment nr: 593\n",
        "    missing segments: 0\n",
        "\n",
        "1369747805.Tue.May.28_13_30_05.GMT.2013.egmond.c4.snap.segments.pkl:\n",
        "          resolution: 1392x1024\n",
        "                grid: 21x28\n",
        "      nr of segments: 588\n",
        "      max segment nr: 587\n",
        "    missing segments: 0\n",
        "\n",
        "1371981606.Sun.Jun.23_10_00_06.UTC.2013.kijkduin.c6.snap.segments.pkl:\n",
        "          resolution: 2448x2032\n",
        "                grid: 22x27\n",
        "      nr of segments: 594\n",
        "      max segment nr: 593\n",
        "    missing segments: 0\n",
        "\n",
        "1369225803.Wed.May.22_12_30_03.GMT.2013.egmond.c3.snap.segments.pkl:\n",
        "          resolution: 1392x1024\n",
        "                grid: 21x28\n",
        "      nr of segments: 588\n",
        "      max segment nr: 587\n",
        "    missing segments: 0\n",
        "\n",
        "1378288805.Wed.Sep.04_10_00_05.UTC.2013.kijkduin.c5.snap.segments.pkl:\n",
        "          resolution: 2448x2032\n",
        "                grid: 22x27\n",
        "      nr of segments: 594\n",
        "      max segment nr: 593\n",
        "    missing segments: 0\n",
        "\n",
        "1377347404.Sat.Aug.24_12_30_04.GMT.2013.jvspeijk.c4.snap.segments.pkl:\n",
        "          resolution: 1392x1024\n",
        "                grid: 21x28\n",
        "      nr of segments: 588\n",
        "      max segment nr: 587\n",
        "    missing segments: 0\n",
        "\n",
        "1368446403.Mon.May.13_12_00_03.UTC.2013.zandmotor.c3.snap.segments.pkl:\n",
        "          resolution: 2448x2032\n",
        "                grid: 22x27\n",
        "      nr of segments: 594\n",
        "      max segment nr: 593\n",
        "    missing segments: 0\n",
        "\n",
        "1377262808.Fri.Aug.23_13_00_08.UTC.2013.zandmotor.c7.snap.segments.pkl:\n",
        "          resolution: 2448x2032\n",
        "                grid: 22x27\n",
        "      nr of segments: 594\n",
        "      max segment nr: 593\n",
        "    missing segments: 0\n",
        "\n",
        "1378990803.Thu.Sep.12_13_00_03.GMT.2013.jvspeijk.c3.snap.segments.pkl:\n",
        "          resolution: 1392x1024\n",
        "                grid: 21x28\n",
        "      nr of segments: 588\n",
        "      max segment nr: 587\n",
        "    missing segments: 0\n",
        "\n",
        "1372593603.Sun.Jun.30_12_00_03.UTC.2013.zandmotor.c3.snap.segments.pkl:\n",
        "          resolution: 2448x2032\n",
        "                grid: 22x27\n",
        "      nr of segments: 594\n",
        "      max segment nr: 593\n",
        "    missing segments: 0\n",
        "\n",
        "1376388002.Tue.Aug.13_10_00_02.UTC.2013.kijkduin.c2.snap.segments.pkl:\n",
        "          resolution: 2448x2032\n",
        "                grid: 22x27\n",
        "      nr of segments: 594\n",
        "      max segment nr: 593\n",
        "    missing segments: 0\n",
        "\n",
        "1372413605.Fri.Jun.28_10_00_05.UTC.2013.kijkduin.c5.snap.segments.pkl:\n",
        "          resolution: 2448x2032\n",
        "                grid: 22x27\n",
        "      nr of segments: 594\n",
        "      max segment nr: 593\n",
        "    missing segments: 0\n",
        "\n",
        "1367488805.Thu.May.02_10_00_05.UTC.2013.kijkduin.c4.snap.segments.pkl:\n",
        "          resolution: 2448x2032\n",
        "                grid: 22x27\n",
        "      nr of segments: 594\n",
        "      max segment nr: 593\n",
        "    missing segments: 0\n",
        "\n",
        "1369477807.Sat.May.25_10_30_07.UTC.2013.zandmotor.c7.snap.segments.pkl:\n",
        "          resolution: 2448x2032\n",
        "                grid: 22x27\n",
        "      nr of segments: 594\n",
        "      max segment nr: 593\n",
        "    missing segments: 0\n",
        "\n",
        "1375356603.Thu.Aug.01_11_30_03.GMT.2013.jvspeijk.c3.snap.segments.pkl:\n",
        "          resolution: 1392x1024\n",
        "                grid: 21x28\n",
        "      nr of segments: 588\n",
        "      max segment nr: 587\n",
        "    missing segments: 0\n",
        "\n",
        "1376488803.Wed.Aug.14_14_00_03.GMT.2013.jvspeijk.c2.snap.segments.pkl:\n",
        "          resolution: 1392x1024\n",
        "                grid: 21x28\n",
        "      nr of segments: 588\n",
        "      max segment nr: 587\n",
        "    missing segments: 0\n",
        "\n",
        "1371209402.Fri.Jun.14_11_30_02.GMT.2013.egmond.c1.snap.segments.pkl:\n",
        "          resolution: 1392x1024\n",
        "                grid: 21x28\n",
        "      nr of segments: 588\n",
        "      max segment nr: 587\n",
        "    missing segments: 0\n",
        "\n",
        "1367933404.Tue.May.07_13_30_04.GMT.2013.egmond.c4.snap.segments.pkl:\n",
        "          resolution: 1392x1024\n",
        "                grid: 21x28\n",
        "      nr of segments: 588\n",
        "      max segment nr: 587\n",
        "    missing segments: 0\n",
        "\n",
        "1377786604.Thu.Aug.29_14_30_04.UTC.2013.kijkduin.c4.snap.segments.pkl:\n",
        "          resolution: 2448x2032\n",
        "                grid: 22x27\n",
        "      nr of segments: 594\n",
        "      max segment nr: 593\n",
        "    missing segments: 0\n",
        "\n",
        "1371547807.Tue.Jun.18_09_30_07.UTC.2013.kijkduin.c6.snap.segments.pkl:\n",
        "          resolution: 2448x2032\n",
        "                grid: 22x27\n",
        "      nr of segments: 594\n",
        "      max segment nr: 593\n",
        "    missing segments: 0\n",
        "\n",
        "1379426402.Tue.Sep.17_14_00_02.UTC.2013.kijkduin.c1.snap.segments.pkl:\n",
        "          resolution: 2448x2032\n",
        "                grid: 22x27\n",
        "      nr of segments: 594\n",
        "      max segment nr: 593\n",
        "    missing segments: 0\n",
        "\n",
        "1377783007.Thu.Aug.29_13_30_07.UTC.2013.zandmotor.c7.snap.segments.pkl:\n",
        "          resolution: 2448x2032\n",
        "                grid: 22x27\n",
        "      nr of segments: 594\n",
        "      max segment nr: 593\n",
        "    missing segments: 0\n",
        "\n",
        "1372680004.Mon.Jul.01_12_00_04.UTC.2013.kijkduin.c4.snap.segments.pkl:\n",
        "          resolution: 2448x2032\n",
        "                grid: 22x27\n",
        "      nr of segments: 594\n",
        "      max segment nr: 593\n",
        "    missing segments: 0\n",
        "\n",
        "1369657802.Mon.May.27_12_30_02.GMT.2013.jvspeijk.c1.snap.segments.pkl:\n",
        "          resolution: 1392x1024\n",
        "                grid: 21x28\n",
        "      nr of segments: 588\n",
        "      max segment nr: 587\n",
        "    missing segments: 0\n",
        "\n",
        "1367924401.Tue.May.07_11_00_01.UTC.2013.kijkduin.c1.snap.segments.pkl:\n",
        "          resolution: 2448x2032\n",
        "                grid: 22x27\n",
        "      nr of segments: 594\n",
        "      max segment nr: 593\n",
        "    missing segments: 0\n",
        "\n",
        "1372860005.Wed.Jul.03_14_00_05.GMT.2013.egmond.c4.snap.segments.pkl:\n",
        "          resolution: 1392x1024\n",
        "                grid: 21x28\n",
        "      nr of segments: 588\n",
        "      max segment nr: 587\n",
        "    missing segments: 0\n",
        "\n",
        "1373185803.Sun.Jul.07_08_30_03.UTC.2013.kijkduin.c3.snap.segments.pkl:\n",
        "          resolution: 2448x2032\n",
        "                grid: 22x27\n",
        "      nr of segments: 594\n",
        "      max segment nr: 593\n",
        "    missing segments: 0\n",
        "\n",
        "1376145006.Sat.Aug.10_14_30_06.UTC.2013.kijkduin.c6.snap.segments.pkl:\n",
        "          resolution: 2448x2032\n",
        "                grid: 22x27\n",
        "      nr of segments: 594\n",
        "      max segment nr: 593\n",
        "    missing segments: 0\n",
        "\n",
        "1377082803.Wed.Aug.21_11_00_03.UTC.2013.kijkduin.c2.snap.segments.pkl:\n",
        "          resolution: 2448x2032\n",
        "                grid: 22x27\n",
        "      nr of segments: 594\n",
        "      max segment nr: 593\n",
        "    missing segments: 0\n",
        "\n",
        "1377514801.Mon.Aug.26_11_00_01.UTC.2013.zandmotor.c1.snap.segments.pkl:\n",
        "          resolution: 2448x2032\n",
        "                grid: 22x27\n",
        "      nr of segments: 594\n",
        "      max segment nr: 593\n",
        "    missing segments: 0\n",
        "\n",
        "1372755603.Tue.Jul.02_09_00_03.UTC.2013.zandmotor.c3.snap.segments.pkl:\n",
        "          resolution: 2448x2032\n",
        "                grid: 22x27\n",
        "      nr of segments: 594\n",
        "      max segment nr: 593\n",
        "    missing segments: 0\n",
        "\n",
        "1378899003.Wed.Sep.11_11_30_03.UTC.2013.zandmotor.c2.snap.segments.pkl:\n",
        "          resolution: 2448x2032\n",
        "                grid: 22x27\n",
        "      nr of segments: 594\n",
        "      max segment nr: 593\n",
        "    missing segments: 0\n",
        "\n",
        "1369314006.Thu.May.23_13_00_06.UTC.2013.kijkduin.c6.snap.segments.pkl:\n",
        "          resolution: 2448x2032\n",
        "                grid: 22x27\n",
        "      nr of segments: 594\n",
        "      max segment nr: 593\n",
        "    missing segments: 0\n",
        "\n",
        "1377862208.Fri.Aug.30_11_30_08.UTC.2013.zandmotor.c8.snap.segments.pkl:\n",
        "          resolution: 2448x2032\n",
        "                grid: 22x27\n",
        "      nr of segments: 594\n",
        "      max segment nr: 593\n",
        "    missing segments: 0\n",
        "\n",
        "1378645203.Sun.Sep.08_13_00_03.GMT.2013.egmond.c3.snap.segments.pkl:\n",
        "          resolution: 1392x1024\n",
        "                grid: 21x28\n",
        "      nr of segments: 588\n",
        "      max segment nr: 587\n",
        "    missing segments: 0\n",
        "\n",
        "1379682005.Fri.Sep.20_13_00_05.UTC.2013.kijkduin.c5.snap.segments.pkl:\n",
        "          resolution: 2448x2032\n",
        "                grid: 22x27\n",
        "      nr of segments: 594\n",
        "      max segment nr: 593\n",
        "    missing segments: 0\n",
        "\n",
        "1371738605.Thu.Jun.20_14_30_05.GMT.2013.jvspeijk.c4.snap.segments.pkl:\n",
        "          resolution: 1392x1024\n",
        "                grid: 17x23\n",
        "      nr of segments: 391\n",
        "      max segment nr: 390\n",
        "    missing segments: 0\n",
        "\n",
        "1376391602.Tue.Aug.13_11_00_02.GMT.2013.egmond.c1.snap.segments.pkl:\n",
        "          resolution: 1392x1024\n",
        "                grid: 21x28\n",
        "      nr of segments: 588\n",
        "      max segment nr: 587\n",
        "    missing segments: 0\n",
        "\n",
        "1375344004.Thu.Aug.01_08_00_04.UTC.2013.zandmotor.c4.snap.segments.pkl:\n",
        "          resolution: 2448x2032\n",
        "                grid: 22x27\n",
        "      nr of segments: 594\n",
        "      max segment nr: 593\n",
        "    missing segments: 0\n",
        "\n",
        "1368522008.Tue.May.14_09_00_08.UTC.2013.zandmotor.c8.snap.segments.pkl:\n",
        "          resolution: 2448x2032\n",
        "                grid: 22x27\n",
        "      nr of segments: 594\n",
        "      max segment nr: 593\n",
        "    missing segments: 0\n",
        "\n",
        "1377244806.Fri.Aug.23_08_00_06.GMT.2013.jvspeijk.c5.snap.segments.pkl:\n",
        "          resolution: 1392x1024\n",
        "                grid: 21x28\n",
        "      nr of segments: 588\n",
        "      max segment nr: 587\n",
        "    missing segments: 0\n",
        "\n",
        "1368887406.Sat.May.18_14_30_06.UTC.2013.zandmotor.c6.snap.segments.pkl:\n",
        "          resolution: 2448x2032\n",
        "                grid: 22x27\n",
        "      nr of segments: 594\n",
        "      max segment nr: 593\n",
        "    missing segments: 0\n",
        "\n",
        "1380272404.Fri.Sep.27_09_00_04.GMT.2013.jvspeijk.c4.snap.segments.pkl:\n",
        "          resolution: 1392x1024\n",
        "                grid: 21x28\n",
        "      nr of segments: 588\n",
        "      max segment nr: 587\n",
        "    missing segments: 0\n",
        "\n",
        "1374836404.Fri.Jul.26_11_00_04.UTC.2013.kijkduin.c3.snap.segments.pkl:\n",
        "          resolution: 2448x2032\n",
        "                grid: 22x27\n",
        "      nr of segments: 594\n",
        "      max segment nr: 593\n",
        "    missing segments: 0\n",
        "\n",
        "1374658204.Wed.Jul.24_09_30_04.UTC.2013.zandmotor.c4.snap.segments.pkl:\n",
        "          resolution: 2448x2032\n",
        "                grid: 22x27\n",
        "      nr of segments: 594\n",
        "      max segment nr: 593\n",
        "    missing segments: 0\n",
        "\n",
        "1377331202.Sat.Aug.24_08_00_02.UTC.2013.zandmotor.c2.snap.segments.pkl:\n",
        "          resolution: 2448x2032\n",
        "                grid: 22x27\n",
        "      nr of segments: 594\n",
        "      max segment nr: 593\n",
        "    missing segments: 0\n",
        "\n",
        "1380375003.Sat.Sep.28_13_30_03.UTC.2013.kijkduin.c3.snap.segments.pkl:\n",
        "          resolution: 2448x2032\n",
        "                grid: 22x27\n",
        "      nr of segments: 594\n",
        "      max segment nr: 593\n",
        "    missing segments: 0\n",
        "\n",
        "1373972403.Tue.Jul.16_11_00_03.GMT.2013.jvspeijk.c2.snap.segments.pkl:\n",
        "          resolution: 1392x1024\n",
        "                grid: 21x28\n",
        "      nr of segments: 588\n",
        "      max segment nr: 587\n",
        "    missing segments: 0\n",
        "\n",
        "1375176603.Tue.Jul.30_09_30_03.GMT.2013.jvspeijk.c3.snap.segments.pkl:\n",
        "          resolution: 1392x1024\n",
        "                grid: 21x28\n",
        "      nr of segments: 588\n",
        "      max segment nr: 587\n",
        "    missing segments: 0\n",
        "\n",
        "1376049603.Fri.Aug.09_12_00_03.GMT.2013.jvspeijk.c3.snap.segments.pkl:\n",
        "          resolution: 1392x1024\n",
        "                grid: 21x28\n",
        "      nr of segments: 588\n",
        "      max segment nr: 587\n",
        "    missing segments: 0\n",
        "\n",
        "1378459808.Fri.Sep.06_09_30_08.UTC.2013.zandmotor.c8.snap.segments.pkl:\n",
        "          resolution: 2448x2032\n",
        "                grid: 22x27\n",
        "      nr of segments: 594\n",
        "      max segment nr: 593\n",
        "    missing segments: 0\n",
        "\n",
        "1373020205.Fri.Jul.05_10_30_05.UTC.2013.zandmotor.c5.snap.segments.pkl:\n",
        "          resolution: 2448x2032\n",
        "                grid: 22x27\n",
        "      nr of segments: 594\n",
        "      max segment nr: 593\n",
        "    missing segments: 0\n",
        "\n",
        "1378978205.Thu.Sep.12_09_30_05.GMT.2013.egmond.c5.snap.segments.pkl:\n",
        "          resolution: 1392x1024\n",
        "                grid: 21x28\n",
        "      nr of segments: 588\n",
        "      max segment nr: 587\n",
        "    missing segments: 0\n",
        "\n",
        "1371801605.Fri.Jun.21_08_00_05.GMT.2013.jvspeijk.c5.snap.segments.pkl:\n",
        "          resolution: 1392x1024\n",
        "                grid: 21x28\n",
        "      nr of segments: 588\n",
        "      max segment nr: 587\n",
        "    missing segments: 0\n",
        "\n",
        "1368091807.Thu.May.09_09_30_07.UTC.2013.zandmotor.c6.snap.segments.pkl:\n",
        "          resolution: 2448x2032\n",
        "                grid: 22x27\n",
        "      nr of segments: 594\n",
        "      max segment nr: 593\n",
        "    missing segments: 0\n",
        "\n",
        "1369042201.Mon.May.20_09_30_01.GMT.2013.jvspeijk.c1.snap.segments.pkl:\n",
        "          resolution: 1392x1024\n",
        "                grid: 21x28\n",
        "      nr of segments: 588\n",
        "      max segment nr: 587\n",
        "    missing segments: 0\n",
        "\n",
        "1378045803.Sun.Sep.01_14_30_03.GMT.2013.egmond.c2.snap.segments.pkl:\n",
        "          resolution: 1392x1024\n",
        "                grid: 21x28\n",
        "      nr of segments: 588\n",
        "      max segment nr: 587\n",
        "    missing segments: 0\n",
        "\n",
        "1378206005.Tue.Sep.03_11_00_05.UTC.2013.zandmotor.c8.snap.segments.pkl:\n",
        "          resolution: 2448x2032\n",
        "                grid: 22x27\n",
        "      nr of segments: 594\n",
        "      max segment nr: 593\n",
        "    missing segments: 0\n",
        "\n",
        "1369229402.Wed.May.22_13_30_02.GMT.2013.jvspeijk.c1.snap.segments.pkl:\n",
        "          resolution: 1392x1024\n",
        "                grid: 21x28\n",
        "      nr of segments: 588\n",
        "      max segment nr: 587\n",
        "    missing segments: 0\n",
        "\n",
        "1370426405.Wed.Jun.05_10_00_05.GMT.2013.egmond.c5.snap.segments.pkl:\n",
        "          resolution: 1392x1024\n",
        "                grid: 17x23\n",
        "      nr of segments: 391\n",
        "      max segment nr: 390\n",
        "    missing segments: 0\n",
        "\n",
        "1379682002.Fri.Sep.20_13_00_02.UTC.2013.zandmotor.c5.snap.segments.pkl:\n",
        "          resolution: 2448x2032\n",
        "                grid: 22x27\n",
        "      nr of segments: 594\n",
        "      max segment nr: 593\n",
        "    missing segments: 0\n",
        "\n",
        "1367404206.Wed.May.01_10_30_06.UTC.2013.zandmotor.c6.snap.segments.pkl:\n",
        "          resolution: 2448x2032\n",
        "                grid: 22x27\n",
        "      nr of segments: 594\n",
        "      max segment nr: 593\n",
        "    missing segments: 0\n",
        "\n",
        "1377095402.Wed.Aug.21_14_30_02.GMT.2013.egmond.c2.snap.segments.pkl:\n",
        "          resolution: 1392x1024\n",
        "                grid: 21x28\n",
        "      nr of segments: 588\n",
        "      max segment nr: 587\n",
        "    missing segments: 0\n",
        "\n",
        "1371560404.Tue.Jun.18_13_00_04.UTC.2013.zandmotor.c4.snap.segments.pkl:\n",
        "          resolution: 2448x2032\n",
        "                grid: 22x27\n",
        "      nr of segments: 594\n",
        "      max segment nr: 593\n",
        "    missing segments: 0\n",
        "\n",
        "1373889606.Mon.Jul.15_12_00_06.UTC.2013.zandmotor.c5.snap.segments.pkl:\n",
        "          resolution: 2448x2032\n",
        "                grid: 22x27\n",
        "      nr of segments: 594\n",
        "      max segment nr: 593\n",
        "    missing segments: 0\n",
        "\n",
        "1378800001.Tue.Sep.10_08_00_01.UTC.2013.zandmotor.c1.snap.segments.pkl:\n",
        "          resolution: 2448x2032\n",
        "                grid: 22x27\n",
        "      nr of segments: 594\n",
        "      max segment nr: 593\n",
        "    missing segments: 0\n",
        "\n",
        "1379750405.Sat.Sep.21_08_00_05.UTC.2013.kijkduin.c5.snap.segments.pkl:\n",
        "          resolution: 2448x2032\n",
        "                grid: 22x27\n",
        "      nr of segments: 594\n",
        "      max segment nr: 593\n",
        "    missing segments: 0\n",
        "\n",
        "1376049608.Fri.Aug.09_12_00_08.UTC.2013.zandmotor.c7.snap.segments.pkl:\n",
        "          resolution: 2448x2032\n",
        "                grid: 22x27\n",
        "      nr of segments: 594\n",
        "      max segment nr: 593\n",
        "    missing segments: 0\n",
        "\n",
        "1372669202.Mon.Jul.01_09_00_02.UTC.2013.zandmotor.c2.snap.segments.pkl:\n",
        "          resolution: 2448x2032\n",
        "                grid: 22x27\n",
        "      nr of segments: 594\n",
        "      max segment nr: 593\n",
        "    missing segments: 0\n",
        "\n",
        "1373551201.Thu.Jul.11_14_00_01.GMT.2013.jvspeijk.c1.snap.segments.pkl:\n",
        "          resolution: 1392x1024\n",
        "                grid: 21x28\n",
        "      nr of segments: 588\n",
        "      max segment nr: 587\n",
        "    missing segments: 0\n",
        "\n",
        "1371650402.Wed.Jun.19_14_00_02.GMT.2013.egmond.c1.snap.segments.pkl:\n",
        "          resolution: 1392x1024\n",
        "                grid: 21x28\n",
        "      nr of segments: 588\n",
        "      max segment nr: 587\n",
        "    missing segments: 0\n",
        "\n",
        "1378985401.Thu.Sep.12_11_30_01.UTC.2013.kijkduin.c1.snap.segments.pkl:\n",
        "          resolution: 2448x2032\n",
        "                grid: 22x27\n",
        "      nr of segments: 594\n",
        "      max segment nr: 593\n",
        "    missing segments: 0\n",
        "\n",
        "1375783202.Tue.Aug.06_10_00_02.GMT.2013.jvspeijk.c2.snap.segments.pkl:\n",
        "          resolution: 1392x1024\n",
        "                grid: 21x28\n",
        "      nr of segments: 588\n",
        "      max segment nr: 587\n",
        "    missing segments: 0\n",
        "\n",
        "1372069804.Mon.Jun.24_10_30_04.GMT.2013.jvspeijk.c4.snap.segments.pkl:\n",
        "          resolution: 1392x1024\n",
        "                grid: 21x28\n",
        "      nr of segments: 588\n",
        "      max segment nr: 587\n",
        "    missing segments: 0\n",
        "\n",
        "1371393002.Sun.Jun.16_14_30_02.UTC.2013.zandmotor.c2.snap.segments.pkl:\n",
        "          resolution: 2448x2032\n",
        "                grid: 22x27\n",
        "      nr of segments: 594\n",
        "      max segment nr: 593\n",
        "    missing segments: 0\n",
        "\n",
        "1375171206.Tue.Jul.30_08_00_06.UTC.2013.zandmotor.c6.snap.segments.pkl:\n",
        "          resolution: 2448x2032\n",
        "                grid: 22x27\n",
        "      nr of segments: 594\n",
        "      max segment nr: 593\n",
        "    missing segments: 0\n",
        "\n",
        "1378893604.Wed.Sep.11_10_00_04.GMT.2013.egmond.c3.snap.segments.pkl:\n",
        "          resolution: 1392x1024\n",
        "                grid: 21x28\n",
        "      nr of segments: 588\n",
        "      max segment nr: 587\n",
        "    missing segments: 0\n",
        "\n",
        "1377354602.Sat.Aug.24_14_30_02.UTC.2013.kijkduin.c2.snap.segments.pkl:\n",
        "          resolution: 2448x2032\n",
        "                grid: 22x27\n",
        "      nr of segments: 594\n",
        "      max segment nr: 593\n",
        "    missing segments: 0\n",
        "\n",
        "1380375002.Sat.Sep.28_13_30_02.GMT.2013.jvspeijk.c2.snap.segments.pkl:\n",
        "          resolution: 1392x1024\n",
        "                grid: 21x28\n",
        "      nr of segments: 588\n",
        "      max segment nr: 587\n",
        "    missing segments: 0\n",
        "\n",
        "1370775601.Sun.Jun.09_11_00_01.UTC.2013.zandmotor.c1.snap.segments.pkl:\n",
        "          resolution: 2448x2032\n",
        "                grid: 22x27\n",
        "      nr of segments: 594\n",
        "      max segment nr: 593\n",
        "    missing segments: 0\n",
        "\n",
        "1377513006.Mon.Aug.26_10_30_06.GMT.2013.jvspeijk.c5.snap.segments.pkl:\n",
        "          resolution: 1392x1024\n",
        "                grid: 21x28\n",
        "      nr of segments: 588\n",
        "      max segment nr: 587\n",
        "    missing segments: 0\n",
        "\n",
        "images with missing segments: 0\n",
        "\n"
       ]
      }
     ],
     "prompt_number": 5
    },
    {
     "cell_type": "code",
     "collapsed": false,
     "input": [],
     "language": "python",
     "metadata": {},
     "outputs": []
    }
   ],
   "metadata": {}
  }
 ]
}